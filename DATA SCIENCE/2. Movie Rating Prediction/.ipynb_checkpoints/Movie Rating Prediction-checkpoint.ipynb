{
 "cells": [
  {
   "cell_type": "markdown",
   "id": "50e81bcf-e4f7-4355-96ba-5e9c636f384d",
   "metadata": {},
   "source": [
    "# Movie Rating Prediction"
   ]
  },
  {
   "cell_type": "code",
   "execution_count": 805,
   "id": "8732836f-d213-4fcc-bc1c-36dc7c462f39",
   "metadata": {},
   "outputs": [],
   "source": [
    "import numpy as np\n",
    "import pandas as pd\n",
    "\n",
    "from sklearn.feature_extraction import FeatureHasher\n",
    "from sklearn.model_selection import train_test_split, KFold, cross_val_score\n",
    "from sklearn.preprocessing import LabelEncoder\n",
    "from sklearn.linear_model import LinearRegression\n",
    "from sklearn.ensemble import GradientBoostingRegressor\n",
    "from sklearn.metrics import mean_squared_error\n",
    "\n",
    "import tensorflow as tf\n",
    "from tensorflow.keras.models import Sequential\n",
    "from tensorflow.keras.layers import *;\n",
    "\n",
    "import locale"
   ]
  },
  {
   "cell_type": "markdown",
   "id": "b7171e8a-b496-4bbe-9137-10af5593fa56",
   "metadata": {
    "jp-MarkdownHeadingCollapsed": true
   },
   "source": [
    "## Importing the dataset and basic EDA"
   ]
  },
  {
   "cell_type": "code",
   "execution_count": 806,
   "id": "4084c895-a2d2-4623-af07-fe72ca69662c",
   "metadata": {},
   "outputs": [
    {
     "data": {
      "text/html": [
       "<div>\n",
       "<style scoped>\n",
       "    .dataframe tbody tr th:only-of-type {\n",
       "        vertical-align: middle;\n",
       "    }\n",
       "\n",
       "    .dataframe tbody tr th {\n",
       "        vertical-align: top;\n",
       "    }\n",
       "\n",
       "    .dataframe thead th {\n",
       "        text-align: right;\n",
       "    }\n",
       "</style>\n",
       "<table border=\"1\" class=\"dataframe\">\n",
       "  <thead>\n",
       "    <tr style=\"text-align: right;\">\n",
       "      <th></th>\n",
       "      <th>Name</th>\n",
       "      <th>Year</th>\n",
       "      <th>Duration</th>\n",
       "      <th>Genre</th>\n",
       "      <th>Rating</th>\n",
       "      <th>Votes</th>\n",
       "      <th>Director</th>\n",
       "      <th>Actor 1</th>\n",
       "      <th>Actor 2</th>\n",
       "      <th>Actor 3</th>\n",
       "    </tr>\n",
       "  </thead>\n",
       "  <tbody>\n",
       "    <tr>\n",
       "      <th>0</th>\n",
       "      <td></td>\n",
       "      <td>NaN</td>\n",
       "      <td>NaN</td>\n",
       "      <td>Drama</td>\n",
       "      <td>NaN</td>\n",
       "      <td>NaN</td>\n",
       "      <td>J.S. Randhawa</td>\n",
       "      <td>Manmauji</td>\n",
       "      <td>Birbal</td>\n",
       "      <td>Rajendra Bhatia</td>\n",
       "    </tr>\n",
       "    <tr>\n",
       "      <th>1</th>\n",
       "      <td>#Gadhvi (He thought he was Gandhi)</td>\n",
       "      <td>(2019)</td>\n",
       "      <td>109 min</td>\n",
       "      <td>Drama</td>\n",
       "      <td>7.0</td>\n",
       "      <td>8</td>\n",
       "      <td>Gaurav Bakshi</td>\n",
       "      <td>Rasika Dugal</td>\n",
       "      <td>Vivek Ghamande</td>\n",
       "      <td>Arvind Jangid</td>\n",
       "    </tr>\n",
       "    <tr>\n",
       "      <th>2</th>\n",
       "      <td>#Homecoming</td>\n",
       "      <td>(2021)</td>\n",
       "      <td>90 min</td>\n",
       "      <td>Drama, Musical</td>\n",
       "      <td>NaN</td>\n",
       "      <td>NaN</td>\n",
       "      <td>Soumyajit Majumdar</td>\n",
       "      <td>Sayani Gupta</td>\n",
       "      <td>Plabita Borthakur</td>\n",
       "      <td>Roy Angana</td>\n",
       "    </tr>\n",
       "    <tr>\n",
       "      <th>3</th>\n",
       "      <td>#Yaaram</td>\n",
       "      <td>(2019)</td>\n",
       "      <td>110 min</td>\n",
       "      <td>Comedy, Romance</td>\n",
       "      <td>4.4</td>\n",
       "      <td>35</td>\n",
       "      <td>Ovais Khan</td>\n",
       "      <td>Prateik</td>\n",
       "      <td>Ishita Raj</td>\n",
       "      <td>Siddhant Kapoor</td>\n",
       "    </tr>\n",
       "    <tr>\n",
       "      <th>4</th>\n",
       "      <td>...And Once Again</td>\n",
       "      <td>(2010)</td>\n",
       "      <td>105 min</td>\n",
       "      <td>Drama</td>\n",
       "      <td>NaN</td>\n",
       "      <td>NaN</td>\n",
       "      <td>Amol Palekar</td>\n",
       "      <td>Rajat Kapoor</td>\n",
       "      <td>Rituparna Sengupta</td>\n",
       "      <td>Antara Mali</td>\n",
       "    </tr>\n",
       "  </tbody>\n",
       "</table>\n",
       "</div>"
      ],
      "text/plain": [
       "                                 Name    Year Duration            Genre  \\\n",
       "0                                         NaN      NaN            Drama   \n",
       "1  #Gadhvi (He thought he was Gandhi)  (2019)  109 min            Drama   \n",
       "2                         #Homecoming  (2021)   90 min   Drama, Musical   \n",
       "3                             #Yaaram  (2019)  110 min  Comedy, Romance   \n",
       "4                   ...And Once Again  (2010)  105 min            Drama   \n",
       "\n",
       "   Rating Votes            Director       Actor 1             Actor 2  \\\n",
       "0     NaN   NaN       J.S. Randhawa      Manmauji              Birbal   \n",
       "1     7.0     8       Gaurav Bakshi  Rasika Dugal      Vivek Ghamande   \n",
       "2     NaN   NaN  Soumyajit Majumdar  Sayani Gupta   Plabita Borthakur   \n",
       "3     4.4    35          Ovais Khan       Prateik          Ishita Raj   \n",
       "4     NaN   NaN        Amol Palekar  Rajat Kapoor  Rituparna Sengupta   \n",
       "\n",
       "           Actor 3  \n",
       "0  Rajendra Bhatia  \n",
       "1    Arvind Jangid  \n",
       "2       Roy Angana  \n",
       "3  Siddhant Kapoor  \n",
       "4      Antara Mali  "
      ]
     },
     "execution_count": 806,
     "metadata": {},
     "output_type": "execute_result"
    }
   ],
   "source": [
    "df = pd.read_csv(\"IMDb Movies India.csv\", encoding=locale.getpreferredencoding())\n",
    "df.head()"
   ]
  },
  {
   "cell_type": "code",
   "execution_count": 807,
   "id": "5bdecc1a-d399-4af8-a258-c6614cbf43e0",
   "metadata": {},
   "outputs": [
    {
     "data": {
      "text/plain": [
       "(15509, 10)"
      ]
     },
     "execution_count": 807,
     "metadata": {},
     "output_type": "execute_result"
    }
   ],
   "source": [
    "df.shape"
   ]
  },
  {
   "cell_type": "code",
   "execution_count": 808,
   "id": "82bc3562-dc1c-4ce6-ac95-3bcaee44f3a7",
   "metadata": {},
   "outputs": [
    {
     "data": {
      "text/plain": [
       "6"
      ]
     },
     "execution_count": 808,
     "metadata": {},
     "output_type": "execute_result"
    }
   ],
   "source": [
    "# Duplicated entries\n",
    "df.duplicated().sum()"
   ]
  },
  {
   "cell_type": "code",
   "execution_count": 809,
   "id": "f4471cc2-9670-4b1d-8776-39995719ccae",
   "metadata": {},
   "outputs": [
    {
     "data": {
      "text/plain": [
       "(15503, 10)"
      ]
     },
     "execution_count": 809,
     "metadata": {},
     "output_type": "execute_result"
    }
   ],
   "source": [
    "# Removing duplicates\n",
    "df = df.drop_duplicates()\n",
    "df.shape"
   ]
  },
  {
   "cell_type": "code",
   "execution_count": 810,
   "id": "b3ca0a2e-ac94-4b68-8c3d-b4fb05b1b20a",
   "metadata": {},
   "outputs": [
    {
     "data": {
      "text/plain": [
       "Name        False\n",
       "Year         True\n",
       "Duration     True\n",
       "Genre        True\n",
       "Rating       True\n",
       "Votes        True\n",
       "Director     True\n",
       "Actor 1      True\n",
       "Actor 2      True\n",
       "Actor 3      True\n",
       "dtype: bool"
      ]
     },
     "execution_count": 810,
     "metadata": {},
     "output_type": "execute_result"
    }
   ],
   "source": [
    "# Attributes with null values\n",
    "df.isnull().any()"
   ]
  },
  {
   "cell_type": "code",
   "execution_count": 811,
   "id": "b51ae24d-1575-415b-a967-02fcdb544edc",
   "metadata": {},
   "outputs": [
    {
     "data": {
      "text/plain": [
       "Name           0\n",
       "Year         527\n",
       "Duration    8264\n",
       "Genre       1876\n",
       "Rating      7584\n",
       "Votes       7583\n",
       "Director     524\n",
       "Actor 1     1615\n",
       "Actor 2     2381\n",
       "Actor 3     3140\n",
       "dtype: int64"
      ]
     },
     "execution_count": 811,
     "metadata": {},
     "output_type": "execute_result"
    }
   ],
   "source": [
    "# Null values\n",
    "df.isnull().sum()"
   ]
  },
  {
   "cell_type": "markdown",
   "id": "34d92d61-b39c-4cba-b034-2b7f1703099d",
   "metadata": {},
   "source": [
    "There are a lot of null values. Filling up these many null entries may mislead us in our prediction. So, keeping them as it is for now."
   ]
  },
  {
   "cell_type": "markdown",
   "id": "c7c51b36-b9b0-4f23-b252-5512c78017f6",
   "metadata": {
    "jp-MarkdownHeadingCollapsed": true
   },
   "source": [
    "## Preprocessing"
   ]
  },
  {
   "cell_type": "markdown",
   "id": "c1e3dd21-ac89-4a01-9909-7647d2985c68",
   "metadata": {},
   "source": [
    "The data exploration grabbed my concentration towards the three attributes - Actor 1, Actor 2 and Actor 3. <br>\n",
    "It is possible that the same actor is in \"Actor 1\" attribute in some entry, and \"Actor 2\" in some other entry. <br>\n",
    "Having them split into three attributes won't let us explore the actor effectively. <br>\n",
    "This gives us an instinct that the actors must be brought into same column somehow. <br>\n",
    "\n",
    "I'm trying to concatenate the actors into a string separated by commas.\n",
    "\n",
    "**Approach 1: String Concatenation with '+' operator**"
   ]
  },
  {
   "cell_type": "code",
   "execution_count": 812,
   "id": "53b3897e-aef5-4b8e-86f9-9d7de956fd5d",
   "metadata": {},
   "outputs": [
    {
     "data": {
      "text/plain": [
       "0                     Manmauji, Birbal, Rajendra Bhatia\n",
       "1           Rasika Dugal, Vivek Ghamande, Arvind Jangid\n",
       "2           Sayani Gupta, Plabita Borthakur, Roy Angana\n",
       "3                  Prateik, Ishita Raj, Siddhant Kapoor\n",
       "4         Rajat Kapoor, Rituparna Sengupta, Antara Mali\n",
       "                              ...                      \n",
       "15504    Naseeruddin Shah, Sumeet Saigal, Suparna Anand\n",
       "15505         Akshay Kumar, Twinkle Khanna, Aruna Irani\n",
       "15506                                               NaN\n",
       "15507                                               NaN\n",
       "15508               Dharmendra, Jaya Prada, Arjun Sarja\n",
       "Length: 15503, dtype: object"
      ]
     },
     "execution_count": 812,
     "metadata": {},
     "output_type": "execute_result"
    }
   ],
   "source": [
    "df['Actor 1'] + \", \" + df['Actor 2'] + \", \" + df['Actor 3']"
   ]
  },
  {
   "cell_type": "markdown",
   "id": "d447ba4f-5111-4959-b760-39f183085431",
   "metadata": {},
   "source": [
    "<br><br>\n",
    "The above method works but it brings NaN as output even if one actor column is a NaN. <br>\n",
    "This is not fair. We have to bring up a strategy by which we can fetch every non-null actor into consideration. <br>\n",
    "So, we need to check whether the entry is null or not before concatenating. How about the below method? <br>\n",
    "\n",
    "**Approach 2: Joining List of non-null Actors with Delimiter**"
   ]
  },
  {
   "cell_type": "code",
   "execution_count": 813,
   "id": "992a11e1-368a-486a-99bd-1f923d95ec56",
   "metadata": {},
   "outputs": [
    {
     "data": {
      "text/html": [
       "<div>\n",
       "<style scoped>\n",
       "    .dataframe tbody tr th:only-of-type {\n",
       "        vertical-align: middle;\n",
       "    }\n",
       "\n",
       "    .dataframe tbody tr th {\n",
       "        vertical-align: top;\n",
       "    }\n",
       "\n",
       "    .dataframe thead th {\n",
       "        text-align: right;\n",
       "    }\n",
       "</style>\n",
       "<table border=\"1\" class=\"dataframe\">\n",
       "  <thead>\n",
       "    <tr style=\"text-align: right;\">\n",
       "      <th></th>\n",
       "      <th>Name</th>\n",
       "      <th>Year</th>\n",
       "      <th>Duration</th>\n",
       "      <th>Genre</th>\n",
       "      <th>Rating</th>\n",
       "      <th>Votes</th>\n",
       "      <th>Director</th>\n",
       "      <th>Actor 1</th>\n",
       "      <th>Actor 2</th>\n",
       "      <th>Actor 3</th>\n",
       "      <th>Actors</th>\n",
       "    </tr>\n",
       "  </thead>\n",
       "  <tbody>\n",
       "    <tr>\n",
       "      <th>0</th>\n",
       "      <td></td>\n",
       "      <td>NaN</td>\n",
       "      <td>NaN</td>\n",
       "      <td>Drama</td>\n",
       "      <td>NaN</td>\n",
       "      <td>NaN</td>\n",
       "      <td>J.S. Randhawa</td>\n",
       "      <td>Manmauji</td>\n",
       "      <td>Birbal</td>\n",
       "      <td>Rajendra Bhatia</td>\n",
       "      <td>Manmauji, Birbal, Rajendra Bhatia</td>\n",
       "    </tr>\n",
       "    <tr>\n",
       "      <th>1</th>\n",
       "      <td>#Gadhvi (He thought he was Gandhi)</td>\n",
       "      <td>(2019)</td>\n",
       "      <td>109 min</td>\n",
       "      <td>Drama</td>\n",
       "      <td>7.0</td>\n",
       "      <td>8</td>\n",
       "      <td>Gaurav Bakshi</td>\n",
       "      <td>Rasika Dugal</td>\n",
       "      <td>Vivek Ghamande</td>\n",
       "      <td>Arvind Jangid</td>\n",
       "      <td>Rasika Dugal, Vivek Ghamande, Arvind Jangid</td>\n",
       "    </tr>\n",
       "    <tr>\n",
       "      <th>2</th>\n",
       "      <td>#Homecoming</td>\n",
       "      <td>(2021)</td>\n",
       "      <td>90 min</td>\n",
       "      <td>Drama, Musical</td>\n",
       "      <td>NaN</td>\n",
       "      <td>NaN</td>\n",
       "      <td>Soumyajit Majumdar</td>\n",
       "      <td>Sayani Gupta</td>\n",
       "      <td>Plabita Borthakur</td>\n",
       "      <td>Roy Angana</td>\n",
       "      <td>Sayani Gupta, Plabita Borthakur, Roy Angana</td>\n",
       "    </tr>\n",
       "    <tr>\n",
       "      <th>3</th>\n",
       "      <td>#Yaaram</td>\n",
       "      <td>(2019)</td>\n",
       "      <td>110 min</td>\n",
       "      <td>Comedy, Romance</td>\n",
       "      <td>4.4</td>\n",
       "      <td>35</td>\n",
       "      <td>Ovais Khan</td>\n",
       "      <td>Prateik</td>\n",
       "      <td>Ishita Raj</td>\n",
       "      <td>Siddhant Kapoor</td>\n",
       "      <td>Prateik, Ishita Raj, Siddhant Kapoor</td>\n",
       "    </tr>\n",
       "    <tr>\n",
       "      <th>4</th>\n",
       "      <td>...And Once Again</td>\n",
       "      <td>(2010)</td>\n",
       "      <td>105 min</td>\n",
       "      <td>Drama</td>\n",
       "      <td>NaN</td>\n",
       "      <td>NaN</td>\n",
       "      <td>Amol Palekar</td>\n",
       "      <td>Rajat Kapoor</td>\n",
       "      <td>Rituparna Sengupta</td>\n",
       "      <td>Antara Mali</td>\n",
       "      <td>Rajat Kapoor, Rituparna Sengupta, Antara Mali</td>\n",
       "    </tr>\n",
       "  </tbody>\n",
       "</table>\n",
       "</div>"
      ],
      "text/plain": [
       "                                 Name    Year Duration            Genre  \\\n",
       "0                                         NaN      NaN            Drama   \n",
       "1  #Gadhvi (He thought he was Gandhi)  (2019)  109 min            Drama   \n",
       "2                         #Homecoming  (2021)   90 min   Drama, Musical   \n",
       "3                             #Yaaram  (2019)  110 min  Comedy, Romance   \n",
       "4                   ...And Once Again  (2010)  105 min            Drama   \n",
       "\n",
       "   Rating Votes            Director       Actor 1             Actor 2  \\\n",
       "0     NaN   NaN       J.S. Randhawa      Manmauji              Birbal   \n",
       "1     7.0     8       Gaurav Bakshi  Rasika Dugal      Vivek Ghamande   \n",
       "2     NaN   NaN  Soumyajit Majumdar  Sayani Gupta   Plabita Borthakur   \n",
       "3     4.4    35          Ovais Khan       Prateik          Ishita Raj   \n",
       "4     NaN   NaN        Amol Palekar  Rajat Kapoor  Rituparna Sengupta   \n",
       "\n",
       "           Actor 3                                         Actors  \n",
       "0  Rajendra Bhatia              Manmauji, Birbal, Rajendra Bhatia  \n",
       "1    Arvind Jangid    Rasika Dugal, Vivek Ghamande, Arvind Jangid  \n",
       "2       Roy Angana    Sayani Gupta, Plabita Borthakur, Roy Angana  \n",
       "3  Siddhant Kapoor           Prateik, Ishita Raj, Siddhant Kapoor  \n",
       "4      Antara Mali  Rajat Kapoor, Rituparna Sengupta, Antara Mali  "
      ]
     },
     "execution_count": 813,
     "metadata": {},
     "output_type": "execute_result"
    }
   ],
   "source": [
    "def concatenate_actors(row):\n",
    "    actors = [actor for actor in row if pd.notnull(actor)]\n",
    "    return ', '.join(actors)\n",
    "df['Actors'] = df[['Actor 1', 'Actor 2','Actor 3']].apply(concatenate_actors, axis=1)\n",
    "df.head()"
   ]
  },
  {
   "cell_type": "markdown",
   "id": "3209bc00-3884-4b84-9f7f-8c8189dc959a",
   "metadata": {},
   "source": [
    "<br><br>Yes, this method seem to perform exactly what we expected. <br>\n",
    "As you can see, in 15506 only \"Sangeeta Tiwari\" is shown, which means only one entry is non-null. <br>\n",
    "But this cannot be fed into a model. The model will consider the whole string as a single entity. <br>\n",
    "The model will fail to understand that it consists of  three names. And, it will fail to match the same person if found again. <br>\n",
    "So we have to somehow bring each actor as separate entity. <br>\n",
    "\n",
    "**Approach 1: One-Hot Encoding**"
   ]
  },
  {
   "cell_type": "code",
   "execution_count": 814,
   "id": "d832bde3-3140-4f73-9674-4e868c04a674",
   "metadata": {},
   "outputs": [],
   "source": [
    "mySet = set()\n",
    "for row in df['Actors']:\n",
    "    for actor in row.split(', '):\n",
    "        mySet.add(actor)"
   ]
  },
  {
   "cell_type": "code",
   "execution_count": 815,
   "id": "fca0fe1d-06d1-4a5e-b759-9897cac19d15",
   "metadata": {},
   "outputs": [
    {
     "data": {
      "text/plain": [
       "10289"
      ]
     },
     "execution_count": 815,
     "metadata": {},
     "output_type": "execute_result"
    }
   ],
   "source": [
    "len(mySet)"
   ]
  },
  {
   "cell_type": "markdown",
   "id": "4d3ac464-1f60-4a8d-80d7-e5d3f4aeddd7",
   "metadata": {},
   "source": [
    "<br>So, this shows that there are 10289 unique actors in the dataset.<br>\n",
    "Adopting the approach of one-hot encoding will need us to create 10289 unique attributes, which doesn't sound good. <br>\n",
    "\n",
    "**Approach 2: Label Encoding** <br>\n",
    "Just after our intuition of one-hot encoding, many would think LabelEncoder would make the job easier, because they don't need column creation at all. <br>\n",
    "But they also possess some problems here. <br>\n",
    "- LabelEncoder will assign a number for each actor. This means it has to assign for 10289 actors, increasing the output dimensionality.\n",
    "- Also, each row will yield three numbers, one for each actor. Handling these three numbers will lead to same issue.\n",
    "\n",
    "So, Label Encoding is also not a good idea here.\n",
    "\n",
    "<br>\n",
    "\n",
    "**Approach 3: Feature Hashing** <br>\n",
    "This approach incorporates the concept of Hashing to perform dimensionality reduction"
   ]
  },
  {
   "cell_type": "code",
   "execution_count": 816,
   "id": "974a253b-8bb6-4b3f-b74c-621063a06d55",
   "metadata": {},
   "outputs": [
    {
     "data": {
      "text/html": [
       "<div>\n",
       "<style scoped>\n",
       "    .dataframe tbody tr th:only-of-type {\n",
       "        vertical-align: middle;\n",
       "    }\n",
       "\n",
       "    .dataframe tbody tr th {\n",
       "        vertical-align: top;\n",
       "    }\n",
       "\n",
       "    .dataframe thead th {\n",
       "        text-align: right;\n",
       "    }\n",
       "</style>\n",
       "<table border=\"1\" class=\"dataframe\">\n",
       "  <thead>\n",
       "    <tr style=\"text-align: right;\">\n",
       "      <th></th>\n",
       "      <th>0</th>\n",
       "      <th>1</th>\n",
       "      <th>2</th>\n",
       "      <th>3</th>\n",
       "      <th>4</th>\n",
       "      <th>5</th>\n",
       "      <th>6</th>\n",
       "      <th>7</th>\n",
       "      <th>8</th>\n",
       "      <th>9</th>\n",
       "    </tr>\n",
       "  </thead>\n",
       "  <tbody>\n",
       "    <tr>\n",
       "      <th>0</th>\n",
       "      <td>1.0</td>\n",
       "      <td>-1.0</td>\n",
       "      <td>0.0</td>\n",
       "      <td>0.0</td>\n",
       "      <td>0.0</td>\n",
       "      <td>0.0</td>\n",
       "      <td>0.0</td>\n",
       "      <td>0.0</td>\n",
       "      <td>-1.0</td>\n",
       "      <td>0.0</td>\n",
       "    </tr>\n",
       "    <tr>\n",
       "      <th>1</th>\n",
       "      <td>0.0</td>\n",
       "      <td>0.0</td>\n",
       "      <td>1.0</td>\n",
       "      <td>0.0</td>\n",
       "      <td>1.0</td>\n",
       "      <td>-1.0</td>\n",
       "      <td>0.0</td>\n",
       "      <td>0.0</td>\n",
       "      <td>0.0</td>\n",
       "      <td>0.0</td>\n",
       "    </tr>\n",
       "    <tr>\n",
       "      <th>2</th>\n",
       "      <td>0.0</td>\n",
       "      <td>0.0</td>\n",
       "      <td>0.0</td>\n",
       "      <td>0.0</td>\n",
       "      <td>1.0</td>\n",
       "      <td>0.0</td>\n",
       "      <td>0.0</td>\n",
       "      <td>-1.0</td>\n",
       "      <td>0.0</td>\n",
       "      <td>-1.0</td>\n",
       "    </tr>\n",
       "    <tr>\n",
       "      <th>3</th>\n",
       "      <td>-1.0</td>\n",
       "      <td>0.0</td>\n",
       "      <td>-1.0</td>\n",
       "      <td>0.0</td>\n",
       "      <td>-1.0</td>\n",
       "      <td>0.0</td>\n",
       "      <td>0.0</td>\n",
       "      <td>0.0</td>\n",
       "      <td>0.0</td>\n",
       "      <td>0.0</td>\n",
       "    </tr>\n",
       "    <tr>\n",
       "      <th>4</th>\n",
       "      <td>0.0</td>\n",
       "      <td>0.0</td>\n",
       "      <td>1.0</td>\n",
       "      <td>0.0</td>\n",
       "      <td>1.0</td>\n",
       "      <td>0.0</td>\n",
       "      <td>0.0</td>\n",
       "      <td>0.0</td>\n",
       "      <td>0.0</td>\n",
       "      <td>-1.0</td>\n",
       "    </tr>\n",
       "  </tbody>\n",
       "</table>\n",
       "</div>"
      ],
      "text/plain": [
       "     0    1    2    3    4    5    6    7    8    9\n",
       "0  1.0 -1.0  0.0  0.0  0.0  0.0  0.0  0.0 -1.0  0.0\n",
       "1  0.0  0.0  1.0  0.0  1.0 -1.0  0.0  0.0  0.0  0.0\n",
       "2  0.0  0.0  0.0  0.0  1.0  0.0  0.0 -1.0  0.0 -1.0\n",
       "3 -1.0  0.0 -1.0  0.0 -1.0  0.0  0.0  0.0  0.0  0.0\n",
       "4  0.0  0.0  1.0  0.0  1.0  0.0  0.0  0.0  0.0 -1.0"
      ]
     },
     "execution_count": 816,
     "metadata": {},
     "output_type": "execute_result"
    }
   ],
   "source": [
    "hasher = FeatureHasher(n_features=10, input_type='string')\n",
    "hashed_actors = hasher.transform([x.split(', ') for x in df['Actors']])\n",
    "actors_df = pd.DataFrame(hashed_actors.toarray())\n",
    "actors_df.head()"
   ]
  },
  {
   "cell_type": "code",
   "execution_count": 817,
   "id": "27cfd433-a093-439c-bbac-8bb4e417f977",
   "metadata": {},
   "outputs": [
    {
     "data": {
      "text/plain": [
       "(15503, 10)"
      ]
     },
     "execution_count": 817,
     "metadata": {},
     "output_type": "execute_result"
    }
   ],
   "source": [
    "actors_df.shape"
   ]
  },
  {
   "cell_type": "markdown",
   "id": "15f84324-e570-4f29-8131-8e446f6bfa9a",
   "metadata": {},
   "source": [
    "Before proceeding further, the missing values must be filled.\n",
    "\n",
    "<br>**Handling Missing Values and Preprocessing** <br>\n",
    "\n",
    "\"Year\" attribute:"
   ]
  },
  {
   "cell_type": "code",
   "execution_count": 818,
   "id": "1134b2bc-eec8-4152-aec7-ab693b0d8822",
   "metadata": {},
   "outputs": [
    {
     "data": {
      "text/plain": [
       "Name           0\n",
       "Year         527\n",
       "Duration    8264\n",
       "Genre       1876\n",
       "Rating      7584\n",
       "Votes       7583\n",
       "Director     524\n",
       "Actor 1     1615\n",
       "Actor 2     2381\n",
       "Actor 3     3140\n",
       "Actors         0\n",
       "dtype: int64"
      ]
     },
     "execution_count": 818,
     "metadata": {},
     "output_type": "execute_result"
    }
   ],
   "source": [
    "df.isnull().sum()"
   ]
  },
  {
   "cell_type": "code",
   "execution_count": 819,
   "id": "44598fc7-9fa2-4b6a-860c-17884ebc8175",
   "metadata": {},
   "outputs": [
    {
     "data": {
      "text/plain": [
       "1987"
      ]
     },
     "execution_count": 819,
     "metadata": {},
     "output_type": "execute_result"
    }
   ],
   "source": [
    "# Retrieving non-null values of year\n",
    "not_null = df['Year'][df['Year'].notnull()]\n",
    "\n",
    "# Removing the open and close brackets\n",
    "remove_brackets= not_null.str.replace('(', '').str.replace(')', '')\n",
    "\n",
    "# Converting year: string into int\n",
    "int_years = remove_brackets.astype(np.int32)\n",
    "\n",
    "# Computing mean year\n",
    "mean_year = int(int_years.mean())\n",
    "mean_year"
   ]
  },
  {
   "cell_type": "code",
   "execution_count": 820,
   "id": "f3bb70b5-0c98-414d-9474-48f0ec168ad6",
   "metadata": {},
   "outputs": [
    {
     "data": {
      "text/plain": [
       "0        1987\n",
       "1        2019\n",
       "2        2021\n",
       "3        2019\n",
       "4        2010\n",
       "         ... \n",
       "15504    1988\n",
       "15505    1999\n",
       "15506    2005\n",
       "15507    1988\n",
       "15508    1998\n",
       "Name: Year, Length: 15503, dtype: int32"
      ]
     },
     "execution_count": 820,
     "metadata": {},
     "output_type": "execute_result"
    }
   ],
   "source": [
    "# Filling mean year in place of null\n",
    "\n",
    "df['Year'] = df['Year'].str.replace('(', '').str.replace(')', '')\n",
    "df['Year'] = df['Year'].fillna(mean_year)\n",
    "df['Year'] = df['Year'].astype(np.int32)\n",
    "df['Year']"
   ]
  },
  {
   "cell_type": "markdown",
   "id": "5ede2d6a-e3b5-4e46-9d75-38656bcd8a7f",
   "metadata": {},
   "source": [
    "<br>Preprocessing the \"Duration\" attribute:"
   ]
  },
  {
   "cell_type": "code",
   "execution_count": 821,
   "id": "f425344c-2bc4-49f4-933f-e80f0e568b27",
   "metadata": {},
   "outputs": [
    {
     "data": {
      "text/plain": [
       "0            NaN\n",
       "1        109 min\n",
       "2         90 min\n",
       "3        110 min\n",
       "4        105 min\n",
       "          ...   \n",
       "15504        NaN\n",
       "15505    129 min\n",
       "15506        NaN\n",
       "15507        NaN\n",
       "15508    130 min\n",
       "Name: Duration, Length: 15503, dtype: object"
      ]
     },
     "execution_count": 821,
     "metadata": {},
     "output_type": "execute_result"
    }
   ],
   "source": [
    "df['Duration']"
   ]
  },
  {
   "cell_type": "code",
   "execution_count": 822,
   "id": "8fd77bb1-35f2-4757-a103-f4f13bae0840",
   "metadata": {},
   "outputs": [
    {
     "data": {
      "text/plain": [
       "0        NaN\n",
       "1        109\n",
       "2         90\n",
       "3        110\n",
       "4        105\n",
       "        ... \n",
       "15504    NaN\n",
       "15505    129\n",
       "15506    NaN\n",
       "15507    NaN\n",
       "15508    130\n",
       "Name: Duration, Length: 15503, dtype: object"
      ]
     },
     "execution_count": 822,
     "metadata": {},
     "output_type": "execute_result"
    }
   ],
   "source": [
    "replaced_duration = df['Duration'].str.replace(\" min\", \"\")\n",
    "replaced_duration"
   ]
  },
  {
   "cell_type": "code",
   "execution_count": 823,
   "id": "950cb827-4a7d-4633-9fae-8ea63848af4a",
   "metadata": {},
   "outputs": [
    {
     "data": {
      "text/plain": [
       "128"
      ]
     },
     "execution_count": 823,
     "metadata": {},
     "output_type": "execute_result"
    }
   ],
   "source": [
    "mean_duration = int(replaced_duration[replaced_duration.notnull()].astype(np.int32).mean())\n",
    "mean_duration"
   ]
  },
  {
   "cell_type": "code",
   "execution_count": 824,
   "id": "eda190d2-3439-40fa-95f7-103bccbf8d05",
   "metadata": {},
   "outputs": [
    {
     "data": {
      "text/plain": [
       "0        128\n",
       "1        109\n",
       "2         90\n",
       "3        110\n",
       "4        105\n",
       "        ... \n",
       "15504    128\n",
       "15505    129\n",
       "15506    128\n",
       "15507    128\n",
       "15508    130\n",
       "Name: Duration, Length: 15503, dtype: object"
      ]
     },
     "execution_count": 824,
     "metadata": {},
     "output_type": "execute_result"
    }
   ],
   "source": [
    "df['Duration'] = replaced_duration.fillna(mean_duration)\n",
    "df['Duration']"
   ]
  },
  {
   "cell_type": "markdown",
   "id": "02a33aca-9eca-43e1-80b2-fb6e17400afa",
   "metadata": {},
   "source": [
    "<br>Preprocessing the \"Genre\" attribute"
   ]
  },
  {
   "cell_type": "code",
   "execution_count": 825,
   "id": "64804f1a-3d18-4d79-93a1-3f0487e6a4e7",
   "metadata": {},
   "outputs": [
    {
     "data": {
      "text/plain": [
       "1876"
      ]
     },
     "execution_count": 825,
     "metadata": {},
     "output_type": "execute_result"
    }
   ],
   "source": [
    "df['Genre'].isnull().sum()"
   ]
  },
  {
   "cell_type": "code",
   "execution_count": 826,
   "id": "dba090ec-1c7e-44d8-9cfa-bac7d31fbb24",
   "metadata": {},
   "outputs": [
    {
     "data": {
      "text/plain": [
       "0                  Drama\n",
       "1                  Drama\n",
       "2         Drama, Musical\n",
       "3        Comedy, Romance\n",
       "4                  Drama\n",
       "              ...       \n",
       "15504             Action\n",
       "15505      Action, Drama\n",
       "15506             Action\n",
       "15507             Action\n",
       "15508      Action, Drama\n",
       "Name: Genre, Length: 15503, dtype: object"
      ]
     },
     "execution_count": 826,
     "metadata": {},
     "output_type": "execute_result"
    }
   ],
   "source": [
    "df['Genre']"
   ]
  },
  {
   "cell_type": "markdown",
   "id": "70304c4a-03ac-4fc4-b852-0b9b844bc951",
   "metadata": {},
   "source": [
    "<br>As we can see, \"Genre\" has to be treated in a very similar approach of how we treated the \"Actors\". <br>\n",
    "We can see that these have multiple values for single entry, varying no of values for a single entry, and sometimes holds NaN as well. <br>\n",
    "So, let's convert NaN with empty string and use FeatureHasing approach here."
   ]
  },
  {
   "cell_type": "code",
   "execution_count": 827,
   "id": "f49f4f94-1b53-4c0f-8cfb-bf8ea1b456a9",
   "metadata": {},
   "outputs": [],
   "source": [
    "df[\"Genre\"] = df['Genre'].fillna(\"\")"
   ]
  },
  {
   "cell_type": "code",
   "execution_count": 828,
   "id": "1644da0b-146b-47f3-8170-0079c5af88e7",
   "metadata": {},
   "outputs": [
    {
     "data": {
      "text/html": [
       "<div>\n",
       "<style scoped>\n",
       "    .dataframe tbody tr th:only-of-type {\n",
       "        vertical-align: middle;\n",
       "    }\n",
       "\n",
       "    .dataframe tbody tr th {\n",
       "        vertical-align: top;\n",
       "    }\n",
       "\n",
       "    .dataframe thead th {\n",
       "        text-align: right;\n",
       "    }\n",
       "</style>\n",
       "<table border=\"1\" class=\"dataframe\">\n",
       "  <thead>\n",
       "    <tr style=\"text-align: right;\">\n",
       "      <th></th>\n",
       "      <th>0</th>\n",
       "      <th>1</th>\n",
       "      <th>2</th>\n",
       "      <th>3</th>\n",
       "      <th>4</th>\n",
       "      <th>5</th>\n",
       "      <th>6</th>\n",
       "      <th>7</th>\n",
       "      <th>8</th>\n",
       "      <th>9</th>\n",
       "    </tr>\n",
       "  </thead>\n",
       "  <tbody>\n",
       "    <tr>\n",
       "      <th>0</th>\n",
       "      <td>0.0</td>\n",
       "      <td>0.0</td>\n",
       "      <td>0.0</td>\n",
       "      <td>0.0</td>\n",
       "      <td>0.0</td>\n",
       "      <td>1.0</td>\n",
       "      <td>0.0</td>\n",
       "      <td>0.0</td>\n",
       "      <td>0.0</td>\n",
       "      <td>0.0</td>\n",
       "    </tr>\n",
       "    <tr>\n",
       "      <th>1</th>\n",
       "      <td>0.0</td>\n",
       "      <td>0.0</td>\n",
       "      <td>0.0</td>\n",
       "      <td>0.0</td>\n",
       "      <td>0.0</td>\n",
       "      <td>1.0</td>\n",
       "      <td>0.0</td>\n",
       "      <td>0.0</td>\n",
       "      <td>0.0</td>\n",
       "      <td>0.0</td>\n",
       "    </tr>\n",
       "    <tr>\n",
       "      <th>2</th>\n",
       "      <td>0.0</td>\n",
       "      <td>0.0</td>\n",
       "      <td>0.0</td>\n",
       "      <td>0.0</td>\n",
       "      <td>0.0</td>\n",
       "      <td>1.0</td>\n",
       "      <td>0.0</td>\n",
       "      <td>0.0</td>\n",
       "      <td>0.0</td>\n",
       "      <td>1.0</td>\n",
       "    </tr>\n",
       "    <tr>\n",
       "      <th>3</th>\n",
       "      <td>0.0</td>\n",
       "      <td>0.0</td>\n",
       "      <td>0.0</td>\n",
       "      <td>0.0</td>\n",
       "      <td>0.0</td>\n",
       "      <td>0.0</td>\n",
       "      <td>1.0</td>\n",
       "      <td>0.0</td>\n",
       "      <td>0.0</td>\n",
       "      <td>-1.0</td>\n",
       "    </tr>\n",
       "    <tr>\n",
       "      <th>4</th>\n",
       "      <td>0.0</td>\n",
       "      <td>0.0</td>\n",
       "      <td>0.0</td>\n",
       "      <td>0.0</td>\n",
       "      <td>0.0</td>\n",
       "      <td>1.0</td>\n",
       "      <td>0.0</td>\n",
       "      <td>0.0</td>\n",
       "      <td>0.0</td>\n",
       "      <td>0.0</td>\n",
       "    </tr>\n",
       "  </tbody>\n",
       "</table>\n",
       "</div>"
      ],
      "text/plain": [
       "     0    1    2    3    4    5    6    7    8    9\n",
       "0  0.0  0.0  0.0  0.0  0.0  1.0  0.0  0.0  0.0  0.0\n",
       "1  0.0  0.0  0.0  0.0  0.0  1.0  0.0  0.0  0.0  0.0\n",
       "2  0.0  0.0  0.0  0.0  0.0  1.0  0.0  0.0  0.0  1.0\n",
       "3  0.0  0.0  0.0  0.0  0.0  0.0  1.0  0.0  0.0 -1.0\n",
       "4  0.0  0.0  0.0  0.0  0.0  1.0  0.0  0.0  0.0  0.0"
      ]
     },
     "execution_count": 828,
     "metadata": {},
     "output_type": "execute_result"
    }
   ],
   "source": [
    "genre_hasher = FeatureHasher(n_features = 10, input_type = \"string\")\n",
    "genre_df = pd.DataFrame(genre_hasher.transform(df['Genre'].str.split(\", \")).toarray())\n",
    "genre_df.head()"
   ]
  },
  {
   "cell_type": "code",
   "execution_count": 829,
   "id": "67a00c02-dbde-42d9-a373-33222ddb4a6e",
   "metadata": {},
   "outputs": [
    {
     "data": {
      "text/plain": [
       "(15503, 10)"
      ]
     },
     "execution_count": 829,
     "metadata": {},
     "output_type": "execute_result"
    }
   ],
   "source": [
    "genre_df.shape"
   ]
  },
  {
   "cell_type": "markdown",
   "id": "3bad61e8-c8d5-46f9-baf9-d1fdb6c8c36b",
   "metadata": {},
   "source": [
    "<br>Preprocessing the \"Rating\" attribute"
   ]
  },
  {
   "cell_type": "code",
   "execution_count": 830,
   "id": "43acd620-15fe-40f9-8c95-96a0470114ca",
   "metadata": {},
   "outputs": [
    {
     "data": {
      "text/plain": [
       "0        NaN\n",
       "1        7.0\n",
       "2        NaN\n",
       "3        4.4\n",
       "4        NaN\n",
       "        ... \n",
       "15504    4.6\n",
       "15505    4.5\n",
       "15506    NaN\n",
       "15507    NaN\n",
       "15508    6.2\n",
       "Name: Rating, Length: 15503, dtype: float64"
      ]
     },
     "execution_count": 830,
     "metadata": {},
     "output_type": "execute_result"
    }
   ],
   "source": [
    "df['Rating']"
   ]
  },
  {
   "cell_type": "code",
   "execution_count": 831,
   "id": "b76ef2ec-534f-458a-9417-b5acfe36716c",
   "metadata": {},
   "outputs": [
    {
     "data": {
      "text/plain": [
       "5.8"
      ]
     },
     "execution_count": 831,
     "metadata": {},
     "output_type": "execute_result"
    }
   ],
   "source": [
    "mean_rating = df['Rating'][df['Rating'].notnull()].mean().round(1)\n",
    "mean_rating"
   ]
  },
  {
   "cell_type": "code",
   "execution_count": 832,
   "id": "8ca51f37-2801-43f3-a7d9-178cca01baa9",
   "metadata": {},
   "outputs": [
    {
     "data": {
      "text/plain": [
       "0        5.8\n",
       "1        7.0\n",
       "2        5.8\n",
       "3        4.4\n",
       "4        5.8\n",
       "        ... \n",
       "15504    4.6\n",
       "15505    4.5\n",
       "15506    5.8\n",
       "15507    5.8\n",
       "15508    6.2\n",
       "Name: Rating, Length: 15503, dtype: float64"
      ]
     },
     "execution_count": 832,
     "metadata": {},
     "output_type": "execute_result"
    }
   ],
   "source": [
    "df[\"Rating\"] = df['Rating'].fillna(mean_rating)\n",
    "df['Rating']"
   ]
  },
  {
   "cell_type": "markdown",
   "id": "253ccf12-eabe-4127-a5c5-ca5b39d5e3b7",
   "metadata": {},
   "source": [
    "<br>Preprocessing the \"Votes\" attribute"
   ]
  },
  {
   "cell_type": "code",
   "execution_count": 833,
   "id": "b2626765-9ce5-414f-96d2-0df513698051",
   "metadata": {},
   "outputs": [
    {
     "data": {
      "text/plain": [
       "0        NaN\n",
       "1          8\n",
       "2        NaN\n",
       "3         35\n",
       "4        NaN\n",
       "        ... \n",
       "15504     11\n",
       "15505    655\n",
       "15506    NaN\n",
       "15507    NaN\n",
       "15508     20\n",
       "Name: Votes, Length: 15503, dtype: object"
      ]
     },
     "execution_count": 833,
     "metadata": {},
     "output_type": "execute_result"
    }
   ],
   "source": [
    "df['Votes']"
   ]
  },
  {
   "cell_type": "code",
   "execution_count": 834,
   "id": "9c5f6604-0d82-4fff-b4ce-5392bb5a7198",
   "metadata": {},
   "outputs": [
    {
     "data": {
      "text/plain": [
       "1            8\n",
       "3           35\n",
       "5          827\n",
       "6        1,086\n",
       "8          326\n",
       "         ...  \n",
       "15501      135\n",
       "15503       44\n",
       "15504       11\n",
       "15505      655\n",
       "15508       20\n",
       "Name: Votes, Length: 7920, dtype: object"
      ]
     },
     "execution_count": 834,
     "metadata": {},
     "output_type": "execute_result"
    }
   ],
   "source": [
    "notnull_votes = df['Votes'][df['Votes'].notnull()]\n",
    "notnull_votes"
   ]
  },
  {
   "cell_type": "markdown",
   "id": "ff3a9962-0852-4f7f-a5b6-15c3c8d5630d",
   "metadata": {},
   "source": [
    "<br>This cannot be directly converted to int32. Presence of commas will raise errors. <br>"
   ]
  },
  {
   "cell_type": "code",
   "execution_count": 835,
   "id": "dbb68cca-82b1-40ff-bf94-bcd95dc42739",
   "metadata": {},
   "outputs": [
    {
     "data": {
      "text/plain": [
       "1           8\n",
       "3          35\n",
       "5         827\n",
       "6        1086\n",
       "8         326\n",
       "         ... \n",
       "15501     135\n",
       "15503      44\n",
       "15504      11\n",
       "15505     655\n",
       "15508      20\n",
       "Name: Votes, Length: 7920, dtype: object"
      ]
     },
     "execution_count": 835,
     "metadata": {},
     "output_type": "execute_result"
    }
   ],
   "source": [
    "notnull_votes = notnull_votes.str.replace(\",\",\"\")\n",
    "notnull_votes"
   ]
  },
  {
   "cell_type": "markdown",
   "id": "dcc674c4-5000-406c-a800-cc7b645fa56f",
   "metadata": {},
   "source": [
    "<br> Converting this to integer also yield error due to presence of dollar, and letter \"M\" <br>\n",
    "$ can be replaced to empty quotes. But \"M\" has to be replaced with a string of six zeros. Because, Million(M) = 1000000 "
   ]
  },
  {
   "cell_type": "code",
   "execution_count": 836,
   "id": "37cf311a-d88c-4eac-8b60-d420b862483e",
   "metadata": {},
   "outputs": [
    {
     "data": {
      "text/plain": [
       "1           8\n",
       "3          35\n",
       "5         827\n",
       "6        1086\n",
       "8         326\n",
       "         ... \n",
       "15501     135\n",
       "15503      44\n",
       "15504      11\n",
       "15505     655\n",
       "15508      20\n",
       "Name: Votes, Length: 7920, dtype: object"
      ]
     },
     "execution_count": 836,
     "metadata": {},
     "output_type": "execute_result"
    }
   ],
   "source": [
    "notnull_votes = notnull_votes.str.replace('$',\"\").str.replace(\"M\", \"000000\")\n",
    "notnull_votes"
   ]
  },
  {
   "cell_type": "markdown",
   "id": "c6c0c50c-52d3-4a62-820b-5497cd14bdaf",
   "metadata": {},
   "source": [
    "<br>Still the values are not able to be converted to integer format because of presence of a float value. <br>\n",
    "But presence of float value in an attribute like \"Voting\" seems illogical. So converting it to integer. <br>"
   ]
  },
  {
   "cell_type": "code",
   "execution_count": 837,
   "id": "1a7469ba-4313-44cc-ad99-f89e1d0d303a",
   "metadata": {},
   "outputs": [
    {
     "data": {
      "text/plain": [
       "1           8\n",
       "3          35\n",
       "5         827\n",
       "6        1086\n",
       "8         326\n",
       "         ... \n",
       "15501     135\n",
       "15503      44\n",
       "15504      11\n",
       "15505     655\n",
       "15508      20\n",
       "Name: Votes, Length: 7920, dtype: object"
      ]
     },
     "execution_count": 837,
     "metadata": {},
     "output_type": "execute_result"
    }
   ],
   "source": [
    "notnull_votes = notnull_votes.str.split('.').str[0]\n",
    "notnull_votes"
   ]
  },
  {
   "cell_type": "code",
   "execution_count": 838,
   "id": "7049bb85-dd02-41a8-9b5f-6ce40347b26a",
   "metadata": {},
   "outputs": [
    {
     "data": {
      "text/plain": [
       "1           8\n",
       "3          35\n",
       "5         827\n",
       "6        1086\n",
       "8         326\n",
       "         ... \n",
       "15501     135\n",
       "15503      44\n",
       "15504      11\n",
       "15505     655\n",
       "15508      20\n",
       "Name: Votes, Length: 7920, dtype: int32"
      ]
     },
     "execution_count": 838,
     "metadata": {},
     "output_type": "execute_result"
    }
   ],
   "source": [
    "notnull_votes = notnull_votes.astype(np.int32)\n",
    "notnull_votes"
   ]
  },
  {
   "cell_type": "markdown",
   "id": "305d0b30-0700-480d-97e8-75eed1aeb934",
   "metadata": {},
   "source": [
    "<br>Finally, the votes are converted into integer!"
   ]
  },
  {
   "cell_type": "code",
   "execution_count": 839,
   "id": "50ed20d0-2c54-4b95-a475-6796c21bacdf",
   "metadata": {},
   "outputs": [
    {
     "data": {
      "text/plain": [
       "1938.2762626262627"
      ]
     },
     "execution_count": 839,
     "metadata": {},
     "output_type": "execute_result"
    }
   ],
   "source": [
    "# Computing the mean value\n",
    "notnull_votes.mean()"
   ]
  },
  {
   "cell_type": "code",
   "execution_count": 840,
   "id": "0ed4f0cb-aea0-4fbe-932b-3867bac79dff",
   "metadata": {},
   "outputs": [
    {
     "data": {
      "text/plain": [
       "55.0"
      ]
     },
     "execution_count": 840,
     "metadata": {},
     "output_type": "execute_result"
    }
   ],
   "source": [
    "# Computing the median value\n",
    "notnull_votes.median()"
   ]
  },
  {
   "cell_type": "markdown",
   "id": "5ab35382-50cd-4ee5-9985-a1edba3512f3",
   "metadata": {},
   "source": [
    "As we can see, the mean value is too high. This must be due to presence of outlier. <br>\n",
    "The value of mean is sensitive to outliers. <br>\n",
    "So using the median here to fill the missing values."
   ]
  },
  {
   "cell_type": "code",
   "execution_count": 841,
   "id": "69e98b78-c60e-4e82-a81d-751579cbf7e5",
   "metadata": {},
   "outputs": [
    {
     "data": {
      "text/plain": [
       "0        NaN\n",
       "1          8\n",
       "2        NaN\n",
       "3         35\n",
       "4        NaN\n",
       "        ... \n",
       "15504     11\n",
       "15505    655\n",
       "15506    NaN\n",
       "15507    NaN\n",
       "15508     20\n",
       "Name: Votes, Length: 15503, dtype: object"
      ]
     },
     "execution_count": 841,
     "metadata": {},
     "output_type": "execute_result"
    }
   ],
   "source": [
    "df['Votes'] = df[\"Votes\"].replace([\"NaN\", \"nan\"], np.nan)  # Here some null were not in proper form\n",
    "df['Votes']"
   ]
  },
  {
   "cell_type": "code",
   "execution_count": 842,
   "id": "346435b1-00e2-4448-af91-c6a784aafead",
   "metadata": {},
   "outputs": [],
   "source": [
    "df[\"Votes\"] = df['Votes'].str.replace(\",\",\"\")"
   ]
  },
  {
   "cell_type": "code",
   "execution_count": 843,
   "id": "5972ed7f-1d0c-4f16-82e1-9465ba08755b",
   "metadata": {},
   "outputs": [],
   "source": [
    "df['Votes'] = df['Votes'].fillna(int(notnull_votes.median())).astype('str')"
   ]
  },
  {
   "cell_type": "code",
   "execution_count": 844,
   "id": "ef3019ab-5b31-4f31-b2da-c4f4ace85eb3",
   "metadata": {},
   "outputs": [],
   "source": [
    "df[\"Votes\"] = df['Votes'].str.replace(\"$\", \"\").str.replace(\"M\",\"000000\")"
   ]
  },
  {
   "cell_type": "code",
   "execution_count": 845,
   "id": "01933c59-2aa5-4836-9f5f-9d594f6b8306",
   "metadata": {},
   "outputs": [],
   "source": [
    "df[\"Votes\"] = df[\"Votes\"].str.split(\".\").str[0]"
   ]
  },
  {
   "cell_type": "code",
   "execution_count": 846,
   "id": "c03b2fa8-126b-4af6-afbd-2c821d3d6f03",
   "metadata": {},
   "outputs": [
    {
     "data": {
      "text/plain": [
       "0         55\n",
       "1          8\n",
       "2         55\n",
       "3         35\n",
       "4         55\n",
       "        ... \n",
       "15504     11\n",
       "15505    655\n",
       "15506     55\n",
       "15507     55\n",
       "15508     20\n",
       "Name: Votes, Length: 15503, dtype: int32"
      ]
     },
     "execution_count": 846,
     "metadata": {},
     "output_type": "execute_result"
    }
   ],
   "source": [
    "df[\"Votes\"] = df[\"Votes\"].astype(np.int32)\n",
    "df[\"Votes\"]"
   ]
  },
  {
   "cell_type": "markdown",
   "id": "55d50a83-4d0b-4ae3-bd5c-b54f87b82d0d",
   "metadata": {},
   "source": [
    "<br>Preprocessing the attribute \"Director\""
   ]
  },
  {
   "cell_type": "code",
   "execution_count": 847,
   "id": "9f209aef-c7d3-4037-a58a-5cd1f2079dae",
   "metadata": {},
   "outputs": [
    {
     "data": {
      "text/plain": [
       "524"
      ]
     },
     "execution_count": 847,
     "metadata": {},
     "output_type": "execute_result"
    }
   ],
   "source": [
    "df[\"Director\"].isnull().sum()"
   ]
  },
  {
   "cell_type": "code",
   "execution_count": 848,
   "id": "c837b59e-f7fb-4e09-b80d-b973dc104ae2",
   "metadata": {},
   "outputs": [],
   "source": [
    "# Filling random name for director will be inappropriate. Let it be empty quotes instead\n",
    "df[\"Director\"] = df[\"Director\"].fillna(\"\")"
   ]
  },
  {
   "cell_type": "markdown",
   "id": "bd30d73a-f0bc-41bc-a50f-dcd83648aefc",
   "metadata": {},
   "source": [
    "<br>Concatenating Genre Features (10 features) and Actors features (10 features) to the data"
   ]
  },
  {
   "cell_type": "code",
   "execution_count": 849,
   "id": "c8770c47-3b0f-4c50-b0f5-f695a6293832",
   "metadata": {},
   "outputs": [
    {
     "data": {
      "text/html": [
       "<div>\n",
       "<style scoped>\n",
       "    .dataframe tbody tr th:only-of-type {\n",
       "        vertical-align: middle;\n",
       "    }\n",
       "\n",
       "    .dataframe tbody tr th {\n",
       "        vertical-align: top;\n",
       "    }\n",
       "\n",
       "    .dataframe thead th {\n",
       "        text-align: right;\n",
       "    }\n",
       "</style>\n",
       "<table border=\"1\" class=\"dataframe\">\n",
       "  <thead>\n",
       "    <tr style=\"text-align: right;\">\n",
       "      <th></th>\n",
       "      <th>Name</th>\n",
       "      <th>Year</th>\n",
       "      <th>Duration</th>\n",
       "      <th>Rating</th>\n",
       "      <th>Votes</th>\n",
       "      <th>Director</th>\n",
       "      <th>0</th>\n",
       "      <th>1</th>\n",
       "      <th>2</th>\n",
       "      <th>3</th>\n",
       "      <th>...</th>\n",
       "      <th>0</th>\n",
       "      <th>1</th>\n",
       "      <th>2</th>\n",
       "      <th>3</th>\n",
       "      <th>4</th>\n",
       "      <th>5</th>\n",
       "      <th>6</th>\n",
       "      <th>7</th>\n",
       "      <th>8</th>\n",
       "      <th>9</th>\n",
       "    </tr>\n",
       "  </thead>\n",
       "  <tbody>\n",
       "    <tr>\n",
       "      <th>0</th>\n",
       "      <td></td>\n",
       "      <td>1987.0</td>\n",
       "      <td>128</td>\n",
       "      <td>5.8</td>\n",
       "      <td>55.0</td>\n",
       "      <td>J.S. Randhawa</td>\n",
       "      <td>0.0</td>\n",
       "      <td>0.0</td>\n",
       "      <td>0.0</td>\n",
       "      <td>0.0</td>\n",
       "      <td>...</td>\n",
       "      <td>1.0</td>\n",
       "      <td>-1.0</td>\n",
       "      <td>0.0</td>\n",
       "      <td>0.0</td>\n",
       "      <td>0.0</td>\n",
       "      <td>0.0</td>\n",
       "      <td>0.0</td>\n",
       "      <td>0.0</td>\n",
       "      <td>-1.0</td>\n",
       "      <td>0.0</td>\n",
       "    </tr>\n",
       "    <tr>\n",
       "      <th>1</th>\n",
       "      <td>#Gadhvi (He thought he was Gandhi)</td>\n",
       "      <td>2019.0</td>\n",
       "      <td>109</td>\n",
       "      <td>7.0</td>\n",
       "      <td>8.0</td>\n",
       "      <td>Gaurav Bakshi</td>\n",
       "      <td>0.0</td>\n",
       "      <td>0.0</td>\n",
       "      <td>0.0</td>\n",
       "      <td>0.0</td>\n",
       "      <td>...</td>\n",
       "      <td>0.0</td>\n",
       "      <td>0.0</td>\n",
       "      <td>1.0</td>\n",
       "      <td>0.0</td>\n",
       "      <td>1.0</td>\n",
       "      <td>-1.0</td>\n",
       "      <td>0.0</td>\n",
       "      <td>0.0</td>\n",
       "      <td>0.0</td>\n",
       "      <td>0.0</td>\n",
       "    </tr>\n",
       "    <tr>\n",
       "      <th>2</th>\n",
       "      <td>#Homecoming</td>\n",
       "      <td>2021.0</td>\n",
       "      <td>90</td>\n",
       "      <td>5.8</td>\n",
       "      <td>55.0</td>\n",
       "      <td>Soumyajit Majumdar</td>\n",
       "      <td>0.0</td>\n",
       "      <td>0.0</td>\n",
       "      <td>0.0</td>\n",
       "      <td>0.0</td>\n",
       "      <td>...</td>\n",
       "      <td>0.0</td>\n",
       "      <td>0.0</td>\n",
       "      <td>0.0</td>\n",
       "      <td>0.0</td>\n",
       "      <td>1.0</td>\n",
       "      <td>0.0</td>\n",
       "      <td>0.0</td>\n",
       "      <td>-1.0</td>\n",
       "      <td>0.0</td>\n",
       "      <td>-1.0</td>\n",
       "    </tr>\n",
       "    <tr>\n",
       "      <th>3</th>\n",
       "      <td>#Yaaram</td>\n",
       "      <td>2019.0</td>\n",
       "      <td>110</td>\n",
       "      <td>4.4</td>\n",
       "      <td>35.0</td>\n",
       "      <td>Ovais Khan</td>\n",
       "      <td>0.0</td>\n",
       "      <td>0.0</td>\n",
       "      <td>0.0</td>\n",
       "      <td>0.0</td>\n",
       "      <td>...</td>\n",
       "      <td>-1.0</td>\n",
       "      <td>0.0</td>\n",
       "      <td>-1.0</td>\n",
       "      <td>0.0</td>\n",
       "      <td>-1.0</td>\n",
       "      <td>0.0</td>\n",
       "      <td>0.0</td>\n",
       "      <td>0.0</td>\n",
       "      <td>0.0</td>\n",
       "      <td>0.0</td>\n",
       "    </tr>\n",
       "    <tr>\n",
       "      <th>4</th>\n",
       "      <td>...And Once Again</td>\n",
       "      <td>2010.0</td>\n",
       "      <td>105</td>\n",
       "      <td>5.8</td>\n",
       "      <td>55.0</td>\n",
       "      <td>Amol Palekar</td>\n",
       "      <td>0.0</td>\n",
       "      <td>0.0</td>\n",
       "      <td>0.0</td>\n",
       "      <td>0.0</td>\n",
       "      <td>...</td>\n",
       "      <td>0.0</td>\n",
       "      <td>0.0</td>\n",
       "      <td>1.0</td>\n",
       "      <td>0.0</td>\n",
       "      <td>1.0</td>\n",
       "      <td>0.0</td>\n",
       "      <td>0.0</td>\n",
       "      <td>0.0</td>\n",
       "      <td>0.0</td>\n",
       "      <td>-1.0</td>\n",
       "    </tr>\n",
       "    <tr>\n",
       "      <th>...</th>\n",
       "      <td>...</td>\n",
       "      <td>...</td>\n",
       "      <td>...</td>\n",
       "      <td>...</td>\n",
       "      <td>...</td>\n",
       "      <td>...</td>\n",
       "      <td>...</td>\n",
       "      <td>...</td>\n",
       "      <td>...</td>\n",
       "      <td>...</td>\n",
       "      <td>...</td>\n",
       "      <td>...</td>\n",
       "      <td>...</td>\n",
       "      <td>...</td>\n",
       "      <td>...</td>\n",
       "      <td>...</td>\n",
       "      <td>...</td>\n",
       "      <td>...</td>\n",
       "      <td>...</td>\n",
       "      <td>...</td>\n",
       "      <td>...</td>\n",
       "    </tr>\n",
       "    <tr>\n",
       "      <th>1769</th>\n",
       "      <td>NaN</td>\n",
       "      <td>NaN</td>\n",
       "      <td>NaN</td>\n",
       "      <td>NaN</td>\n",
       "      <td>NaN</td>\n",
       "      <td>NaN</td>\n",
       "      <td>0.0</td>\n",
       "      <td>0.0</td>\n",
       "      <td>0.0</td>\n",
       "      <td>0.0</td>\n",
       "      <td>...</td>\n",
       "      <td>2.0</td>\n",
       "      <td>0.0</td>\n",
       "      <td>0.0</td>\n",
       "      <td>0.0</td>\n",
       "      <td>0.0</td>\n",
       "      <td>0.0</td>\n",
       "      <td>0.0</td>\n",
       "      <td>0.0</td>\n",
       "      <td>1.0</td>\n",
       "      <td>0.0</td>\n",
       "    </tr>\n",
       "    <tr>\n",
       "      <th>4723</th>\n",
       "      <td>NaN</td>\n",
       "      <td>NaN</td>\n",
       "      <td>NaN</td>\n",
       "      <td>NaN</td>\n",
       "      <td>NaN</td>\n",
       "      <td>NaN</td>\n",
       "      <td>0.0</td>\n",
       "      <td>0.0</td>\n",
       "      <td>0.0</td>\n",
       "      <td>1.0</td>\n",
       "      <td>...</td>\n",
       "      <td>0.0</td>\n",
       "      <td>-1.0</td>\n",
       "      <td>0.0</td>\n",
       "      <td>-1.0</td>\n",
       "      <td>0.0</td>\n",
       "      <td>-1.0</td>\n",
       "      <td>0.0</td>\n",
       "      <td>0.0</td>\n",
       "      <td>0.0</td>\n",
       "      <td>0.0</td>\n",
       "    </tr>\n",
       "    <tr>\n",
       "      <th>9713</th>\n",
       "      <td>NaN</td>\n",
       "      <td>NaN</td>\n",
       "      <td>NaN</td>\n",
       "      <td>NaN</td>\n",
       "      <td>NaN</td>\n",
       "      <td>NaN</td>\n",
       "      <td>0.0</td>\n",
       "      <td>0.0</td>\n",
       "      <td>0.0</td>\n",
       "      <td>1.0</td>\n",
       "      <td>...</td>\n",
       "      <td>0.0</td>\n",
       "      <td>0.0</td>\n",
       "      <td>0.0</td>\n",
       "      <td>-2.0</td>\n",
       "      <td>0.0</td>\n",
       "      <td>0.0</td>\n",
       "      <td>0.0</td>\n",
       "      <td>1.0</td>\n",
       "      <td>0.0</td>\n",
       "      <td>0.0</td>\n",
       "    </tr>\n",
       "    <tr>\n",
       "      <th>13069</th>\n",
       "      <td>NaN</td>\n",
       "      <td>NaN</td>\n",
       "      <td>NaN</td>\n",
       "      <td>NaN</td>\n",
       "      <td>NaN</td>\n",
       "      <td>NaN</td>\n",
       "      <td>1.0</td>\n",
       "      <td>0.0</td>\n",
       "      <td>0.0</td>\n",
       "      <td>0.0</td>\n",
       "      <td>...</td>\n",
       "      <td>1.0</td>\n",
       "      <td>0.0</td>\n",
       "      <td>0.0</td>\n",
       "      <td>0.0</td>\n",
       "      <td>0.0</td>\n",
       "      <td>0.0</td>\n",
       "      <td>0.0</td>\n",
       "      <td>0.0</td>\n",
       "      <td>0.0</td>\n",
       "      <td>0.0</td>\n",
       "    </tr>\n",
       "    <tr>\n",
       "      <th>13308</th>\n",
       "      <td>NaN</td>\n",
       "      <td>NaN</td>\n",
       "      <td>NaN</td>\n",
       "      <td>NaN</td>\n",
       "      <td>NaN</td>\n",
       "      <td>NaN</td>\n",
       "      <td>0.0</td>\n",
       "      <td>1.0</td>\n",
       "      <td>0.0</td>\n",
       "      <td>0.0</td>\n",
       "      <td>...</td>\n",
       "      <td>0.0</td>\n",
       "      <td>1.0</td>\n",
       "      <td>0.0</td>\n",
       "      <td>0.0</td>\n",
       "      <td>1.0</td>\n",
       "      <td>0.0</td>\n",
       "      <td>1.0</td>\n",
       "      <td>0.0</td>\n",
       "      <td>0.0</td>\n",
       "      <td>0.0</td>\n",
       "    </tr>\n",
       "  </tbody>\n",
       "</table>\n",
       "<p>15509 rows × 26 columns</p>\n",
       "</div>"
      ],
      "text/plain": [
       "                                     Name    Year Duration  Rating  Votes  \\\n",
       "0                                          1987.0      128     5.8   55.0   \n",
       "1      #Gadhvi (He thought he was Gandhi)  2019.0      109     7.0    8.0   \n",
       "2                             #Homecoming  2021.0       90     5.8   55.0   \n",
       "3                                 #Yaaram  2019.0      110     4.4   35.0   \n",
       "4                       ...And Once Again  2010.0      105     5.8   55.0   \n",
       "...                                   ...     ...      ...     ...    ...   \n",
       "1769                                  NaN     NaN      NaN     NaN    NaN   \n",
       "4723                                  NaN     NaN      NaN     NaN    NaN   \n",
       "9713                                  NaN     NaN      NaN     NaN    NaN   \n",
       "13069                                 NaN     NaN      NaN     NaN    NaN   \n",
       "13308                                 NaN     NaN      NaN     NaN    NaN   \n",
       "\n",
       "                 Director    0    1    2    3  ...    0    1    2    3    4  \\\n",
       "0           J.S. Randhawa  0.0  0.0  0.0  0.0  ...  1.0 -1.0  0.0  0.0  0.0   \n",
       "1           Gaurav Bakshi  0.0  0.0  0.0  0.0  ...  0.0  0.0  1.0  0.0  1.0   \n",
       "2      Soumyajit Majumdar  0.0  0.0  0.0  0.0  ...  0.0  0.0  0.0  0.0  1.0   \n",
       "3              Ovais Khan  0.0  0.0  0.0  0.0  ... -1.0  0.0 -1.0  0.0 -1.0   \n",
       "4            Amol Palekar  0.0  0.0  0.0  0.0  ...  0.0  0.0  1.0  0.0  1.0   \n",
       "...                   ...  ...  ...  ...  ...  ...  ...  ...  ...  ...  ...   \n",
       "1769                  NaN  0.0  0.0  0.0  0.0  ...  2.0  0.0  0.0  0.0  0.0   \n",
       "4723                  NaN  0.0  0.0  0.0  1.0  ...  0.0 -1.0  0.0 -1.0  0.0   \n",
       "9713                  NaN  0.0  0.0  0.0  1.0  ...  0.0  0.0  0.0 -2.0  0.0   \n",
       "13069                 NaN  1.0  0.0  0.0  0.0  ...  1.0  0.0  0.0  0.0  0.0   \n",
       "13308                 NaN  0.0  1.0  0.0  0.0  ...  0.0  1.0  0.0  0.0  1.0   \n",
       "\n",
       "         5    6    7    8    9  \n",
       "0      0.0  0.0  0.0 -1.0  0.0  \n",
       "1     -1.0  0.0  0.0  0.0  0.0  \n",
       "2      0.0  0.0 -1.0  0.0 -1.0  \n",
       "3      0.0  0.0  0.0  0.0  0.0  \n",
       "4      0.0  0.0  0.0  0.0 -1.0  \n",
       "...    ...  ...  ...  ...  ...  \n",
       "1769   0.0  0.0  0.0  1.0  0.0  \n",
       "4723  -1.0  0.0  0.0  0.0  0.0  \n",
       "9713   0.0  0.0  1.0  0.0  0.0  \n",
       "13069  0.0  0.0  0.0  0.0  0.0  \n",
       "13308  0.0  1.0  0.0  0.0  0.0  \n",
       "\n",
       "[15509 rows x 26 columns]"
      ]
     },
     "execution_count": 849,
     "metadata": {},
     "output_type": "execute_result"
    }
   ],
   "source": [
    "preprocessed_df = pd.concat([df, genre_df, actors_df], axis=1).drop([\"Actor 1\", \"Actor 2\", \"Actor 3\", \"Actors\", \"Genre\"],axis=1)\n",
    "preprocessed_df"
   ]
  },
  {
   "cell_type": "markdown",
   "id": "d96034aa-d2a6-4213-8cd3-3006fbe0cbd6",
   "metadata": {
    "jp-MarkdownHeadingCollapsed": true
   },
   "source": [
    "## Train-test Split"
   ]
  },
  {
   "cell_type": "code",
   "execution_count": 850,
   "id": "1d6c394c-05fd-4f33-a447-6e5bb6d13a04",
   "metadata": {},
   "outputs": [],
   "source": [
    "encoder = LabelEncoder()\n",
    "preprocessed_df[\"Name\"] = encoder.fit_transform(preprocessed_df[\"Name\"])"
   ]
  },
  {
   "cell_type": "code",
   "execution_count": 851,
   "id": "9683e07c-b363-41e6-a59d-002dda68dba9",
   "metadata": {},
   "outputs": [
    {
     "data": {
      "text/plain": [
       "array([1], dtype=int64)"
      ]
     },
     "execution_count": 851,
     "metadata": {},
     "output_type": "execute_result"
    }
   ],
   "source": [
    "# Director has always only one entry\n",
    "df[\"Director\"].str.split(\",\").str.len().unique()"
   ]
  },
  {
   "cell_type": "code",
   "execution_count": 852,
   "id": "281e0413-c0a0-4f00-9a2e-793b90e3d327",
   "metadata": {},
   "outputs": [],
   "source": [
    "preprocessed_df[\"Director\"] = encoder.fit_transform(preprocessed_df[\"Director\"])"
   ]
  },
  {
   "cell_type": "code",
   "execution_count": 853,
   "id": "d20ba1d7-e270-4a07-b346-7853dd7122ec",
   "metadata": {},
   "outputs": [],
   "source": [
    "preprocessed_df = preprocessed_df.reset_index()[:15503] # Removing those duplicates"
   ]
  },
  {
   "cell_type": "code",
   "execution_count": 854,
   "id": "17372892-dc5a-4a90-be34-123e42d7c6b1",
   "metadata": {},
   "outputs": [
    {
     "data": {
      "text/html": [
       "<div>\n",
       "<style scoped>\n",
       "    .dataframe tbody tr th:only-of-type {\n",
       "        vertical-align: middle;\n",
       "    }\n",
       "\n",
       "    .dataframe tbody tr th {\n",
       "        vertical-align: top;\n",
       "    }\n",
       "\n",
       "    .dataframe thead th {\n",
       "        text-align: right;\n",
       "    }\n",
       "</style>\n",
       "<table border=\"1\" class=\"dataframe\">\n",
       "  <thead>\n",
       "    <tr style=\"text-align: right;\">\n",
       "      <th></th>\n",
       "      <th>index</th>\n",
       "      <th>Name</th>\n",
       "      <th>Year</th>\n",
       "      <th>Duration</th>\n",
       "      <th>Rating</th>\n",
       "      <th>Votes</th>\n",
       "      <th>Director</th>\n",
       "      <th>0</th>\n",
       "      <th>1</th>\n",
       "      <th>2</th>\n",
       "      <th>...</th>\n",
       "      <th>0</th>\n",
       "      <th>1</th>\n",
       "      <th>2</th>\n",
       "      <th>3</th>\n",
       "      <th>4</th>\n",
       "      <th>5</th>\n",
       "      <th>6</th>\n",
       "      <th>7</th>\n",
       "      <th>8</th>\n",
       "      <th>9</th>\n",
       "    </tr>\n",
       "  </thead>\n",
       "  <tbody>\n",
       "    <tr>\n",
       "      <th>0</th>\n",
       "      <td>0</td>\n",
       "      <td>0</td>\n",
       "      <td>1987.0</td>\n",
       "      <td>128</td>\n",
       "      <td>5.8</td>\n",
       "      <td>55.0</td>\n",
       "      <td>1927</td>\n",
       "      <td>0.0</td>\n",
       "      <td>0.0</td>\n",
       "      <td>0.0</td>\n",
       "      <td>...</td>\n",
       "      <td>1.0</td>\n",
       "      <td>-1.0</td>\n",
       "      <td>0.0</td>\n",
       "      <td>0.0</td>\n",
       "      <td>0.0</td>\n",
       "      <td>0.0</td>\n",
       "      <td>0.0</td>\n",
       "      <td>0.0</td>\n",
       "      <td>-1.0</td>\n",
       "      <td>0.0</td>\n",
       "    </tr>\n",
       "    <tr>\n",
       "      <th>1</th>\n",
       "      <td>1</td>\n",
       "      <td>1</td>\n",
       "      <td>2019.0</td>\n",
       "      <td>109</td>\n",
       "      <td>7.0</td>\n",
       "      <td>8.0</td>\n",
       "      <td>1549</td>\n",
       "      <td>0.0</td>\n",
       "      <td>0.0</td>\n",
       "      <td>0.0</td>\n",
       "      <td>...</td>\n",
       "      <td>0.0</td>\n",
       "      <td>0.0</td>\n",
       "      <td>1.0</td>\n",
       "      <td>0.0</td>\n",
       "      <td>1.0</td>\n",
       "      <td>-1.0</td>\n",
       "      <td>0.0</td>\n",
       "      <td>0.0</td>\n",
       "      <td>0.0</td>\n",
       "      <td>0.0</td>\n",
       "    </tr>\n",
       "    <tr>\n",
       "      <th>2</th>\n",
       "      <td>2</td>\n",
       "      <td>2</td>\n",
       "      <td>2021.0</td>\n",
       "      <td>90</td>\n",
       "      <td>5.8</td>\n",
       "      <td>55.0</td>\n",
       "      <td>5124</td>\n",
       "      <td>0.0</td>\n",
       "      <td>0.0</td>\n",
       "      <td>0.0</td>\n",
       "      <td>...</td>\n",
       "      <td>0.0</td>\n",
       "      <td>0.0</td>\n",
       "      <td>0.0</td>\n",
       "      <td>0.0</td>\n",
       "      <td>1.0</td>\n",
       "      <td>0.0</td>\n",
       "      <td>0.0</td>\n",
       "      <td>-1.0</td>\n",
       "      <td>0.0</td>\n",
       "      <td>-1.0</td>\n",
       "    </tr>\n",
       "    <tr>\n",
       "      <th>3</th>\n",
       "      <td>3</td>\n",
       "      <td>3</td>\n",
       "      <td>2019.0</td>\n",
       "      <td>110</td>\n",
       "      <td>4.4</td>\n",
       "      <td>35.0</td>\n",
       "      <td>3320</td>\n",
       "      <td>0.0</td>\n",
       "      <td>0.0</td>\n",
       "      <td>0.0</td>\n",
       "      <td>...</td>\n",
       "      <td>-1.0</td>\n",
       "      <td>0.0</td>\n",
       "      <td>-1.0</td>\n",
       "      <td>0.0</td>\n",
       "      <td>-1.0</td>\n",
       "      <td>0.0</td>\n",
       "      <td>0.0</td>\n",
       "      <td>0.0</td>\n",
       "      <td>0.0</td>\n",
       "      <td>0.0</td>\n",
       "    </tr>\n",
       "    <tr>\n",
       "      <th>4</th>\n",
       "      <td>4</td>\n",
       "      <td>7</td>\n",
       "      <td>2010.0</td>\n",
       "      <td>105</td>\n",
       "      <td>5.8</td>\n",
       "      <td>55.0</td>\n",
       "      <td>386</td>\n",
       "      <td>0.0</td>\n",
       "      <td>0.0</td>\n",
       "      <td>0.0</td>\n",
       "      <td>...</td>\n",
       "      <td>0.0</td>\n",
       "      <td>0.0</td>\n",
       "      <td>1.0</td>\n",
       "      <td>0.0</td>\n",
       "      <td>1.0</td>\n",
       "      <td>0.0</td>\n",
       "      <td>0.0</td>\n",
       "      <td>0.0</td>\n",
       "      <td>0.0</td>\n",
       "      <td>-1.0</td>\n",
       "    </tr>\n",
       "    <tr>\n",
       "      <th>...</th>\n",
       "      <td>...</td>\n",
       "      <td>...</td>\n",
       "      <td>...</td>\n",
       "      <td>...</td>\n",
       "      <td>...</td>\n",
       "      <td>...</td>\n",
       "      <td>...</td>\n",
       "      <td>...</td>\n",
       "      <td>...</td>\n",
       "      <td>...</td>\n",
       "      <td>...</td>\n",
       "      <td>...</td>\n",
       "      <td>...</td>\n",
       "      <td>...</td>\n",
       "      <td>...</td>\n",
       "      <td>...</td>\n",
       "      <td>...</td>\n",
       "      <td>...</td>\n",
       "      <td>...</td>\n",
       "      <td>...</td>\n",
       "      <td>...</td>\n",
       "    </tr>\n",
       "    <tr>\n",
       "      <th>15498</th>\n",
       "      <td>15504</td>\n",
       "      <td>13832</td>\n",
       "      <td>1988.0</td>\n",
       "      <td>128</td>\n",
       "      <td>4.6</td>\n",
       "      <td>11.0</td>\n",
       "      <td>2691</td>\n",
       "      <td>NaN</td>\n",
       "      <td>NaN</td>\n",
       "      <td>NaN</td>\n",
       "      <td>...</td>\n",
       "      <td>NaN</td>\n",
       "      <td>NaN</td>\n",
       "      <td>NaN</td>\n",
       "      <td>NaN</td>\n",
       "      <td>NaN</td>\n",
       "      <td>NaN</td>\n",
       "      <td>NaN</td>\n",
       "      <td>NaN</td>\n",
       "      <td>NaN</td>\n",
       "      <td>NaN</td>\n",
       "    </tr>\n",
       "    <tr>\n",
       "      <th>15499</th>\n",
       "      <td>15505</td>\n",
       "      <td>13834</td>\n",
       "      <td>1999.0</td>\n",
       "      <td>129</td>\n",
       "      <td>4.5</td>\n",
       "      <td>655.0</td>\n",
       "      <td>2500</td>\n",
       "      <td>NaN</td>\n",
       "      <td>NaN</td>\n",
       "      <td>NaN</td>\n",
       "      <td>...</td>\n",
       "      <td>NaN</td>\n",
       "      <td>NaN</td>\n",
       "      <td>NaN</td>\n",
       "      <td>NaN</td>\n",
       "      <td>NaN</td>\n",
       "      <td>NaN</td>\n",
       "      <td>NaN</td>\n",
       "      <td>NaN</td>\n",
       "      <td>NaN</td>\n",
       "      <td>NaN</td>\n",
       "    </tr>\n",
       "    <tr>\n",
       "      <th>15500</th>\n",
       "      <td>15506</td>\n",
       "      <td>13835</td>\n",
       "      <td>2005.0</td>\n",
       "      <td>128</td>\n",
       "      <td>5.8</td>\n",
       "      <td>55.0</td>\n",
       "      <td>2425</td>\n",
       "      <td>NaN</td>\n",
       "      <td>NaN</td>\n",
       "      <td>NaN</td>\n",
       "      <td>...</td>\n",
       "      <td>NaN</td>\n",
       "      <td>NaN</td>\n",
       "      <td>NaN</td>\n",
       "      <td>NaN</td>\n",
       "      <td>NaN</td>\n",
       "      <td>NaN</td>\n",
       "      <td>NaN</td>\n",
       "      <td>NaN</td>\n",
       "      <td>NaN</td>\n",
       "      <td>NaN</td>\n",
       "    </tr>\n",
       "    <tr>\n",
       "      <th>15501</th>\n",
       "      <td>15507</td>\n",
       "      <td>13836</td>\n",
       "      <td>1988.0</td>\n",
       "      <td>128</td>\n",
       "      <td>5.8</td>\n",
       "      <td>55.0</td>\n",
       "      <td>0</td>\n",
       "      <td>NaN</td>\n",
       "      <td>NaN</td>\n",
       "      <td>NaN</td>\n",
       "      <td>...</td>\n",
       "      <td>NaN</td>\n",
       "      <td>NaN</td>\n",
       "      <td>NaN</td>\n",
       "      <td>NaN</td>\n",
       "      <td>NaN</td>\n",
       "      <td>NaN</td>\n",
       "      <td>NaN</td>\n",
       "      <td>NaN</td>\n",
       "      <td>NaN</td>\n",
       "      <td>NaN</td>\n",
       "    </tr>\n",
       "    <tr>\n",
       "      <th>15502</th>\n",
       "      <td>15508</td>\n",
       "      <td>13833</td>\n",
       "      <td>1998.0</td>\n",
       "      <td>130</td>\n",
       "      <td>6.2</td>\n",
       "      <td>20.0</td>\n",
       "      <td>2196</td>\n",
       "      <td>NaN</td>\n",
       "      <td>NaN</td>\n",
       "      <td>NaN</td>\n",
       "      <td>...</td>\n",
       "      <td>NaN</td>\n",
       "      <td>NaN</td>\n",
       "      <td>NaN</td>\n",
       "      <td>NaN</td>\n",
       "      <td>NaN</td>\n",
       "      <td>NaN</td>\n",
       "      <td>NaN</td>\n",
       "      <td>NaN</td>\n",
       "      <td>NaN</td>\n",
       "      <td>NaN</td>\n",
       "    </tr>\n",
       "  </tbody>\n",
       "</table>\n",
       "<p>15503 rows × 27 columns</p>\n",
       "</div>"
      ],
      "text/plain": [
       "       index   Name    Year Duration  Rating  Votes  Director    0    1    2  \\\n",
       "0          0      0  1987.0      128     5.8   55.0      1927  0.0  0.0  0.0   \n",
       "1          1      1  2019.0      109     7.0    8.0      1549  0.0  0.0  0.0   \n",
       "2          2      2  2021.0       90     5.8   55.0      5124  0.0  0.0  0.0   \n",
       "3          3      3  2019.0      110     4.4   35.0      3320  0.0  0.0  0.0   \n",
       "4          4      7  2010.0      105     5.8   55.0       386  0.0  0.0  0.0   \n",
       "...      ...    ...     ...      ...     ...    ...       ...  ...  ...  ...   \n",
       "15498  15504  13832  1988.0      128     4.6   11.0      2691  NaN  NaN  NaN   \n",
       "15499  15505  13834  1999.0      129     4.5  655.0      2500  NaN  NaN  NaN   \n",
       "15500  15506  13835  2005.0      128     5.8   55.0      2425  NaN  NaN  NaN   \n",
       "15501  15507  13836  1988.0      128     5.8   55.0         0  NaN  NaN  NaN   \n",
       "15502  15508  13833  1998.0      130     6.2   20.0      2196  NaN  NaN  NaN   \n",
       "\n",
       "       ...    0    1    2    3    4    5    6    7    8    9  \n",
       "0      ...  1.0 -1.0  0.0  0.0  0.0  0.0  0.0  0.0 -1.0  0.0  \n",
       "1      ...  0.0  0.0  1.0  0.0  1.0 -1.0  0.0  0.0  0.0  0.0  \n",
       "2      ...  0.0  0.0  0.0  0.0  1.0  0.0  0.0 -1.0  0.0 -1.0  \n",
       "3      ... -1.0  0.0 -1.0  0.0 -1.0  0.0  0.0  0.0  0.0  0.0  \n",
       "4      ...  0.0  0.0  1.0  0.0  1.0  0.0  0.0  0.0  0.0 -1.0  \n",
       "...    ...  ...  ...  ...  ...  ...  ...  ...  ...  ...  ...  \n",
       "15498  ...  NaN  NaN  NaN  NaN  NaN  NaN  NaN  NaN  NaN  NaN  \n",
       "15499  ...  NaN  NaN  NaN  NaN  NaN  NaN  NaN  NaN  NaN  NaN  \n",
       "15500  ...  NaN  NaN  NaN  NaN  NaN  NaN  NaN  NaN  NaN  NaN  \n",
       "15501  ...  NaN  NaN  NaN  NaN  NaN  NaN  NaN  NaN  NaN  NaN  \n",
       "15502  ...  NaN  NaN  NaN  NaN  NaN  NaN  NaN  NaN  NaN  NaN  \n",
       "\n",
       "[15503 rows x 27 columns]"
      ]
     },
     "execution_count": 854,
     "metadata": {},
     "output_type": "execute_result"
    }
   ],
   "source": [
    "preprocessed_df"
   ]
  },
  {
   "cell_type": "code",
   "execution_count": 855,
   "id": "2dec7719-2982-46ff-b78a-14a49d517060",
   "metadata": {},
   "outputs": [],
   "source": [
    "preprocessed_df.columns = [\"index\", \"Name\", \"Year\", \"Duration\", \"Rating\", \"Votes\", \"Director\"] + [\"Genre\"+str(i) for i in range(10)] + [\"Actors\"+str(i) for i in range(10)]"
   ]
  },
  {
   "cell_type": "code",
   "execution_count": 856,
   "id": "d7184fae-1837-4549-99d6-7f2c9c59e6dc",
   "metadata": {},
   "outputs": [],
   "source": [
    "preprocessed_df = preprocessed_df.dropna()\n",
    "preprocessed_df = preprocessed_df.drop(\"index\", axis=1)"
   ]
  },
  {
   "cell_type": "code",
   "execution_count": 857,
   "id": "4db21233-7fde-407e-aa4b-0184b1fba409",
   "metadata": {},
   "outputs": [],
   "source": [
    "# Splitting target and other attributes\n",
    "X = preprocessed_df.drop(\"Rating\", axis=1)\n",
    "y = preprocessed_df[\"Rating\"]"
   ]
  },
  {
   "cell_type": "code",
   "execution_count": 858,
   "id": "f51bc22e-4c80-42a4-bf40-6d45cf78486a",
   "metadata": {},
   "outputs": [],
   "source": [
    "# Train test splitting\n",
    "X_train, X_test, y_train, y_test = train_test_split(X, y, test_size=0.2, random_state=42)"
   ]
  },
  {
   "cell_type": "code",
   "execution_count": 859,
   "id": "478b9b7d-f9b5-48f8-94c5-3f4f3cbaa6f9",
   "metadata": {},
   "outputs": [
    {
     "data": {
      "text/plain": [
       "(12397, 25)"
      ]
     },
     "execution_count": 859,
     "metadata": {},
     "output_type": "execute_result"
    }
   ],
   "source": [
    "X_train.shape"
   ]
  },
  {
   "cell_type": "code",
   "execution_count": 860,
   "id": "d33f7ea4-d8a9-4bbf-9512-03e26106546c",
   "metadata": {},
   "outputs": [
    {
     "data": {
      "text/plain": [
       "(12397,)"
      ]
     },
     "execution_count": 860,
     "metadata": {},
     "output_type": "execute_result"
    }
   ],
   "source": [
    "y_train.shape"
   ]
  },
  {
   "cell_type": "code",
   "execution_count": 861,
   "id": "c26da326-6882-440f-96f0-68a176b96e2d",
   "metadata": {},
   "outputs": [
    {
     "data": {
      "text/plain": [
       "(3100, 25)"
      ]
     },
     "execution_count": 861,
     "metadata": {},
     "output_type": "execute_result"
    }
   ],
   "source": [
    "X_test.shape"
   ]
  },
  {
   "cell_type": "code",
   "execution_count": 862,
   "id": "843dcbaa-d872-4421-a4f3-915dbf2e8195",
   "metadata": {},
   "outputs": [
    {
     "data": {
      "text/plain": [
       "(3100,)"
      ]
     },
     "execution_count": 862,
     "metadata": {},
     "output_type": "execute_result"
    }
   ],
   "source": [
    "y_test.shape"
   ]
  },
  {
   "cell_type": "markdown",
   "id": "747c71ac-d232-4183-b23c-1f211aa13c49",
   "metadata": {},
   "source": [
    "## Modeling"
   ]
  },
  {
   "cell_type": "code",
   "execution_count": 863,
   "id": "40862a05-ed9c-4ebe-82ea-5848427c72ed",
   "metadata": {},
   "outputs": [
    {
     "data": {
      "text/html": [
       "<div>\n",
       "<style scoped>\n",
       "    .dataframe tbody tr th:only-of-type {\n",
       "        vertical-align: middle;\n",
       "    }\n",
       "\n",
       "    .dataframe tbody tr th {\n",
       "        vertical-align: top;\n",
       "    }\n",
       "\n",
       "    .dataframe thead th {\n",
       "        text-align: right;\n",
       "    }\n",
       "</style>\n",
       "<table border=\"1\" class=\"dataframe\">\n",
       "  <thead>\n",
       "    <tr style=\"text-align: right;\">\n",
       "      <th></th>\n",
       "      <th>Name</th>\n",
       "      <th>Year</th>\n",
       "      <th>Duration</th>\n",
       "      <th>Votes</th>\n",
       "      <th>Director</th>\n",
       "      <th>Genre0</th>\n",
       "      <th>Genre1</th>\n",
       "      <th>Genre2</th>\n",
       "      <th>Genre3</th>\n",
       "      <th>Genre4</th>\n",
       "      <th>...</th>\n",
       "      <th>Actors0</th>\n",
       "      <th>Actors1</th>\n",
       "      <th>Actors2</th>\n",
       "      <th>Actors3</th>\n",
       "      <th>Actors4</th>\n",
       "      <th>Actors5</th>\n",
       "      <th>Actors6</th>\n",
       "      <th>Actors7</th>\n",
       "      <th>Actors8</th>\n",
       "      <th>Actors9</th>\n",
       "    </tr>\n",
       "  </thead>\n",
       "  <tbody>\n",
       "    <tr>\n",
       "      <th>5353</th>\n",
       "      <td>4755</td>\n",
       "      <td>1955.0</td>\n",
       "      <td>128</td>\n",
       "      <td>55.0</td>\n",
       "      <td>3350</td>\n",
       "      <td>0.0</td>\n",
       "      <td>0.0</td>\n",
       "      <td>0.0</td>\n",
       "      <td>0.0</td>\n",
       "      <td>0.0</td>\n",
       "      <td>...</td>\n",
       "      <td>0.0</td>\n",
       "      <td>0.0</td>\n",
       "      <td>0.0</td>\n",
       "      <td>-1.0</td>\n",
       "      <td>1.0</td>\n",
       "      <td>0.0</td>\n",
       "      <td>0.0</td>\n",
       "      <td>0.0</td>\n",
       "      <td>-1.0</td>\n",
       "      <td>0.0</td>\n",
       "    </tr>\n",
       "    <tr>\n",
       "      <th>15322</th>\n",
       "      <td>13694</td>\n",
       "      <td>2008.0</td>\n",
       "      <td>151</td>\n",
       "      <td>4147.0</td>\n",
       "      <td>5177</td>\n",
       "      <td>0.0</td>\n",
       "      <td>0.0</td>\n",
       "      <td>0.0</td>\n",
       "      <td>0.0</td>\n",
       "      <td>0.0</td>\n",
       "      <td>...</td>\n",
       "      <td>0.0</td>\n",
       "      <td>1.0</td>\n",
       "      <td>0.0</td>\n",
       "      <td>0.0</td>\n",
       "      <td>0.0</td>\n",
       "      <td>0.0</td>\n",
       "      <td>0.0</td>\n",
       "      <td>-1.0</td>\n",
       "      <td>-1.0</td>\n",
       "      <td>0.0</td>\n",
       "    </tr>\n",
       "    <tr>\n",
       "      <th>335</th>\n",
       "      <td>315</td>\n",
       "      <td>1989.0</td>\n",
       "      <td>149</td>\n",
       "      <td>53.0</td>\n",
       "      <td>666</td>\n",
       "      <td>0.0</td>\n",
       "      <td>0.0</td>\n",
       "      <td>0.0</td>\n",
       "      <td>0.0</td>\n",
       "      <td>0.0</td>\n",
       "      <td>...</td>\n",
       "      <td>1.0</td>\n",
       "      <td>0.0</td>\n",
       "      <td>0.0</td>\n",
       "      <td>0.0</td>\n",
       "      <td>0.0</td>\n",
       "      <td>-1.0</td>\n",
       "      <td>0.0</td>\n",
       "      <td>0.0</td>\n",
       "      <td>-1.0</td>\n",
       "      <td>0.0</td>\n",
       "    </tr>\n",
       "    <tr>\n",
       "      <th>8304</th>\n",
       "      <td>7434</td>\n",
       "      <td>2019.0</td>\n",
       "      <td>128</td>\n",
       "      <td>55.0</td>\n",
       "      <td>1748</td>\n",
       "      <td>0.0</td>\n",
       "      <td>0.0</td>\n",
       "      <td>0.0</td>\n",
       "      <td>0.0</td>\n",
       "      <td>0.0</td>\n",
       "      <td>...</td>\n",
       "      <td>0.0</td>\n",
       "      <td>0.0</td>\n",
       "      <td>-1.0</td>\n",
       "      <td>0.0</td>\n",
       "      <td>0.0</td>\n",
       "      <td>0.0</td>\n",
       "      <td>0.0</td>\n",
       "      <td>1.0</td>\n",
       "      <td>-1.0</td>\n",
       "      <td>0.0</td>\n",
       "    </tr>\n",
       "    <tr>\n",
       "      <th>5400</th>\n",
       "      <td>4796</td>\n",
       "      <td>1990.0</td>\n",
       "      <td>128</td>\n",
       "      <td>55.0</td>\n",
       "      <td>3159</td>\n",
       "      <td>0.0</td>\n",
       "      <td>0.0</td>\n",
       "      <td>-1.0</td>\n",
       "      <td>0.0</td>\n",
       "      <td>0.0</td>\n",
       "      <td>...</td>\n",
       "      <td>1.0</td>\n",
       "      <td>0.0</td>\n",
       "      <td>0.0</td>\n",
       "      <td>0.0</td>\n",
       "      <td>0.0</td>\n",
       "      <td>0.0</td>\n",
       "      <td>0.0</td>\n",
       "      <td>0.0</td>\n",
       "      <td>0.0</td>\n",
       "      <td>0.0</td>\n",
       "    </tr>\n",
       "    <tr>\n",
       "      <th>...</th>\n",
       "      <td>...</td>\n",
       "      <td>...</td>\n",
       "      <td>...</td>\n",
       "      <td>...</td>\n",
       "      <td>...</td>\n",
       "      <td>...</td>\n",
       "      <td>...</td>\n",
       "      <td>...</td>\n",
       "      <td>...</td>\n",
       "      <td>...</td>\n",
       "      <td>...</td>\n",
       "      <td>...</td>\n",
       "      <td>...</td>\n",
       "      <td>...</td>\n",
       "      <td>...</td>\n",
       "      <td>...</td>\n",
       "      <td>...</td>\n",
       "      <td>...</td>\n",
       "      <td>...</td>\n",
       "      <td>...</td>\n",
       "      <td>...</td>\n",
       "    </tr>\n",
       "    <tr>\n",
       "      <th>5191</th>\n",
       "      <td>4624</td>\n",
       "      <td>1953.0</td>\n",
       "      <td>128</td>\n",
       "      <td>55.0</td>\n",
       "      <td>44</td>\n",
       "      <td>0.0</td>\n",
       "      <td>0.0</td>\n",
       "      <td>-1.0</td>\n",
       "      <td>0.0</td>\n",
       "      <td>0.0</td>\n",
       "      <td>...</td>\n",
       "      <td>1.0</td>\n",
       "      <td>0.0</td>\n",
       "      <td>0.0</td>\n",
       "      <td>0.0</td>\n",
       "      <td>0.0</td>\n",
       "      <td>0.0</td>\n",
       "      <td>0.0</td>\n",
       "      <td>0.0</td>\n",
       "      <td>0.0</td>\n",
       "      <td>0.0</td>\n",
       "    </tr>\n",
       "    <tr>\n",
       "      <th>13418</th>\n",
       "      <td>11931</td>\n",
       "      <td>2004.0</td>\n",
       "      <td>174</td>\n",
       "      <td>203.0</td>\n",
       "      <td>2485</td>\n",
       "      <td>0.0</td>\n",
       "      <td>1.0</td>\n",
       "      <td>0.0</td>\n",
       "      <td>0.0</td>\n",
       "      <td>0.0</td>\n",
       "      <td>...</td>\n",
       "      <td>0.0</td>\n",
       "      <td>0.0</td>\n",
       "      <td>0.0</td>\n",
       "      <td>0.0</td>\n",
       "      <td>0.0</td>\n",
       "      <td>1.0</td>\n",
       "      <td>0.0</td>\n",
       "      <td>0.0</td>\n",
       "      <td>1.0</td>\n",
       "      <td>1.0</td>\n",
       "    </tr>\n",
       "    <tr>\n",
       "      <th>5390</th>\n",
       "      <td>4787</td>\n",
       "      <td>1999.0</td>\n",
       "      <td>128</td>\n",
       "      <td>6.0</td>\n",
       "      <td>4464</td>\n",
       "      <td>0.0</td>\n",
       "      <td>0.0</td>\n",
       "      <td>0.0</td>\n",
       "      <td>1.0</td>\n",
       "      <td>0.0</td>\n",
       "      <td>...</td>\n",
       "      <td>0.0</td>\n",
       "      <td>0.0</td>\n",
       "      <td>0.0</td>\n",
       "      <td>-1.0</td>\n",
       "      <td>0.0</td>\n",
       "      <td>1.0</td>\n",
       "      <td>1.0</td>\n",
       "      <td>0.0</td>\n",
       "      <td>0.0</td>\n",
       "      <td>0.0</td>\n",
       "    </tr>\n",
       "    <tr>\n",
       "      <th>860</th>\n",
       "      <td>767</td>\n",
       "      <td>2021.0</td>\n",
       "      <td>128</td>\n",
       "      <td>55.0</td>\n",
       "      <td>4625</td>\n",
       "      <td>0.0</td>\n",
       "      <td>1.0</td>\n",
       "      <td>0.0</td>\n",
       "      <td>0.0</td>\n",
       "      <td>0.0</td>\n",
       "      <td>...</td>\n",
       "      <td>1.0</td>\n",
       "      <td>-1.0</td>\n",
       "      <td>0.0</td>\n",
       "      <td>0.0</td>\n",
       "      <td>0.0</td>\n",
       "      <td>-1.0</td>\n",
       "      <td>0.0</td>\n",
       "      <td>0.0</td>\n",
       "      <td>0.0</td>\n",
       "      <td>0.0</td>\n",
       "    </tr>\n",
       "    <tr>\n",
       "      <th>7270</th>\n",
       "      <td>6478</td>\n",
       "      <td>1960.0</td>\n",
       "      <td>150</td>\n",
       "      <td>415.0</td>\n",
       "      <td>828</td>\n",
       "      <td>0.0</td>\n",
       "      <td>0.0</td>\n",
       "      <td>0.0</td>\n",
       "      <td>0.0</td>\n",
       "      <td>0.0</td>\n",
       "      <td>...</td>\n",
       "      <td>0.0</td>\n",
       "      <td>0.0</td>\n",
       "      <td>0.0</td>\n",
       "      <td>1.0</td>\n",
       "      <td>-1.0</td>\n",
       "      <td>-1.0</td>\n",
       "      <td>0.0</td>\n",
       "      <td>0.0</td>\n",
       "      <td>0.0</td>\n",
       "      <td>0.0</td>\n",
       "    </tr>\n",
       "  </tbody>\n",
       "</table>\n",
       "<p>12397 rows × 25 columns</p>\n",
       "</div>"
      ],
      "text/plain": [
       "        Name    Year Duration   Votes  Director  Genre0  Genre1  Genre2  \\\n",
       "5353    4755  1955.0      128    55.0      3350     0.0     0.0     0.0   \n",
       "15322  13694  2008.0      151  4147.0      5177     0.0     0.0     0.0   \n",
       "335      315  1989.0      149    53.0       666     0.0     0.0     0.0   \n",
       "8304    7434  2019.0      128    55.0      1748     0.0     0.0     0.0   \n",
       "5400    4796  1990.0      128    55.0      3159     0.0     0.0    -1.0   \n",
       "...      ...     ...      ...     ...       ...     ...     ...     ...   \n",
       "5191    4624  1953.0      128    55.0        44     0.0     0.0    -1.0   \n",
       "13418  11931  2004.0      174   203.0      2485     0.0     1.0     0.0   \n",
       "5390    4787  1999.0      128     6.0      4464     0.0     0.0     0.0   \n",
       "860      767  2021.0      128    55.0      4625     0.0     1.0     0.0   \n",
       "7270    6478  1960.0      150   415.0       828     0.0     0.0     0.0   \n",
       "\n",
       "       Genre3  Genre4  ...  Actors0  Actors1  Actors2  Actors3  Actors4  \\\n",
       "5353      0.0     0.0  ...      0.0      0.0      0.0     -1.0      1.0   \n",
       "15322     0.0     0.0  ...      0.0      1.0      0.0      0.0      0.0   \n",
       "335       0.0     0.0  ...      1.0      0.0      0.0      0.0      0.0   \n",
       "8304      0.0     0.0  ...      0.0      0.0     -1.0      0.0      0.0   \n",
       "5400      0.0     0.0  ...      1.0      0.0      0.0      0.0      0.0   \n",
       "...       ...     ...  ...      ...      ...      ...      ...      ...   \n",
       "5191      0.0     0.0  ...      1.0      0.0      0.0      0.0      0.0   \n",
       "13418     0.0     0.0  ...      0.0      0.0      0.0      0.0      0.0   \n",
       "5390      1.0     0.0  ...      0.0      0.0      0.0     -1.0      0.0   \n",
       "860       0.0     0.0  ...      1.0     -1.0      0.0      0.0      0.0   \n",
       "7270      0.0     0.0  ...      0.0      0.0      0.0      1.0     -1.0   \n",
       "\n",
       "       Actors5  Actors6  Actors7  Actors8  Actors9  \n",
       "5353       0.0      0.0      0.0     -1.0      0.0  \n",
       "15322      0.0      0.0     -1.0     -1.0      0.0  \n",
       "335       -1.0      0.0      0.0     -1.0      0.0  \n",
       "8304       0.0      0.0      1.0     -1.0      0.0  \n",
       "5400       0.0      0.0      0.0      0.0      0.0  \n",
       "...        ...      ...      ...      ...      ...  \n",
       "5191       0.0      0.0      0.0      0.0      0.0  \n",
       "13418      1.0      0.0      0.0      1.0      1.0  \n",
       "5390       1.0      1.0      0.0      0.0      0.0  \n",
       "860       -1.0      0.0      0.0      0.0      0.0  \n",
       "7270      -1.0      0.0      0.0      0.0      0.0  \n",
       "\n",
       "[12397 rows x 25 columns]"
      ]
     },
     "execution_count": 863,
     "metadata": {},
     "output_type": "execute_result"
    }
   ],
   "source": [
    "X_train"
   ]
  },
  {
   "cell_type": "code",
   "execution_count": 864,
   "id": "0ff40556-3721-48a8-ac55-8834cddf83a2",
   "metadata": {},
   "outputs": [
    {
     "data": {
      "text/plain": [
       "0.9700142643993769"
      ]
     },
     "execution_count": 864,
     "metadata": {},
     "output_type": "execute_result"
    }
   ],
   "source": [
    "# Linear Regression\n",
    "linear_reg = LinearRegression()\n",
    "linear_reg.fit(X_train, y_train)\n",
    "y_pred = linear_reg.predict(X_test)\n",
    "mean_squared_error(y_test, y_pred)"
   ]
  },
  {
   "cell_type": "code",
   "execution_count": 865,
   "id": "ff11f071-6075-4425-874e-88db0d7c34d3",
   "metadata": {},
   "outputs": [],
   "source": [
    "# KFold\n",
    "def cross_valid(times, X, y):\n",
    "    acc = []\n",
    "    for i in range(times):\n",
    "        lin_reg = LinearRegression()\n",
    "        X_train_sample, X_test_sample, y_train_sample, y_test_sample = train_test_split(X, y, test_size=0.2, random_state=i)\n",
    "        lin_reg.fit(X_train_sample, y_train_sample)\n",
    "        y_pred_sample = lin_reg.predict(X_test_sample)\n",
    "        acc.append(mean_squared_error(y_pred_sample, y_test_sample))\n",
    "    return acc"
   ]
  },
  {
   "cell_type": "code",
   "execution_count": 866,
   "id": "a3ea489e-1a3c-4273-9498-bf7512b4d4f7",
   "metadata": {},
   "outputs": [
    {
     "data": {
      "text/plain": [
       "array([0.98481926, 0.93764461, 0.89812089, 0.99715571, 0.96079152,\n",
       "       0.98637184, 0.93330949, 0.89952593, 0.98097447, 0.97619919])"
      ]
     },
     "execution_count": 866,
     "metadata": {},
     "output_type": "execute_result"
    }
   ],
   "source": [
    "kfold = np.array(cross_valid(10,X,y))\n",
    "kfold"
   ]
  },
  {
   "cell_type": "code",
   "execution_count": 868,
   "id": "79cc39a4-8da6-497b-993d-67cf7b92f656",
   "metadata": {},
   "outputs": [
    {
     "name": "stdout",
     "output_type": "stream",
     "text": [
      "Accuracy of Linear Regression (10 K-Fold): 0.9554912912450515\n"
     ]
    }
   ],
   "source": [
    "print(f\"Accuracy of Linear Regression (10 K-Fold): {kfold.mean()}\")"
   ]
  },
  {
   "cell_type": "markdown",
   "id": "71f465ca-7c85-47c5-97c7-3b22b16527fc",
   "metadata": {},
   "source": [
    "<br>As you can notice, the function for obtaining K-Fold changes the random_state for every iteration. <br>\n",
    "This way, we ensure that the training set and testing set chosen in every iteration are different. <br>\n",
    "Even after shuffling the data for every iteration of cross-validation, still the accuracy remains great. <br>\n",
    "Thus, the objective of building a model for Movie Rating Prediction was successfully accomplished."
   ]
  }
 ],
 "metadata": {
  "kernelspec": {
   "display_name": "Python 3 (ipykernel)",
   "language": "python",
   "name": "python3"
  },
  "language_info": {
   "codemirror_mode": {
    "name": "ipython",
    "version": 3
   },
   "file_extension": ".py",
   "mimetype": "text/x-python",
   "name": "python",
   "nbconvert_exporter": "python",
   "pygments_lexer": "ipython3",
   "version": "3.11.0"
  }
 },
 "nbformat": 4,
 "nbformat_minor": 5
}
