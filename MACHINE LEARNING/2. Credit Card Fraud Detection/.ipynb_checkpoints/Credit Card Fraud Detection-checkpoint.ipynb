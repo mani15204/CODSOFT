{
 "cells": [
  {
   "cell_type": "markdown",
   "id": "74668c90-1970-4ca4-ac9f-e6585184ffde",
   "metadata": {},
   "source": [
    "# Credit Card Fraud Detection"
   ]
  },
  {
   "cell_type": "markdown",
   "id": "5d88970f-d620-4687-b4e7-0632d027f0f3",
   "metadata": {},
   "source": [
    "Due to the large size of dataset, I was unable to include the dataset in github. <br>\n",
    "Kindly use the following link to download the dataset and extract it. <br>\n",
    "https://www.kaggle.com/datasets/kartik2112/fraud-detection\n",
    "\n",
    "Note that the relative path used in pd.read_csv() may vary depending on the folder structure. <br>\n",
    "Ensure to use the proper relative path for this code to work."
   ]
  },
  {
   "cell_type": "code",
   "execution_count": 106,
   "id": "a97aea55-4244-445a-a509-286888bdb6b4",
   "metadata": {},
   "outputs": [],
   "source": [
    "import pandas as pd\n",
    "\n",
    "from sklearn.preprocessing import LabelEncoder\n",
    "from sklearn.feature_extraction import FeatureHasher\n",
    "from sklearn.model_selection import train_test_split, KFold, cross_val_score\n",
    "from sklearn.linear_model import LogisticRegression\n",
    "from sklearn.metrics import accuracy_score"
   ]
  },
  {
   "cell_type": "markdown",
   "id": "6d403c78-4957-4bd3-af27-801d70a90f92",
   "metadata": {
    "jp-MarkdownHeadingCollapsed": true
   },
   "source": [
    "## Importing the dataset"
   ]
  },
  {
   "cell_type": "code",
   "execution_count": 2,
   "id": "1d063ad2-cdeb-463b-bbce-5f3ea680a694",
   "metadata": {},
   "outputs": [
    {
     "data": {
      "text/html": [
       "<div>\n",
       "<style scoped>\n",
       "    .dataframe tbody tr th:only-of-type {\n",
       "        vertical-align: middle;\n",
       "    }\n",
       "\n",
       "    .dataframe tbody tr th {\n",
       "        vertical-align: top;\n",
       "    }\n",
       "\n",
       "    .dataframe thead th {\n",
       "        text-align: right;\n",
       "    }\n",
       "</style>\n",
       "<table border=\"1\" class=\"dataframe\">\n",
       "  <thead>\n",
       "    <tr style=\"text-align: right;\">\n",
       "      <th></th>\n",
       "      <th>Unnamed: 0</th>\n",
       "      <th>trans_date_trans_time</th>\n",
       "      <th>cc_num</th>\n",
       "      <th>merchant</th>\n",
       "      <th>category</th>\n",
       "      <th>amt</th>\n",
       "      <th>first</th>\n",
       "      <th>last</th>\n",
       "      <th>gender</th>\n",
       "      <th>street</th>\n",
       "      <th>...</th>\n",
       "      <th>lat</th>\n",
       "      <th>long</th>\n",
       "      <th>city_pop</th>\n",
       "      <th>job</th>\n",
       "      <th>dob</th>\n",
       "      <th>trans_num</th>\n",
       "      <th>unix_time</th>\n",
       "      <th>merch_lat</th>\n",
       "      <th>merch_long</th>\n",
       "      <th>is_fraud</th>\n",
       "    </tr>\n",
       "  </thead>\n",
       "  <tbody>\n",
       "    <tr>\n",
       "      <th>0</th>\n",
       "      <td>0</td>\n",
       "      <td>2019-01-01 00:00:18</td>\n",
       "      <td>2703186189652095</td>\n",
       "      <td>fraud_Rippin, Kub and Mann</td>\n",
       "      <td>misc_net</td>\n",
       "      <td>4.97</td>\n",
       "      <td>Jennifer</td>\n",
       "      <td>Banks</td>\n",
       "      <td>F</td>\n",
       "      <td>561 Perry Cove</td>\n",
       "      <td>...</td>\n",
       "      <td>36.0788</td>\n",
       "      <td>-81.1781</td>\n",
       "      <td>3495</td>\n",
       "      <td>Psychologist, counselling</td>\n",
       "      <td>1988-03-09</td>\n",
       "      <td>0b242abb623afc578575680df30655b9</td>\n",
       "      <td>1325376018</td>\n",
       "      <td>36.011293</td>\n",
       "      <td>-82.048315</td>\n",
       "      <td>0</td>\n",
       "    </tr>\n",
       "    <tr>\n",
       "      <th>1</th>\n",
       "      <td>1</td>\n",
       "      <td>2019-01-01 00:00:44</td>\n",
       "      <td>630423337322</td>\n",
       "      <td>fraud_Heller, Gutmann and Zieme</td>\n",
       "      <td>grocery_pos</td>\n",
       "      <td>107.23</td>\n",
       "      <td>Stephanie</td>\n",
       "      <td>Gill</td>\n",
       "      <td>F</td>\n",
       "      <td>43039 Riley Greens Suite 393</td>\n",
       "      <td>...</td>\n",
       "      <td>48.8878</td>\n",
       "      <td>-118.2105</td>\n",
       "      <td>149</td>\n",
       "      <td>Special educational needs teacher</td>\n",
       "      <td>1978-06-21</td>\n",
       "      <td>1f76529f8574734946361c461b024d99</td>\n",
       "      <td>1325376044</td>\n",
       "      <td>49.159047</td>\n",
       "      <td>-118.186462</td>\n",
       "      <td>0</td>\n",
       "    </tr>\n",
       "    <tr>\n",
       "      <th>2</th>\n",
       "      <td>2</td>\n",
       "      <td>2019-01-01 00:00:51</td>\n",
       "      <td>38859492057661</td>\n",
       "      <td>fraud_Lind-Buckridge</td>\n",
       "      <td>entertainment</td>\n",
       "      <td>220.11</td>\n",
       "      <td>Edward</td>\n",
       "      <td>Sanchez</td>\n",
       "      <td>M</td>\n",
       "      <td>594 White Dale Suite 530</td>\n",
       "      <td>...</td>\n",
       "      <td>42.1808</td>\n",
       "      <td>-112.2620</td>\n",
       "      <td>4154</td>\n",
       "      <td>Nature conservation officer</td>\n",
       "      <td>1962-01-19</td>\n",
       "      <td>a1a22d70485983eac12b5b88dad1cf95</td>\n",
       "      <td>1325376051</td>\n",
       "      <td>43.150704</td>\n",
       "      <td>-112.154481</td>\n",
       "      <td>0</td>\n",
       "    </tr>\n",
       "    <tr>\n",
       "      <th>3</th>\n",
       "      <td>3</td>\n",
       "      <td>2019-01-01 00:01:16</td>\n",
       "      <td>3534093764340240</td>\n",
       "      <td>fraud_Kutch, Hermiston and Farrell</td>\n",
       "      <td>gas_transport</td>\n",
       "      <td>45.00</td>\n",
       "      <td>Jeremy</td>\n",
       "      <td>White</td>\n",
       "      <td>M</td>\n",
       "      <td>9443 Cynthia Court Apt. 038</td>\n",
       "      <td>...</td>\n",
       "      <td>46.2306</td>\n",
       "      <td>-112.1138</td>\n",
       "      <td>1939</td>\n",
       "      <td>Patent attorney</td>\n",
       "      <td>1967-01-12</td>\n",
       "      <td>6b849c168bdad6f867558c3793159a81</td>\n",
       "      <td>1325376076</td>\n",
       "      <td>47.034331</td>\n",
       "      <td>-112.561071</td>\n",
       "      <td>0</td>\n",
       "    </tr>\n",
       "    <tr>\n",
       "      <th>4</th>\n",
       "      <td>4</td>\n",
       "      <td>2019-01-01 00:03:06</td>\n",
       "      <td>375534208663984</td>\n",
       "      <td>fraud_Keeling-Crist</td>\n",
       "      <td>misc_pos</td>\n",
       "      <td>41.96</td>\n",
       "      <td>Tyler</td>\n",
       "      <td>Garcia</td>\n",
       "      <td>M</td>\n",
       "      <td>408 Bradley Rest</td>\n",
       "      <td>...</td>\n",
       "      <td>38.4207</td>\n",
       "      <td>-79.4629</td>\n",
       "      <td>99</td>\n",
       "      <td>Dance movement psychotherapist</td>\n",
       "      <td>1986-03-28</td>\n",
       "      <td>a41d7549acf90789359a9aa5346dcb46</td>\n",
       "      <td>1325376186</td>\n",
       "      <td>38.674999</td>\n",
       "      <td>-78.632459</td>\n",
       "      <td>0</td>\n",
       "    </tr>\n",
       "    <tr>\n",
       "      <th>...</th>\n",
       "      <td>...</td>\n",
       "      <td>...</td>\n",
       "      <td>...</td>\n",
       "      <td>...</td>\n",
       "      <td>...</td>\n",
       "      <td>...</td>\n",
       "      <td>...</td>\n",
       "      <td>...</td>\n",
       "      <td>...</td>\n",
       "      <td>...</td>\n",
       "      <td>...</td>\n",
       "      <td>...</td>\n",
       "      <td>...</td>\n",
       "      <td>...</td>\n",
       "      <td>...</td>\n",
       "      <td>...</td>\n",
       "      <td>...</td>\n",
       "      <td>...</td>\n",
       "      <td>...</td>\n",
       "      <td>...</td>\n",
       "      <td>...</td>\n",
       "    </tr>\n",
       "    <tr>\n",
       "      <th>1296670</th>\n",
       "      <td>1296670</td>\n",
       "      <td>2020-06-21 12:12:08</td>\n",
       "      <td>30263540414123</td>\n",
       "      <td>fraud_Reichel Inc</td>\n",
       "      <td>entertainment</td>\n",
       "      <td>15.56</td>\n",
       "      <td>Erik</td>\n",
       "      <td>Patterson</td>\n",
       "      <td>M</td>\n",
       "      <td>162 Jessica Row Apt. 072</td>\n",
       "      <td>...</td>\n",
       "      <td>37.7175</td>\n",
       "      <td>-112.4777</td>\n",
       "      <td>258</td>\n",
       "      <td>Geoscientist</td>\n",
       "      <td>1961-11-24</td>\n",
       "      <td>440b587732da4dc1a6395aba5fb41669</td>\n",
       "      <td>1371816728</td>\n",
       "      <td>36.841266</td>\n",
       "      <td>-111.690765</td>\n",
       "      <td>0</td>\n",
       "    </tr>\n",
       "    <tr>\n",
       "      <th>1296671</th>\n",
       "      <td>1296671</td>\n",
       "      <td>2020-06-21 12:12:19</td>\n",
       "      <td>6011149206456997</td>\n",
       "      <td>fraud_Abernathy and Sons</td>\n",
       "      <td>food_dining</td>\n",
       "      <td>51.70</td>\n",
       "      <td>Jeffrey</td>\n",
       "      <td>White</td>\n",
       "      <td>M</td>\n",
       "      <td>8617 Holmes Terrace Suite 651</td>\n",
       "      <td>...</td>\n",
       "      <td>39.2667</td>\n",
       "      <td>-77.5101</td>\n",
       "      <td>100</td>\n",
       "      <td>Production assistant, television</td>\n",
       "      <td>1979-12-11</td>\n",
       "      <td>278000d2e0d2277d1de2f890067dcc0a</td>\n",
       "      <td>1371816739</td>\n",
       "      <td>38.906881</td>\n",
       "      <td>-78.246528</td>\n",
       "      <td>0</td>\n",
       "    </tr>\n",
       "    <tr>\n",
       "      <th>1296672</th>\n",
       "      <td>1296672</td>\n",
       "      <td>2020-06-21 12:12:32</td>\n",
       "      <td>3514865930894695</td>\n",
       "      <td>fraud_Stiedemann Ltd</td>\n",
       "      <td>food_dining</td>\n",
       "      <td>105.93</td>\n",
       "      <td>Christopher</td>\n",
       "      <td>Castaneda</td>\n",
       "      <td>M</td>\n",
       "      <td>1632 Cohen Drive Suite 639</td>\n",
       "      <td>...</td>\n",
       "      <td>32.9396</td>\n",
       "      <td>-105.8189</td>\n",
       "      <td>899</td>\n",
       "      <td>Naval architect</td>\n",
       "      <td>1967-08-30</td>\n",
       "      <td>483f52fe67fabef353d552c1e662974c</td>\n",
       "      <td>1371816752</td>\n",
       "      <td>33.619513</td>\n",
       "      <td>-105.130529</td>\n",
       "      <td>0</td>\n",
       "    </tr>\n",
       "    <tr>\n",
       "      <th>1296673</th>\n",
       "      <td>1296673</td>\n",
       "      <td>2020-06-21 12:13:36</td>\n",
       "      <td>2720012583106919</td>\n",
       "      <td>fraud_Reinger, Weissnat and Strosin</td>\n",
       "      <td>food_dining</td>\n",
       "      <td>74.90</td>\n",
       "      <td>Joseph</td>\n",
       "      <td>Murray</td>\n",
       "      <td>M</td>\n",
       "      <td>42933 Ryan Underpass</td>\n",
       "      <td>...</td>\n",
       "      <td>43.3526</td>\n",
       "      <td>-102.5411</td>\n",
       "      <td>1126</td>\n",
       "      <td>Volunteer coordinator</td>\n",
       "      <td>1980-08-18</td>\n",
       "      <td>d667cdcbadaaed3da3f4020e83591c83</td>\n",
       "      <td>1371816816</td>\n",
       "      <td>42.788940</td>\n",
       "      <td>-103.241160</td>\n",
       "      <td>0</td>\n",
       "    </tr>\n",
       "    <tr>\n",
       "      <th>1296674</th>\n",
       "      <td>1296674</td>\n",
       "      <td>2020-06-21 12:13:37</td>\n",
       "      <td>4292902571056973207</td>\n",
       "      <td>fraud_Langosh, Wintheiser and Hyatt</td>\n",
       "      <td>food_dining</td>\n",
       "      <td>4.30</td>\n",
       "      <td>Jeffrey</td>\n",
       "      <td>Smith</td>\n",
       "      <td>M</td>\n",
       "      <td>135 Joseph Mountains</td>\n",
       "      <td>...</td>\n",
       "      <td>45.8433</td>\n",
       "      <td>-113.8748</td>\n",
       "      <td>218</td>\n",
       "      <td>Therapist, horticultural</td>\n",
       "      <td>1995-08-16</td>\n",
       "      <td>8f7c8e4ab7f25875d753b422917c98c9</td>\n",
       "      <td>1371816817</td>\n",
       "      <td>46.565983</td>\n",
       "      <td>-114.186110</td>\n",
       "      <td>0</td>\n",
       "    </tr>\n",
       "  </tbody>\n",
       "</table>\n",
       "<p>1296675 rows × 23 columns</p>\n",
       "</div>"
      ],
      "text/plain": [
       "         Unnamed: 0 trans_date_trans_time               cc_num  \\\n",
       "0                 0   2019-01-01 00:00:18     2703186189652095   \n",
       "1                 1   2019-01-01 00:00:44         630423337322   \n",
       "2                 2   2019-01-01 00:00:51       38859492057661   \n",
       "3                 3   2019-01-01 00:01:16     3534093764340240   \n",
       "4                 4   2019-01-01 00:03:06      375534208663984   \n",
       "...             ...                   ...                  ...   \n",
       "1296670     1296670   2020-06-21 12:12:08       30263540414123   \n",
       "1296671     1296671   2020-06-21 12:12:19     6011149206456997   \n",
       "1296672     1296672   2020-06-21 12:12:32     3514865930894695   \n",
       "1296673     1296673   2020-06-21 12:13:36     2720012583106919   \n",
       "1296674     1296674   2020-06-21 12:13:37  4292902571056973207   \n",
       "\n",
       "                                    merchant       category     amt  \\\n",
       "0                 fraud_Rippin, Kub and Mann       misc_net    4.97   \n",
       "1            fraud_Heller, Gutmann and Zieme    grocery_pos  107.23   \n",
       "2                       fraud_Lind-Buckridge  entertainment  220.11   \n",
       "3         fraud_Kutch, Hermiston and Farrell  gas_transport   45.00   \n",
       "4                        fraud_Keeling-Crist       misc_pos   41.96   \n",
       "...                                      ...            ...     ...   \n",
       "1296670                    fraud_Reichel Inc  entertainment   15.56   \n",
       "1296671             fraud_Abernathy and Sons    food_dining   51.70   \n",
       "1296672                 fraud_Stiedemann Ltd    food_dining  105.93   \n",
       "1296673  fraud_Reinger, Weissnat and Strosin    food_dining   74.90   \n",
       "1296674  fraud_Langosh, Wintheiser and Hyatt    food_dining    4.30   \n",
       "\n",
       "               first       last gender                         street  ...  \\\n",
       "0           Jennifer      Banks      F                 561 Perry Cove  ...   \n",
       "1          Stephanie       Gill      F   43039 Riley Greens Suite 393  ...   \n",
       "2             Edward    Sanchez      M       594 White Dale Suite 530  ...   \n",
       "3             Jeremy      White      M    9443 Cynthia Court Apt. 038  ...   \n",
       "4              Tyler     Garcia      M               408 Bradley Rest  ...   \n",
       "...              ...        ...    ...                            ...  ...   \n",
       "1296670         Erik  Patterson      M       162 Jessica Row Apt. 072  ...   \n",
       "1296671      Jeffrey      White      M  8617 Holmes Terrace Suite 651  ...   \n",
       "1296672  Christopher  Castaneda      M     1632 Cohen Drive Suite 639  ...   \n",
       "1296673       Joseph     Murray      M           42933 Ryan Underpass  ...   \n",
       "1296674      Jeffrey      Smith      M           135 Joseph Mountains  ...   \n",
       "\n",
       "             lat      long  city_pop                                job  \\\n",
       "0        36.0788  -81.1781      3495          Psychologist, counselling   \n",
       "1        48.8878 -118.2105       149  Special educational needs teacher   \n",
       "2        42.1808 -112.2620      4154        Nature conservation officer   \n",
       "3        46.2306 -112.1138      1939                    Patent attorney   \n",
       "4        38.4207  -79.4629        99     Dance movement psychotherapist   \n",
       "...          ...       ...       ...                                ...   \n",
       "1296670  37.7175 -112.4777       258                       Geoscientist   \n",
       "1296671  39.2667  -77.5101       100   Production assistant, television   \n",
       "1296672  32.9396 -105.8189       899                    Naval architect   \n",
       "1296673  43.3526 -102.5411      1126              Volunteer coordinator   \n",
       "1296674  45.8433 -113.8748       218           Therapist, horticultural   \n",
       "\n",
       "                dob                         trans_num   unix_time  merch_lat  \\\n",
       "0        1988-03-09  0b242abb623afc578575680df30655b9  1325376018  36.011293   \n",
       "1        1978-06-21  1f76529f8574734946361c461b024d99  1325376044  49.159047   \n",
       "2        1962-01-19  a1a22d70485983eac12b5b88dad1cf95  1325376051  43.150704   \n",
       "3        1967-01-12  6b849c168bdad6f867558c3793159a81  1325376076  47.034331   \n",
       "4        1986-03-28  a41d7549acf90789359a9aa5346dcb46  1325376186  38.674999   \n",
       "...             ...                               ...         ...        ...   \n",
       "1296670  1961-11-24  440b587732da4dc1a6395aba5fb41669  1371816728  36.841266   \n",
       "1296671  1979-12-11  278000d2e0d2277d1de2f890067dcc0a  1371816739  38.906881   \n",
       "1296672  1967-08-30  483f52fe67fabef353d552c1e662974c  1371816752  33.619513   \n",
       "1296673  1980-08-18  d667cdcbadaaed3da3f4020e83591c83  1371816816  42.788940   \n",
       "1296674  1995-08-16  8f7c8e4ab7f25875d753b422917c98c9  1371816817  46.565983   \n",
       "\n",
       "         merch_long  is_fraud  \n",
       "0        -82.048315         0  \n",
       "1       -118.186462         0  \n",
       "2       -112.154481         0  \n",
       "3       -112.561071         0  \n",
       "4        -78.632459         0  \n",
       "...             ...       ...  \n",
       "1296670 -111.690765         0  \n",
       "1296671  -78.246528         0  \n",
       "1296672 -105.130529         0  \n",
       "1296673 -103.241160         0  \n",
       "1296674 -114.186110         0  \n",
       "\n",
       "[1296675 rows x 23 columns]"
      ]
     },
     "execution_count": 2,
     "metadata": {},
     "output_type": "execute_result"
    }
   ],
   "source": [
    "df = pd.read_csv(\"fraudTrain.csv\")\n",
    "df"
   ]
  },
  {
   "cell_type": "code",
   "execution_count": 3,
   "id": "8fc6ab36-5c36-486c-9963-2d0a301540df",
   "metadata": {},
   "outputs": [
    {
     "data": {
      "text/plain": [
       "(1296675, 23)"
      ]
     },
     "execution_count": 3,
     "metadata": {},
     "output_type": "execute_result"
    }
   ],
   "source": [
    "df.shape"
   ]
  },
  {
   "cell_type": "code",
   "execution_count": 4,
   "id": "9b9d519b-b527-4d89-8f46-1710338c6172",
   "metadata": {},
   "outputs": [
    {
     "data": {
      "text/plain": [
       "Index(['Unnamed: 0', 'trans_date_trans_time', 'cc_num', 'merchant', 'category',\n",
       "       'amt', 'first', 'last', 'gender', 'street', 'city', 'state', 'zip',\n",
       "       'lat', 'long', 'city_pop', 'job', 'dob', 'trans_num', 'unix_time',\n",
       "       'merch_lat', 'merch_long', 'is_fraud'],\n",
       "      dtype='object')"
      ]
     },
     "execution_count": 4,
     "metadata": {},
     "output_type": "execute_result"
    }
   ],
   "source": [
    "df.columns"
   ]
  },
  {
   "cell_type": "code",
   "execution_count": 5,
   "id": "68ab60ef-b837-4734-a50b-8e1c1dc465b4",
   "metadata": {},
   "outputs": [
    {
     "data": {
      "text/plain": [
       "0"
      ]
     },
     "execution_count": 5,
     "metadata": {},
     "output_type": "execute_result"
    }
   ],
   "source": [
    "# No. of duplicated entries\n",
    "df.duplicated().sum()"
   ]
  },
  {
   "cell_type": "code",
   "execution_count": 6,
   "id": "fd2cdd90-3fa2-4aba-9d03-e737947d3eb3",
   "metadata": {},
   "outputs": [
    {
     "data": {
      "text/plain": [
       "Unnamed: 0               0\n",
       "trans_date_trans_time    0\n",
       "cc_num                   0\n",
       "merchant                 0\n",
       "category                 0\n",
       "amt                      0\n",
       "first                    0\n",
       "last                     0\n",
       "gender                   0\n",
       "street                   0\n",
       "city                     0\n",
       "state                    0\n",
       "zip                      0\n",
       "lat                      0\n",
       "long                     0\n",
       "city_pop                 0\n",
       "job                      0\n",
       "dob                      0\n",
       "trans_num                0\n",
       "unix_time                0\n",
       "merch_lat                0\n",
       "merch_long               0\n",
       "is_fraud                 0\n",
       "dtype: int64"
      ]
     },
     "execution_count": 6,
     "metadata": {},
     "output_type": "execute_result"
    }
   ],
   "source": [
    "# No. of null entries\n",
    "df.isnull().sum()"
   ]
  },
  {
   "cell_type": "markdown",
   "id": "36bee5b5-44c0-417e-b0d3-189b82a5b64d",
   "metadata": {
    "jp-MarkdownHeadingCollapsed": true
   },
   "source": [
    "## Preprocessing"
   ]
  },
  {
   "cell_type": "code",
   "execution_count": 7,
   "id": "f9da222e-340e-4b54-83cb-aa6ec533e12d",
   "metadata": {},
   "outputs": [],
   "source": [
    "df.drop(\"Unnamed: 0\", axis=1, inplace=True)"
   ]
  },
  {
   "cell_type": "code",
   "execution_count": 8,
   "id": "5961c0ac-fa77-4491-9141-1e14a122c519",
   "metadata": {},
   "outputs": [],
   "source": [
    "trans_datetime = pd.to_datetime(df[\"trans_date_trans_time\"])"
   ]
  },
  {
   "cell_type": "code",
   "execution_count": 9,
   "id": "243cabdd-a059-45a0-abd6-55f22d1119ac",
   "metadata": {},
   "outputs": [],
   "source": [
    "df[\"day\"] = trans_datetime.dt.day\n",
    "df[\"month\"] = trans_datetime.dt.month\n",
    "df[\"year\"] = trans_datetime.dt.year\n",
    "\n",
    "df[\"hour\"] = trans_datetime.dt.hour\n",
    "df[\"minute\"] = trans_datetime.dt.minute\n",
    "df[\"second\"] = trans_datetime.dt.second"
   ]
  },
  {
   "cell_type": "code",
   "execution_count": 10,
   "id": "37fec3ff-bfca-44bc-ac10-53e2ec15cd43",
   "metadata": {},
   "outputs": [],
   "source": [
    "df.drop(\"trans_date_trans_time\", axis=1, inplace=True)"
   ]
  },
  {
   "cell_type": "code",
   "execution_count": 11,
   "id": "465d1195-5311-4602-b6d4-4bcde821a522",
   "metadata": {},
   "outputs": [
    {
     "data": {
      "text/plain": [
       "0    444\n",
       "1     42\n",
       "2    237\n",
       "3    509\n",
       "4    368\n",
       "Name: cc_num, dtype: int64"
      ]
     },
     "execution_count": 11,
     "metadata": {},
     "output_type": "execute_result"
    }
   ],
   "source": [
    "# Credit card number\n",
    "# Credit card number cannot directly contribute to Credit Card Fraud\n",
    "encoder = LabelEncoder()\n",
    "df[\"cc_num\"] = encoder.fit_transform(df['cc_num'])  # reducing the length of number\n",
    "df[\"cc_num\"].head()"
   ]
  },
  {
   "cell_type": "code",
   "execution_count": 12,
   "id": "3b60f1c9-2c3e-4445-881d-c88ae8ecc594",
   "metadata": {},
   "outputs": [
    {
     "data": {
      "text/plain": [
       "array([630423337322], dtype=int64)"
      ]
     },
     "execution_count": 12,
     "metadata": {},
     "output_type": "execute_result"
    }
   ],
   "source": [
    "encoder.inverse_transform([42])"
   ]
  },
  {
   "cell_type": "markdown",
   "id": "8cd18139-41f2-48e7-badb-4037df96d812",
   "metadata": {
    "jp-MarkdownHeadingCollapsed": true
   },
   "source": [
    "## Analysing the attribute \"merchant\""
   ]
  },
  {
   "cell_type": "markdown",
   "id": "cd56e581-f2f9-4d6b-9b64-af967e386084",
   "metadata": {},
   "source": [
    "This merchant attribute seems to be a complex data - having two informations combined together in a single variable.\n",
    "<br> Preprocessing this attribute can be challenging. Let's explore and check out!"
   ]
  },
  {
   "cell_type": "code",
   "execution_count": 13,
   "id": "c15762c3-87b0-4fdd-aac1-95247a4582cd",
   "metadata": {},
   "outputs": [
    {
     "data": {
      "text/plain": [
       "0"
      ]
     },
     "execution_count": 13,
     "metadata": {},
     "output_type": "execute_result"
    }
   ],
   "source": [
    "# All entries of merchant starts with \"fraud\"\n",
    "len(df[df[\"merchant\"].str.startswith(\"fraud\") == False])"
   ]
  },
  {
   "cell_type": "code",
   "execution_count": 14,
   "id": "e7a87dd9-dd02-43b4-994d-2c943f3febf9",
   "metadata": {},
   "outputs": [
    {
     "data": {
      "text/plain": [
       "3022"
      ]
     },
     "execution_count": 14,
     "metadata": {},
     "output_type": "execute_result"
    }
   ],
   "source": [
    "# Is there any repetition?\n",
    "len(df[df[\"merchant\"].str.startswith(\"fraud_Rippin\")])"
   ]
  },
  {
   "cell_type": "code",
   "execution_count": 15,
   "id": "7ba3c780-152f-4873-ac93-0dad159dc0b4",
   "metadata": {},
   "outputs": [
    {
     "data": {
      "text/plain": [
       "1267"
      ]
     },
     "execution_count": 15,
     "metadata": {},
     "output_type": "execute_result"
    }
   ],
   "source": [
    "# Is fraud_Rippin always with \"Kub and Mann\"?\n",
    "len(df[df[\"merchant\"] == \"fraud_Rippin, Kub and Mann\"])"
   ]
  },
  {
   "cell_type": "code",
   "execution_count": 16,
   "id": "a5e608cc-4d0a-4ada-b295-fb6da58c5511",
   "metadata": {},
   "outputs": [
    {
     "data": {
      "text/plain": [
       "array(['fraud_Rippin-VonRueden'], dtype=object)"
      ]
     },
     "execution_count": 16,
     "metadata": {},
     "output_type": "execute_result"
    }
   ],
   "source": [
    "# So, let's list out the possibilities where \"fraud_Rippin\" not with \"Kub and Mann\"\n",
    "df[(df[\"merchant\"].str.startswith(\"fraud_Rippin\")) & (df[\"merchant\"] != \"fraud_Rippin, Kub and Mann\")][\"merchant\"].unique()"
   ]
  },
  {
   "cell_type": "markdown",
   "id": "05eea861-255c-4e7a-93a0-76ab084f5e27",
   "metadata": {},
   "source": [
    "<br>So, here you go!  Here comes the twist!\n",
    "\"Fraud Rippin\" can be with both *Kub and Mann* & *VonRueden* <br>\n",
    "So, here comes the need to split \"fraud_ ...\" and other part. <br>\n",
    "Keeping those two in single variable will make \"fraud_Rippin-VonRueden\" and \"fraud_Rippin, Kub and Mann\" totally two different entity. <br>\n",
    "The \"fraud_Rippin\" can have his own characteristics, which may reflect in other features. <br>\n",
    "So, let's split them into two.\n",
    "\n",
    "<br>Let's collect some unique samples:\n",
    "- fraud_Rippin, Kub and Mann\n",
    "- fraud_Lind-Buckridge\n",
    "- fraud_Herzog Ltd\n",
    "- fraud_Schmidt and Sons"
   ]
  },
  {
   "cell_type": "code",
   "execution_count": 17,
   "id": "cd243252-7162-4ee3-9a8d-45e4b5ad41a5",
   "metadata": {},
   "outputs": [
    {
     "data": {
      "text/plain": [
       "array(['fraud_Rippin, Kub and Mann', 'fraud_Heller, Gutmann and Zieme',\n",
       "       'fraud_Lind-Buckridge', 'fraud_Kutch, Hermiston and Farrell',\n",
       "       'fraud_Keeling-Crist', 'fraud_Stroman, Hudson and Erdman',\n",
       "       'fraud_Rowe-Vandervort', 'fraud_Corwin-Collins',\n",
       "       'fraud_Herzog Ltd', 'fraud_Schoen, Kuphal and Nitzsche',\n",
       "       'fraud_Rutherford-Mertz', 'fraud_Kerluke-Abshire',\n",
       "       'fraud_Lockman Ltd', 'fraud_Kiehn Inc', 'fraud_Beier-Hyatt',\n",
       "       'fraud_Schmidt and Sons', 'fraud_Lebsack and Sons',\n",
       "       'fraud_Mayert Group', 'fraud_Konopelski, Schneider and Hartmann',\n",
       "       'fraud_Schultz, Simonis and Little'], dtype=object)"
      ]
     },
     "execution_count": 17,
     "metadata": {},
     "output_type": "execute_result"
    }
   ],
   "source": [
    "df[\"merchant\"].unique()[:20]"
   ]
  },
  {
   "cell_type": "code",
   "execution_count": 18,
   "id": "6bbc9cb1-7ef9-4845-921f-ec29853d6bbb",
   "metadata": {},
   "outputs": [
    {
     "data": {
      "text/plain": [
       "0          True\n",
       "1          True\n",
       "3          True\n",
       "5          True\n",
       "9          True\n",
       "           ... \n",
       "1296666    True\n",
       "1296667    True\n",
       "1296668    True\n",
       "1296673    True\n",
       "1296674    True\n",
       "Name: merchant, Length: 400966, dtype: bool"
      ]
     },
     "execution_count": 18,
     "metadata": {},
     "output_type": "execute_result"
    }
   ],
   "source": [
    "# Let's understand the first pattern   \"fraud_Rippin, Kub and Mann\"\n",
    "df[(df[\"merchant\"].str.contains(',')) & (df[\"merchant\"].str.contains('-') == False)][\"merchant\"].str.contains(\"and\")"
   ]
  },
  {
   "cell_type": "code",
   "execution_count": 19,
   "id": "cc389eba-3797-4111-a1f3-ee0c5438c4d7",
   "metadata": {},
   "outputs": [
    {
     "data": {
      "text/plain": [
       "400966"
      ]
     },
     "execution_count": 19,
     "metadata": {},
     "output_type": "execute_result"
    }
   ],
   "source": [
    "# How many of them are true?\n",
    "df[(df[\"merchant\"].str.contains(',')) & (df[\"merchant\"].str.contains('-') == False)][\"merchant\"].str.contains(\"and\").sum()"
   ]
  },
  {
   "cell_type": "markdown",
   "id": "a1d8a4cf-0ebe-44a7-b9ea-7b6a319b403b",
   "metadata": {},
   "source": [
    "Hence we can conclude that when \",\" is present, \"and\" is always present"
   ]
  },
  {
   "cell_type": "code",
   "execution_count": 20,
   "id": "aff2e86b-1161-4650-aca3-8fa427c62a6c",
   "metadata": {},
   "outputs": [
    {
     "data": {
      "text/plain": [
       "0"
      ]
     },
     "execution_count": 20,
     "metadata": {},
     "output_type": "execute_result"
    }
   ],
   "source": [
    "# presence of ',' with '-'\n",
    "len(df[(df[\"merchant\"].str.contains(',')) & (df[\"merchant\"].str.contains('-'))])"
   ]
  },
  {
   "cell_type": "markdown",
   "id": "d22c434e-1d8f-40c4-a183-4a8223fcfc55",
   "metadata": {},
   "source": [
    "This shows that ',' and '-'  never occured together. <br>\n",
    "This clearly explains us that pattern 1 and pattern 2 are totally independent and free to proceed. <br>"
   ]
  },
  {
   "cell_type": "code",
   "execution_count": 21,
   "id": "74879055-f300-4370-aa40-8be16fbee3d1",
   "metadata": {},
   "outputs": [
    {
     "name": "stdout",
     "output_type": "stream",
     "text": [
      "Series([], Name: merchant, dtype: object)\n",
      "Series([], Name: merchant, dtype: object)\n"
     ]
    }
   ],
   "source": [
    "# Let's analyze the second pattern   \"fraud_Lind-Buckridge\"\n",
    "print(df[(df[\"merchant\"].str.contains(\" -\")) & (df[\"merchant\"].str.contains(\",\") == False)][\"merchant\"])\n",
    "print(df[(df[\"merchant\"].str.contains(\"- \")) & (df[\"merchant\"].str.contains(\",\") == False)][\"merchant\"])"
   ]
  },
  {
   "cell_type": "markdown",
   "id": "9a13227a-b2dd-4557-a1d6-3849921df71b",
   "metadata": {},
   "source": [
    "<br>This shows that there's no exceptional spaces just before or after the '-' symbol. Great going!"
   ]
  },
  {
   "cell_type": "code",
   "execution_count": 22,
   "id": "d40532fb-491f-4e6c-9ad1-1ac899fd5bf5",
   "metadata": {},
   "outputs": [
    {
     "data": {
      "text/plain": [
       "array(['fraud_Lind-Buckridge', 'fraud_Keeling-Crist',\n",
       "       'fraud_Rowe-Vandervort', 'fraud_Corwin-Collins',\n",
       "       'fraud_Rutherford-Mertz'], dtype=object)"
      ]
     },
     "execution_count": 22,
     "metadata": {},
     "output_type": "execute_result"
    }
   ],
   "source": [
    "df[(df[\"merchant\"].str.contains(\"-\")) & (df[\"merchant\"].str.contains(\",\") == False)][\"merchant\"].unique()[:5]"
   ]
  },
  {
   "cell_type": "code",
   "execution_count": 23,
   "id": "cb9c003e-438a-477a-893e-ab3509948df7",
   "metadata": {},
   "outputs": [
    {
     "name": "stdout",
     "output_type": "stream",
     "text": [
      "Series([], Name: merchant, dtype: object)\n"
     ]
    }
   ],
   "source": [
    "print(df[(df[\"merchant\"].str.contains(\" -\")) & (df[\"merchant\"].str.contains(\",\") == False) & (df[\"merchant\"].str.contains('and'))][\"merchant\"])"
   ]
  },
  {
   "cell_type": "markdown",
   "id": "49bb27dc-94f6-4b8d-abc3-c075af37aa94",
   "metadata": {},
   "source": [
    "<br>When '-' is present, 'and' is never present.\n",
    "<br>So, clear difference -> if second part contains \"and\", the word is splitted with ',' else with '-'\n",
    "<br> Marvellous, let's proceed!"
   ]
  },
  {
   "cell_type": "code",
   "execution_count": 24,
   "id": "9fb945f6-d508-48b0-9230-9139704d9efb",
   "metadata": {},
   "outputs": [
    {
     "data": {
      "text/plain": [
       "array(['fraud_Herzog Ltd', 'fraud_Lockman Ltd', 'fraud_Kiehn Inc',\n",
       "       'fraud_Schmidt and Sons', 'fraud_Lebsack and Sons'], dtype=object)"
      ]
     },
     "execution_count": 24,
     "metadata": {},
     "output_type": "execute_result"
    }
   ],
   "source": [
    "# Pattern 3: fraud_Herzog Ltd\n",
    "df[(df[\"merchant\"].str.contains(\",\") == False) & (df[\"merchant\"].str.contains(\"-\") == False)][\"merchant\"].unique()[:5]"
   ]
  },
  {
   "cell_type": "markdown",
   "id": "7ac4e7a8-9846-43d3-b050-18a5ff59482e",
   "metadata": {},
   "source": [
    "<br>When both the delimiters are absent, it means the merchant name is not mentioned but just the company name is present. \n",
    "<br>In that case, the company name may or may not have \"and\". (this covers pattern 4)\n",
    "<br>This way, Pattern 3  and  Pattern 4  are under the same umbrella!"
   ]
  },
  {
   "cell_type": "markdown",
   "id": "35f4cd4b-7129-4597-90ac-787424be0842",
   "metadata": {},
   "source": [
    "*Overall Analysis:*\n",
    "\n",
    "`if ',' present:` &emsp;&emsp; # Need not check for '-'  (because '-' never present with ',') <br>\n",
    "`    split with ','` <br><br>\n",
    "`elif '-' present:` <br>\n",
    "`    split with '-'` <br><br>\n",
    "`else:` &emsp;&emsp;&emsp;&emsp;&emsp;&emsp;&emsp;&emsp; # Neither of them present. <br>\n",
    "`nothing to split`"
   ]
  },
  {
   "cell_type": "markdown",
   "id": "0011aad7-005d-43ef-b0bf-9a7f66adfe70",
   "metadata": {
    "jp-MarkdownHeadingCollapsed": true
   },
   "source": [
    "## Preprocessing the attribute \"merchant\""
   ]
  },
  {
   "cell_type": "code",
   "execution_count": 25,
   "id": "4be05496-b785-4da0-af9b-f627b8f677ee",
   "metadata": {},
   "outputs": [],
   "source": [
    "merchant = []\n",
    "company = []\n",
    "for val in df[\"merchant\"]:\n",
    "    if ',' in val:\n",
    "        x,y = val.split(',')\n",
    "        x = x[6:]\n",
    "    elif '-' in val:\n",
    "        x,y = val.split(\"-\")\n",
    "        x = x[6:]\n",
    "    else:\n",
    "        x = \"Arbitrary\" # Not a particular person\n",
    "        y = val[6:]  \n",
    "        \n",
    "    \n",
    "    merchant.append(x)\n",
    "    company.append(y)"
   ]
  },
  {
   "cell_type": "code",
   "execution_count": 26,
   "id": "326a25b4-42fa-404a-8307-c78eaae7935a",
   "metadata": {},
   "outputs": [
    {
     "data": {
      "text/plain": [
       "['Rippin', 'Heller', 'Lind', 'Kutch', 'Keeling']"
      ]
     },
     "execution_count": 26,
     "metadata": {},
     "output_type": "execute_result"
    }
   ],
   "source": [
    "merchant[:5]"
   ]
  },
  {
   "cell_type": "code",
   "execution_count": 27,
   "id": "29889e95-9e1c-4f88-9314-ee41cbef8640",
   "metadata": {},
   "outputs": [
    {
     "data": {
      "text/plain": [
       "[' Kub and Mann',\n",
       " ' Gutmann and Zieme',\n",
       " 'Buckridge',\n",
       " ' Hermiston and Farrell',\n",
       " 'Crist']"
      ]
     },
     "execution_count": 27,
     "metadata": {},
     "output_type": "execute_result"
    }
   ],
   "source": [
    "company[:5]"
   ]
  },
  {
   "cell_type": "code",
   "execution_count": 28,
   "id": "9e54b943-e17e-4999-a9f7-e659493cd570",
   "metadata": {},
   "outputs": [],
   "source": [
    "df[\"merchant_name\"] = merchant\n",
    "df[\"company_name\"] = company"
   ]
  },
  {
   "cell_type": "code",
   "execution_count": 29,
   "id": "e9f06ce8-124e-4e76-95c9-9a087f6ac31a",
   "metadata": {},
   "outputs": [],
   "source": [
    "df.drop(\"merchant\", axis=1, inplace=True)"
   ]
  },
  {
   "cell_type": "markdown",
   "id": "f4a45da9-919d-458a-ba18-2b354418796d",
   "metadata": {
    "jp-MarkdownHeadingCollapsed": true
   },
   "source": [
    "## Preprocessing the attribute \"category\""
   ]
  },
  {
   "cell_type": "code",
   "execution_count": 30,
   "id": "bd8220d3-8896-481b-accd-56daa6f8b3c5",
   "metadata": {},
   "outputs": [
    {
     "data": {
      "text/plain": [
       "Index(['cc_num', 'category', 'amt', 'first', 'last', 'gender', 'street',\n",
       "       'city', 'state', 'zip', 'lat', 'long', 'city_pop', 'job', 'dob',\n",
       "       'trans_num', 'unix_time', 'merch_lat', 'merch_long', 'is_fraud', 'day',\n",
       "       'month', 'year', 'hour', 'minute', 'second', 'merchant_name',\n",
       "       'company_name'],\n",
       "      dtype='object')"
      ]
     },
     "execution_count": 30,
     "metadata": {},
     "output_type": "execute_result"
    }
   ],
   "source": [
    "df.columns"
   ]
  },
  {
   "cell_type": "code",
   "execution_count": 31,
   "id": "44a143de-776f-4c4d-9f4c-354235e9cb40",
   "metadata": {},
   "outputs": [
    {
     "data": {
      "text/plain": [
       "array(['misc_net', 'grocery_pos', 'entertainment', 'gas_transport',\n",
       "       'misc_pos', 'grocery_net', 'shopping_net', 'shopping_pos',\n",
       "       'food_dining', 'personal_care', 'health_fitness', 'travel',\n",
       "       'kids_pets', 'home'], dtype=object)"
      ]
     },
     "execution_count": 31,
     "metadata": {},
     "output_type": "execute_result"
    }
   ],
   "source": [
    "df[\"category\"].unique()"
   ]
  },
  {
   "cell_type": "markdown",
   "id": "558c5189-600e-4043-92a2-3f357fedce2e",
   "metadata": {},
   "source": [
    "<br>Here grocery has two categories pos,net\n",
    "<br>shopping has two categories pos,net\n",
    "<br>misc (miscellaneous) has two categories pos,net\n",
    "\n",
    "- grocery_net and grocery_pos can have some similarities - similarities can be understood only if we separate them. <br>\n",
    "- Consider cases like \"entertainment\", \"travel\", \"home\"  - it has no subclasses, separating them would lead to null entries\n",
    "\n",
    "Choice on the trade-off can vary from person-to-person. <br>\n",
    "Here I choose to split them. Because, according to my interpretation<br>\n",
    "POS -> Point of Sale -> Credit or debit card (physical transactions) <BR>\n",
    "NET -> Internet -> Internet banking\n",
    "\n",
    "Just from this interpretation, we know that NET transactions are more vulnerable to fraud. <br>\n",
    "So, clear classification between them will help us to know, how much do POS contribute towards fraud and how much does NET."
   ]
  },
  {
   "cell_type": "markdown",
   "id": "d399df64-222e-4bb1-a5f5-81c9653cd878",
   "metadata": {},
   "source": [
    "*Overall approach:* <br>\n",
    "`if '_' is present: ` <br>\n",
    "`    split with _` <br>\n",
    "`else:` <br>\n",
    "`    no splitting`"
   ]
  },
  {
   "cell_type": "code",
   "execution_count": 32,
   "id": "5731c1b9-ec34-4358-b5b3-9481b481f783",
   "metadata": {},
   "outputs": [],
   "source": [
    "trans_category = []\n",
    "trans_type = []\n",
    "\n",
    "for val in df[\"category\"]:\n",
    "    if '_' in val:\n",
    "        x,y = val.split('_')\n",
    "    else:\n",
    "        # This choice of keeping val in x or y can vary from person to person.\n",
    "        x = val\n",
    "        y = \"others\"\n",
    "\n",
    "    trans_category.append(x)\n",
    "    trans_type.append(y)"
   ]
  },
  {
   "cell_type": "code",
   "execution_count": 33,
   "id": "9cbdd157-2158-49d7-928f-11128d5eb9cc",
   "metadata": {},
   "outputs": [
    {
     "data": {
      "text/plain": [
       "{'entertainment',\n",
       " 'food',\n",
       " 'gas',\n",
       " 'grocery',\n",
       " 'health',\n",
       " 'home',\n",
       " 'kids',\n",
       " 'misc',\n",
       " 'personal',\n",
       " 'shopping',\n",
       " 'travel'}"
      ]
     },
     "execution_count": 33,
     "metadata": {},
     "output_type": "execute_result"
    }
   ],
   "source": [
    "set(trans_category)"
   ]
  },
  {
   "cell_type": "code",
   "execution_count": 34,
   "id": "5630b8e8-9f3b-4bbd-9000-a5ca8193046e",
   "metadata": {},
   "outputs": [
    {
     "data": {
      "text/plain": [
       "{'care', 'dining', 'fitness', 'net', 'others', 'pets', 'pos', 'transport'}"
      ]
     },
     "execution_count": 34,
     "metadata": {},
     "output_type": "execute_result"
    }
   ],
   "source": [
    "set(trans_type)"
   ]
  },
  {
   "cell_type": "code",
   "execution_count": 35,
   "id": "9f9cfcff-cbe1-4381-933d-98771cda4a72",
   "metadata": {},
   "outputs": [],
   "source": [
    "df[\"trans_category\"] = trans_category\n",
    "df[\"trans_type\"] = trans_type\n",
    "df.drop(\"category\", axis=1, inplace=True)"
   ]
  },
  {
   "cell_type": "markdown",
   "id": "84114cb4-6555-42de-8cc6-431f6f82cb94",
   "metadata": {
    "jp-MarkdownHeadingCollapsed": true
   },
   "source": [
    "## First name and Last name"
   ]
  },
  {
   "cell_type": "code",
   "execution_count": 36,
   "id": "7fe6292e-8f13-4f63-ab59-28eba278a76b",
   "metadata": {},
   "outputs": [
    {
     "data": {
      "text/plain": [
       "352"
      ]
     },
     "execution_count": 36,
     "metadata": {},
     "output_type": "execute_result"
    }
   ],
   "source": [
    "len(df[\"first\"].unique())"
   ]
  },
  {
   "cell_type": "code",
   "execution_count": 37,
   "id": "62a0cf5b-cc71-4932-8b92-317e4b5849f8",
   "metadata": {},
   "outputs": [
    {
     "data": {
      "text/plain": [
       "1296675"
      ]
     },
     "execution_count": 37,
     "metadata": {},
     "output_type": "execute_result"
    }
   ],
   "source": [
    "len(df[\"first\"])   # obviously len(df[\"last\"]) would have the same value"
   ]
  },
  {
   "cell_type": "code",
   "execution_count": 38,
   "id": "924fbeff-f541-4253-a10b-5edd4445fbe8",
   "metadata": {},
   "outputs": [
    {
     "data": {
      "text/plain": [
       "481"
      ]
     },
     "execution_count": 38,
     "metadata": {},
     "output_type": "execute_result"
    }
   ],
   "source": [
    "len(df[\"last\"].unique())"
   ]
  },
  {
   "cell_type": "markdown",
   "id": "dc79db93-ee0e-4984-b38e-27ef661efde9",
   "metadata": {},
   "source": [
    "Usually, name cannot contribute much to the fraud. <br>\n",
    "But seeing that just 352/481 names repeat so many times to bring more than 12 lakh entries, I'd like to keep them for consideration. <br>\n",
    "Let's decide on that later"
   ]
  },
  {
   "cell_type": "markdown",
   "id": "3af3d56e-8cdc-4857-b21a-4a936059f642",
   "metadata": {},
   "source": [
    "## Analysing the attribute \"street\""
   ]
  },
  {
   "cell_type": "code",
   "execution_count": 39,
   "id": "a2ca7b46-f891-463e-bdae-5909acf45459",
   "metadata": {},
   "outputs": [
    {
     "data": {
      "text/plain": [
       "983"
      ]
     },
     "execution_count": 39,
     "metadata": {},
     "output_type": "execute_result"
    }
   ],
   "source": [
    "len(df[\"street\"].unique())"
   ]
  },
  {
   "cell_type": "code",
   "execution_count": 40,
   "id": "f3da318d-32de-4c5f-9314-52fe99ae41e0",
   "metadata": {},
   "outputs": [
    {
     "data": {
      "text/plain": [
       "2028"
      ]
     },
     "execution_count": 40,
     "metadata": {},
     "output_type": "execute_result"
    }
   ],
   "source": [
    "# Is \"561 Perry Cove\" repetitive?\n",
    "len(df[df[\"street\"] == '561 Perry Cove'])"
   ]
  },
  {
   "cell_type": "code",
   "execution_count": 41,
   "id": "790d8fe3-c370-4a53-b8f1-e066609c69b7",
   "metadata": {},
   "outputs": [
    {
     "data": {
      "text/plain": [
       "0"
      ]
     },
     "execution_count": 41,
     "metadata": {},
     "output_type": "execute_result"
    }
   ],
   "source": [
    "# Is \"Perry Cove\" having any other number?\n",
    "len(df[(df[\"street\"].str.contains('Perry Cove')) & (df[\"street\"] != '561 Perry Cove')])"
   ]
  },
  {
   "cell_type": "code",
   "execution_count": 42,
   "id": "75a35502-6470-4f05-a8ea-6e310c4ae63c",
   "metadata": {},
   "outputs": [
    {
     "data": {
      "text/html": [
       "<div>\n",
       "<style scoped>\n",
       "    .dataframe tbody tr th:only-of-type {\n",
       "        vertical-align: middle;\n",
       "    }\n",
       "\n",
       "    .dataframe tbody tr th {\n",
       "        vertical-align: top;\n",
       "    }\n",
       "\n",
       "    .dataframe thead th {\n",
       "        text-align: right;\n",
       "    }\n",
       "</style>\n",
       "<table border=\"1\" class=\"dataframe\">\n",
       "  <thead>\n",
       "    <tr style=\"text-align: right;\">\n",
       "      <th></th>\n",
       "      <th>cc_num</th>\n",
       "      <th>amt</th>\n",
       "      <th>first</th>\n",
       "      <th>last</th>\n",
       "      <th>gender</th>\n",
       "      <th>street</th>\n",
       "      <th>city</th>\n",
       "      <th>state</th>\n",
       "      <th>zip</th>\n",
       "      <th>lat</th>\n",
       "      <th>...</th>\n",
       "      <th>day</th>\n",
       "      <th>month</th>\n",
       "      <th>year</th>\n",
       "      <th>hour</th>\n",
       "      <th>minute</th>\n",
       "      <th>second</th>\n",
       "      <th>merchant_name</th>\n",
       "      <th>company_name</th>\n",
       "      <th>trans_category</th>\n",
       "      <th>trans_type</th>\n",
       "    </tr>\n",
       "  </thead>\n",
       "  <tbody>\n",
       "    <tr>\n",
       "      <th>0</th>\n",
       "      <td>444</td>\n",
       "      <td>4.97</td>\n",
       "      <td>Jennifer</td>\n",
       "      <td>Banks</td>\n",
       "      <td>F</td>\n",
       "      <td>561 Perry Cove</td>\n",
       "      <td>Moravian Falls</td>\n",
       "      <td>NC</td>\n",
       "      <td>28654</td>\n",
       "      <td>36.0788</td>\n",
       "      <td>...</td>\n",
       "      <td>1</td>\n",
       "      <td>1</td>\n",
       "      <td>2019</td>\n",
       "      <td>0</td>\n",
       "      <td>0</td>\n",
       "      <td>18</td>\n",
       "      <td>Rippin</td>\n",
       "      <td>Kub and Mann</td>\n",
       "      <td>misc</td>\n",
       "      <td>net</td>\n",
       "    </tr>\n",
       "    <tr>\n",
       "      <th>1</th>\n",
       "      <td>42</td>\n",
       "      <td>107.23</td>\n",
       "      <td>Stephanie</td>\n",
       "      <td>Gill</td>\n",
       "      <td>F</td>\n",
       "      <td>43039 Riley Greens Suite 393</td>\n",
       "      <td>Orient</td>\n",
       "      <td>WA</td>\n",
       "      <td>99160</td>\n",
       "      <td>48.8878</td>\n",
       "      <td>...</td>\n",
       "      <td>1</td>\n",
       "      <td>1</td>\n",
       "      <td>2019</td>\n",
       "      <td>0</td>\n",
       "      <td>0</td>\n",
       "      <td>44</td>\n",
       "      <td>Heller</td>\n",
       "      <td>Gutmann and Zieme</td>\n",
       "      <td>grocery</td>\n",
       "      <td>pos</td>\n",
       "    </tr>\n",
       "    <tr>\n",
       "      <th>2</th>\n",
       "      <td>237</td>\n",
       "      <td>220.11</td>\n",
       "      <td>Edward</td>\n",
       "      <td>Sanchez</td>\n",
       "      <td>M</td>\n",
       "      <td>594 White Dale Suite 530</td>\n",
       "      <td>Malad City</td>\n",
       "      <td>ID</td>\n",
       "      <td>83252</td>\n",
       "      <td>42.1808</td>\n",
       "      <td>...</td>\n",
       "      <td>1</td>\n",
       "      <td>1</td>\n",
       "      <td>2019</td>\n",
       "      <td>0</td>\n",
       "      <td>0</td>\n",
       "      <td>51</td>\n",
       "      <td>Lind</td>\n",
       "      <td>Buckridge</td>\n",
       "      <td>entertainment</td>\n",
       "      <td>others</td>\n",
       "    </tr>\n",
       "    <tr>\n",
       "      <th>3</th>\n",
       "      <td>509</td>\n",
       "      <td>45.00</td>\n",
       "      <td>Jeremy</td>\n",
       "      <td>White</td>\n",
       "      <td>M</td>\n",
       "      <td>9443 Cynthia Court Apt. 038</td>\n",
       "      <td>Boulder</td>\n",
       "      <td>MT</td>\n",
       "      <td>59632</td>\n",
       "      <td>46.2306</td>\n",
       "      <td>...</td>\n",
       "      <td>1</td>\n",
       "      <td>1</td>\n",
       "      <td>2019</td>\n",
       "      <td>0</td>\n",
       "      <td>1</td>\n",
       "      <td>16</td>\n",
       "      <td>Kutch</td>\n",
       "      <td>Hermiston and Farrell</td>\n",
       "      <td>gas</td>\n",
       "      <td>transport</td>\n",
       "    </tr>\n",
       "    <tr>\n",
       "      <th>4</th>\n",
       "      <td>368</td>\n",
       "      <td>41.96</td>\n",
       "      <td>Tyler</td>\n",
       "      <td>Garcia</td>\n",
       "      <td>M</td>\n",
       "      <td>408 Bradley Rest</td>\n",
       "      <td>Doe Hill</td>\n",
       "      <td>VA</td>\n",
       "      <td>24433</td>\n",
       "      <td>38.4207</td>\n",
       "      <td>...</td>\n",
       "      <td>1</td>\n",
       "      <td>1</td>\n",
       "      <td>2019</td>\n",
       "      <td>0</td>\n",
       "      <td>3</td>\n",
       "      <td>6</td>\n",
       "      <td>Keeling</td>\n",
       "      <td>Crist</td>\n",
       "      <td>misc</td>\n",
       "      <td>pos</td>\n",
       "    </tr>\n",
       "  </tbody>\n",
       "</table>\n",
       "<p>5 rows × 29 columns</p>\n",
       "</div>"
      ],
      "text/plain": [
       "   cc_num     amt      first     last gender                        street  \\\n",
       "0     444    4.97   Jennifer    Banks      F                561 Perry Cove   \n",
       "1      42  107.23  Stephanie     Gill      F  43039 Riley Greens Suite 393   \n",
       "2     237  220.11     Edward  Sanchez      M      594 White Dale Suite 530   \n",
       "3     509   45.00     Jeremy    White      M   9443 Cynthia Court Apt. 038   \n",
       "4     368   41.96      Tyler   Garcia      M              408 Bradley Rest   \n",
       "\n",
       "             city state    zip      lat  ...  day  month  year hour minute  \\\n",
       "0  Moravian Falls    NC  28654  36.0788  ...    1      1  2019    0      0   \n",
       "1          Orient    WA  99160  48.8878  ...    1      1  2019    0      0   \n",
       "2      Malad City    ID  83252  42.1808  ...    1      1  2019    0      0   \n",
       "3         Boulder    MT  59632  46.2306  ...    1      1  2019    0      1   \n",
       "4        Doe Hill    VA  24433  38.4207  ...    1      1  2019    0      3   \n",
       "\n",
       "   second  merchant_name            company_name  trans_category  trans_type  \n",
       "0      18         Rippin            Kub and Mann            misc         net  \n",
       "1      44         Heller       Gutmann and Zieme         grocery         pos  \n",
       "2      51           Lind               Buckridge   entertainment      others  \n",
       "3      16          Kutch   Hermiston and Farrell             gas   transport  \n",
       "4       6        Keeling                   Crist            misc         pos  \n",
       "\n",
       "[5 rows x 29 columns]"
      ]
     },
     "execution_count": 42,
     "metadata": {},
     "output_type": "execute_result"
    }
   ],
   "source": [
    "df.head()"
   ]
  },
  {
   "cell_type": "code",
   "execution_count": 43,
   "id": "23af6b56-1a6b-4270-95b5-b942b2f31c14",
   "metadata": {},
   "outputs": [
    {
     "name": "stdout",
     "output_type": "stream",
     "text": [
      "3030\n",
      "3030\n"
     ]
    }
   ],
   "source": [
    "print(len(df[df[\"street\"] == '43039 Riley Greens Suite 393']))\n",
    "print(df[\"street\"].str.contains('Riley Greens Suite').sum())"
   ]
  },
  {
   "cell_type": "code",
   "execution_count": 44,
   "id": "9af66353-c666-45c7-9a4e-a2ccb09b622b",
   "metadata": {},
   "outputs": [
    {
     "name": "stdout",
     "output_type": "stream",
     "text": [
      "503\n",
      "503\n"
     ]
    }
   ],
   "source": [
    "print(len(df[df[\"street\"] == '594 White Dale Suite 530']))\n",
    "print(df[\"street\"].str.contains('White Dale Suite').sum())"
   ]
  },
  {
   "cell_type": "code",
   "execution_count": 45,
   "id": "931fa864-0c2c-4794-80b2-f624146fc5f6",
   "metadata": {},
   "outputs": [
    {
     "name": "stdout",
     "output_type": "stream",
     "text": [
      "493\n",
      "493\n"
     ]
    }
   ],
   "source": [
    "print(len(df[df['street'] == '9443 Cynthia Court Apt. 038']))\n",
    "print(df[\"street\"].str.contains('Cynthia Court Apt').sum())"
   ]
  },
  {
   "cell_type": "code",
   "execution_count": 46,
   "id": "a360725c-ea74-4b8a-82a6-f27f180a73fa",
   "metadata": {},
   "outputs": [
    {
     "name": "stdout",
     "output_type": "stream",
     "text": [
      "531\n",
      "531\n"
     ]
    }
   ],
   "source": [
    "print(len(df[df['street'] == '8617 Holmes Terrace Suite 651']))\n",
    "print(df['street'].str.contains('Holmes Terrace Suite').sum())"
   ]
  },
  {
   "cell_type": "markdown",
   "id": "de43ceca-66d5-4a9a-b031-6988e7952201",
   "metadata": {},
   "source": [
    "<br> Seems like those numbers are just representative of the street name itself, and the numbers may not change for a street name. <br>\n",
    "But checking data like this is a bad idea. We shouldn't conclude anything with just few entries. <br>\n",
    "Let's run a loop over entire data to check this hypothesis."
   ]
  },
  {
   "cell_type": "code",
   "execution_count": 47,
   "id": "0553efd9-fbb2-44fa-985c-5f853af0a26a",
   "metadata": {},
   "outputs": [
    {
     "data": {
      "text/plain": [
       "array([3, 5], dtype=int64)"
      ]
     },
     "execution_count": 47,
     "metadata": {},
     "output_type": "execute_result"
    }
   ],
   "source": [
    "# Splitting of street\n",
    "df[\"street\"].str.split(' ').str.len().unique()"
   ]
  },
  {
   "cell_type": "code",
   "execution_count": 48,
   "id": "9f160693-7da0-400c-ab21-d3f9beacb8ed",
   "metadata": {},
   "outputs": [
    {
     "data": {
      "text/plain": [
       "0                  561 Perry Cove\n",
       "4                408 Bradley Rest\n",
       "5               4655 David Island\n",
       "11         43576 Kristina Islands\n",
       "12               3337 Lisa Divide\n",
       "                    ...          \n",
       "1296667       97070 Anderson Land\n",
       "1296668          742 Oneill Shore\n",
       "1296669           474 Allen Haven\n",
       "1296673      42933 Ryan Underpass\n",
       "1296674      135 Joseph Mountains\n",
       "Name: street, Length: 663417, dtype: object"
      ]
     },
     "execution_count": 48,
     "metadata": {},
     "output_type": "execute_result"
    }
   ],
   "source": [
    "df[df['street'].str.split(' ').str.len() == 3]['street']"
   ]
  },
  {
   "cell_type": "code",
   "execution_count": 49,
   "id": "d9a587c5-d94c-432a-b51f-9d436e68206e",
   "metadata": {},
   "outputs": [
    {
     "data": {
      "text/plain": [
       "1           43039 Riley Greens Suite 393\n",
       "2               594 White Dale Suite 530\n",
       "3            9443 Cynthia Court Apt. 038\n",
       "6            889 Sarah Station Suite 624\n",
       "7              231 Flores Pass Suite 720\n",
       "                       ...              \n",
       "1296663        852 Thomas Well Suite 339\n",
       "1296666         6296 John Keys Suite 858\n",
       "1296670         162 Jessica Row Apt. 072\n",
       "1296671    8617 Holmes Terrace Suite 651\n",
       "1296672       1632 Cohen Drive Suite 639\n",
       "Name: street, Length: 633258, dtype: object"
      ]
     },
     "execution_count": 49,
     "metadata": {},
     "output_type": "execute_result"
    }
   ],
   "source": [
    "df[df['street'].str.split(' ').str.len() == 5]['street']"
   ]
  },
  {
   "cell_type": "code",
   "execution_count": 50,
   "id": "94dd89e8-f5cd-4462-88ef-cb0c3ecf0f58",
   "metadata": {},
   "outputs": [
    {
     "name": "stdout",
     "output_type": "stream",
     "text": [
      "Not accepted: 1499 Michael Rue\n",
      "Not accepted: 23843 Scott Island\n",
      "Not accepted: 508 Erin Mount\n",
      "Not accepted: 611 Michael Rue\n",
      "Not accepted: 26544 Andrea Glen\n",
      "Not accepted: 36366 Smith Road\n",
      "Not accepted: 776 Martin Ridge\n",
      "Not accepted: 836 Stephanie Union\n",
      "Not accepted: 478 Alexandria Mount\n",
      "Not accepted: 3495 Williams Stream\n"
     ]
    }
   ],
   "source": [
    "success = True\n",
    "for i in df['street'].unique():\n",
    "    st_list = i.split()\n",
    "    new_list = [x for x in st_list if not x.isdigit()]\n",
    "    if(len(df[df['street'] == i]) != df['street'].str.contains(' '.join(new_list)).sum()):\n",
    "        print(\"Not accepted:\", i)\n",
    "        success=False\n",
    "if success:\n",
    "    print(\"Yes, those numbers always associated with the street name.\")"
   ]
  },
  {
   "cell_type": "code",
   "execution_count": 51,
   "id": "11b81265-c3e1-47f9-95de-63db22e23038",
   "metadata": {},
   "outputs": [
    {
     "data": {
      "text/plain": [
       "3610"
      ]
     },
     "execution_count": 51,
     "metadata": {},
     "output_type": "execute_result"
    }
   ],
   "source": [
    "len(df[df[\"street\"].str.contains(\"Michael Rue\")])"
   ]
  },
  {
   "cell_type": "code",
   "execution_count": 52,
   "id": "88456ab7-d136-4ce7-b8ee-fe12a44d05c0",
   "metadata": {},
   "outputs": [
    {
     "data": {
      "text/plain": [
       "1535"
      ]
     },
     "execution_count": 52,
     "metadata": {},
     "output_type": "execute_result"
    }
   ],
   "source": [
    "len(df[df['street'] == '1499 Michael Rue'])"
   ]
  },
  {
   "cell_type": "code",
   "execution_count": 53,
   "id": "6d5a9abe-ddbb-403f-804d-f9cc47081eb4",
   "metadata": {},
   "outputs": [
    {
     "data": {
      "text/plain": [
       "array(['1499 Michael Rue', '611 Michael Rue'], dtype=object)"
      ]
     },
     "execution_count": 53,
     "metadata": {},
     "output_type": "execute_result"
    }
   ],
   "source": [
    "df[(df['street'].str.contains(\"Michael Rue\"))]['street'].unique()"
   ]
  },
  {
   "cell_type": "markdown",
   "id": "ad46176e-3d10-439e-9703-bdb5dee1a645",
   "metadata": {},
   "source": [
    "<br>Our hypothesis is wrong!! <br>\n",
    "As we suspected, we have some cases where the numbers vary for same street name, may be it means that the number represents door number. <br>\n",
    "But since the number of such cases are too low when compared to actual number of entries, I prefer to neglect these. Let's not split!<br>"
   ]
  },
  {
   "cell_type": "markdown",
   "id": "fd42891a-4be0-43d0-ae6a-eb2fb52f7e7b",
   "metadata": {},
   "source": [
    "## Other attributes which need not be preprocessed"
   ]
  },
  {
   "cell_type": "code",
   "execution_count": 54,
   "id": "55453a7c-7ba4-4802-b42c-0bdd946c75b3",
   "metadata": {},
   "outputs": [
    {
     "data": {
      "text/plain": [
       "array(['Moravian Falls', 'Orient', 'Malad City', 'Boulder', 'Doe Hill',\n",
       "       'Dublin', 'Holcomb', 'Edinburg', 'Manor', 'Clarksville',\n",
       "       'Clarinda', 'Shenandoah Junction', 'Saint Petersburg', 'Grenada',\n",
       "       'High Rolls Mountain Park', 'Harrington Park', 'Lahoma',\n",
       "       'Carlisle', 'Harborcreek', 'Elizabeth', 'Methuen', 'Moulton',\n",
       "       'Plainfield', 'May', 'Waukesha'], dtype=object)"
      ]
     },
     "execution_count": 54,
     "metadata": {},
     "output_type": "execute_result"
    }
   ],
   "source": [
    "df['city'].unique()[:25] # nothing to preprocess"
   ]
  },
  {
   "cell_type": "code",
   "execution_count": 55,
   "id": "2c909e90-e300-46c8-b562-646b94125d0e",
   "metadata": {},
   "outputs": [
    {
     "data": {
      "text/plain": [
       "array(['NC', 'WA', 'ID', 'MT', 'VA', 'PA', 'KS', 'TN', 'IA', 'WV', 'FL',\n",
       "       'CA', 'NM', 'NJ', 'OK', 'IN', 'MA', 'TX', 'WI', 'MI', 'WY', 'HI',\n",
       "       'NE', 'OR', 'LA', 'DC', 'KY', 'NY', 'MS', 'UT', 'AL', 'AR', 'MD',\n",
       "       'GA', 'ME', 'AZ', 'MN', 'OH', 'CO', 'VT', 'MO', 'SC', 'NV', 'IL',\n",
       "       'NH', 'SD', 'AK', 'ND', 'CT', 'RI', 'DE'], dtype=object)"
      ]
     },
     "execution_count": 55,
     "metadata": {},
     "output_type": "execute_result"
    }
   ],
   "source": [
    "df.state.unique() # nothing to preprocess"
   ]
  },
  {
   "cell_type": "code",
   "execution_count": 56,
   "id": "d68ed731-f83a-4914-a179-b519171ed36e",
   "metadata": {},
   "outputs": [
    {
     "data": {
      "text/plain": [
       "array([28654, 99160, 83252, 59632, 24433, 18917, 67851, 22824, 15665,\n",
       "       37040, 51632, 25442, 33710, 96038, 88325,  7640, 73754, 47838,\n",
       "       16421,  7208,  1844, 52572,  7060, 76857, 53186], dtype=int64)"
      ]
     },
     "execution_count": 56,
     "metadata": {},
     "output_type": "execute_result"
    }
   ],
   "source": [
    "df.zip.unique()[:25] # nothing to preprocess"
   ]
  },
  {
   "cell_type": "code",
   "execution_count": 57,
   "id": "67ef414c-d698-4c6a-905b-597154bb1eb6",
   "metadata": {},
   "outputs": [
    {
     "data": {
      "text/plain": [
       "array([36.0788, 48.8878, 42.1808, 46.2306, 38.4207, 40.375 , 37.9931,\n",
       "       38.8432, 40.3359, 36.522 , 40.7491, 39.3716, 27.7898, 41.6125,\n",
       "       32.9396, 40.9918, 36.385 , 38.9763, 42.1767, 40.6747, 42.728 ,\n",
       "       40.6866, 40.6152, 31.9571, 42.9993])"
      ]
     },
     "execution_count": 57,
     "metadata": {},
     "output_type": "execute_result"
    }
   ],
   "source": [
    "df.lat.unique()[:25] # nothing to preprocess"
   ]
  },
  {
   "cell_type": "code",
   "execution_count": 58,
   "id": "3fe46d21-174c-4298-b56b-6f244cca48f0",
   "metadata": {},
   "outputs": [
    {
     "data": {
      "text/plain": [
       "array([ -81.1781, -118.2105, -112.262 , -112.1138,  -79.4629,  -75.2045,\n",
       "       -100.9893,  -78.6003,  -79.6607,  -87.349 ,  -95.038 ,  -77.8229,\n",
       "        -82.7243, -122.5258, -105.8189,  -73.98  ,  -98.0727,  -87.3667,\n",
       "        -79.9416,  -74.2239,  -71.181 ,  -92.6833,  -74.415 ,  -98.9656,\n",
       "        -88.2196])"
      ]
     },
     "execution_count": 58,
     "metadata": {},
     "output_type": "execute_result"
    }
   ],
   "source": [
    "df.long.unique()[:25] # nothing to preprocess"
   ]
  },
  {
   "cell_type": "code",
   "execution_count": 59,
   "id": "010579b0-4cae-4459-872b-cc383fe4fd61",
   "metadata": {},
   "outputs": [
    {
     "data": {
      "text/plain": [
       "array([  3495,    149,   4154,   1939,     99,   2158,   2691,   6018,\n",
       "         1472, 151785,   7297,   1925, 341043,    589,    899,   4664,\n",
       "         1078,   4081,   2518, 124967,  47249,   1132,  71485,   1791,\n",
       "        95015], dtype=int64)"
      ]
     },
     "execution_count": 59,
     "metadata": {},
     "output_type": "execute_result"
    }
   ],
   "source": [
    "df.city_pop.unique()[:25] # nothing to preprocess"
   ]
  },
  {
   "cell_type": "markdown",
   "id": "d2912dea-503f-47d5-8d7c-f5097ca8cc89",
   "metadata": {},
   "source": [
    "## Preprocessing the attribute \"job\""
   ]
  },
  {
   "cell_type": "code",
   "execution_count": 60,
   "id": "762c7583-2715-4e74-9243-18ccc0286233",
   "metadata": {},
   "outputs": [
    {
     "data": {
      "text/plain": [
       "array(['Psychologist, counselling', 'Special educational needs teacher',\n",
       "       'Nature conservation officer', 'Patent attorney',\n",
       "       'Dance movement psychotherapist', 'Transport planner',\n",
       "       'Arboriculturist', 'Designer, multimedia',\n",
       "       'Public affairs consultant', 'Pathologist', 'IT trainer',\n",
       "       'Systems developer', 'Engineer, land', 'Systems analyst',\n",
       "       'Naval architect', 'Radiographer, diagnostic',\n",
       "       'Programme researcher, broadcasting/film/video', 'Energy engineer',\n",
       "       'Event organiser', 'Operational researcher', 'Market researcher',\n",
       "       'Probation officer', 'Leisure centre manager',\n",
       "       'Corporate investment banker', 'Therapist, occupational'],\n",
       "      dtype=object)"
      ]
     },
     "execution_count": 60,
     "metadata": {},
     "output_type": "execute_result"
    }
   ],
   "source": [
    "df.job.unique()[:25]"
   ]
  },
  {
   "cell_type": "code",
   "execution_count": 61,
   "id": "277c7e50-e569-4876-9698-ce6c853b2c32",
   "metadata": {},
   "outputs": [
    {
     "data": {
      "text/plain": [
       "array(['Psychologist, counselling', 'Psychologist, forensic',\n",
       "       'Psychologist, sport and exercise', 'Psychologist, clinical'],\n",
       "      dtype=object)"
      ]
     },
     "execution_count": 61,
     "metadata": {},
     "output_type": "execute_result"
    }
   ],
   "source": [
    "df[df.job.str.contains('Psychologist')]['job'].unique()"
   ]
  },
  {
   "cell_type": "code",
   "execution_count": 62,
   "id": "3db3d369-1066-4bd6-9cca-ee36745b2187",
   "metadata": {},
   "outputs": [],
   "source": [
    "unique_category = set()\n",
    "for i in df.job.unique():\n",
    "    for j in i.split(','):\n",
    "        unique_category.add(j.strip())"
   ]
  },
  {
   "cell_type": "code",
   "execution_count": 63,
   "id": "9e0e2538-14a1-4117-a3b3-d2dfaa1804f1",
   "metadata": {},
   "outputs": [
    {
     "data": {
      "text/plain": [
       "526"
      ]
     },
     "execution_count": 63,
     "metadata": {},
     "output_type": "execute_result"
    }
   ],
   "source": [
    "len(unique_category)"
   ]
  },
  {
   "cell_type": "markdown",
   "id": "452d22b8-ffd1-4701-8392-5b9729b94ea9",
   "metadata": {},
   "source": [
    "<br>So, there are 526 unique categories. So, let's do FeatureHashing with 526 features (keeping it close to 526 -> recommended)"
   ]
  },
  {
   "cell_type": "code",
   "execution_count": 64,
   "id": "669c621d-45ac-4831-902d-4d945383f2c3",
   "metadata": {},
   "outputs": [],
   "source": [
    "hasher = FeatureHasher(n_features=25, input_type='string')\n",
    "arr = hasher.transform(df.job.str.split(',')).toarray()"
   ]
  },
  {
   "cell_type": "code",
   "execution_count": 65,
   "id": "d95b6bd5-cb91-4bc7-8b74-2f28c1890ecf",
   "metadata": {},
   "outputs": [],
   "source": [
    "df = pd.concat([df,pd.DataFrame(arr)], axis=1)"
   ]
  },
  {
   "cell_type": "code",
   "execution_count": 66,
   "id": "3caf1663-df73-4afe-9111-69d731182671",
   "metadata": {},
   "outputs": [],
   "source": [
    "df.columns = ['cc_num', 'amt', 'first', 'last', 'gender', 'street', 'city',\n",
    "       'state', 'zip', 'lat', 'long', 'city_pop', 'job', 'dob',\n",
    "       'trans_num', 'unix_time', 'merch_lat', 'merch_long', 'is_fraud',\n",
    "       'day', 'month', 'year', 'hour', 'minute', 'second',\n",
    "       'merchant_name', 'company_name', 'trans_category', 'trans_type'] + ['job'+str(i) for i in range(25)]"
   ]
  },
  {
   "cell_type": "code",
   "execution_count": 67,
   "id": "266bf623-3002-41cd-8c45-97c9bc1f4093",
   "metadata": {},
   "outputs": [],
   "source": [
    "df.drop('job', axis=1, inplace=True)"
   ]
  },
  {
   "cell_type": "markdown",
   "id": "4d7ae513-d273-4bb0-a8e3-98d58907403d",
   "metadata": {},
   "source": [
    "## Other features"
   ]
  },
  {
   "cell_type": "code",
   "execution_count": 68,
   "id": "8cfe5dd8-e1fa-4afb-a05c-ffaec8218b62",
   "metadata": {},
   "outputs": [
    {
     "data": {
      "text/plain": [
       "968"
      ]
     },
     "execution_count": 68,
     "metadata": {},
     "output_type": "execute_result"
    }
   ],
   "source": [
    "len(df.dob.unique())"
   ]
  },
  {
   "cell_type": "markdown",
   "id": "0c4e35a8-f8b7-4f61-a5c4-b95d7141c47c",
   "metadata": {},
   "source": [
    "DOB has nothing to do with credit card fraud! <br>"
   ]
  },
  {
   "cell_type": "code",
   "execution_count": 69,
   "id": "ceb7e42f-4f91-4dd2-a236-adfaca4368ea",
   "metadata": {},
   "outputs": [
    {
     "data": {
      "text/plain": [
       "1296675"
      ]
     },
     "execution_count": 69,
     "metadata": {},
     "output_type": "execute_result"
    }
   ],
   "source": [
    "len(df.trans_num.unique()) # nothing to do with credit card fraud"
   ]
  },
  {
   "cell_type": "code",
   "execution_count": 70,
   "id": "3149bd18-f876-4412-b909-296501560ae1",
   "metadata": {},
   "outputs": [
    {
     "data": {
      "text/plain": [
       "1274823"
      ]
     },
     "execution_count": 70,
     "metadata": {},
     "output_type": "execute_result"
    }
   ],
   "source": [
    "len(df.unix_time.unique()) # nothing to do with credit card fraud"
   ]
  },
  {
   "cell_type": "code",
   "execution_count": 71,
   "id": "1fc5cacf-0457-4202-afc3-3fcf534878dd",
   "metadata": {},
   "outputs": [
    {
     "data": {
      "text/plain": [
       "1247805"
      ]
     },
     "execution_count": 71,
     "metadata": {},
     "output_type": "execute_result"
    }
   ],
   "source": [
    "len(df.merch_lat.unique()) # may be possible geographically"
   ]
  },
  {
   "cell_type": "code",
   "execution_count": 72,
   "id": "133424c0-3cf5-4073-8db4-47171c4dc2fe",
   "metadata": {},
   "outputs": [
    {
     "data": {
      "text/plain": [
       "1275745"
      ]
     },
     "execution_count": 72,
     "metadata": {},
     "output_type": "execute_result"
    }
   ],
   "source": [
    "len(df.merch_long.unique()) # may be possible geographically"
   ]
  },
  {
   "cell_type": "code",
   "execution_count": 73,
   "id": "f8e9b5ad-0c6f-4f45-82dd-855228826936",
   "metadata": {},
   "outputs": [
    {
     "data": {
      "text/plain": [
       "array([0, 1], dtype=int64)"
      ]
     },
     "execution_count": 73,
     "metadata": {},
     "output_type": "execute_result"
    }
   ],
   "source": [
    "df.is_fraud.unique() # binary target variable"
   ]
  },
  {
   "cell_type": "code",
   "execution_count": 74,
   "id": "93132092-1af7-4d01-b9a3-b2b58c4b17f5",
   "metadata": {},
   "outputs": [
    {
     "name": "stdout",
     "output_type": "stream",
     "text": [
      "[ 1  2  3  4  5  6  7  8  9 10 11 12 13 14 15 16 17 18 19 20 21 22 23 24\n",
      " 25 26 27 28 29 30 31]\n",
      "[ 1  2  3  4  5  6  7  8  9 10 11 12]\n",
      "[2019 2020]\n"
     ]
    }
   ],
   "source": [
    "print(df.day.unique())\n",
    "print(df.month.unique())\n",
    "print(df.year.unique())"
   ]
  },
  {
   "cell_type": "code",
   "execution_count": 75,
   "id": "304a92d1-8938-44f3-886a-658ee755952c",
   "metadata": {},
   "outputs": [
    {
     "name": "stdout",
     "output_type": "stream",
     "text": [
      "[ 0  1  2  3  4  5  6  7  8  9 10 11 12 13 14 15 16 17 18 19 20 21 22 23]\n",
      "[ 0  1  3  4  5  6  7  9 10 11 12 13 14 17 18 20 21 22 23 25 26 27 29 30\n",
      " 31 32 33 34 36 37 39 40 41 42 43 44 45 46 47 48 49 50 52 55 56 57 58 59\n",
      "  2  8 15 16 19 28 38 53 54 35 51 24]\n",
      "[18 44 51 16  6  8 42  1 23 53 56 27  3 20 49 58 14 34 37 40  7 15 32 36\n",
      " 39 41 46 22 45 11 47 10 12 43 48 50 26 38 13 55  9 25 31 57  5 59 17 30\n",
      "  2 19 52  0 24 21 28 54  4 35 29 33]\n"
     ]
    }
   ],
   "source": [
    "print(df.hour.unique())\n",
    "print(df.minute.unique())\n",
    "print(df.second.unique())"
   ]
  },
  {
   "cell_type": "code",
   "execution_count": 76,
   "id": "4c47a81f-05ff-41e2-abcb-2c7aac55a35e",
   "metadata": {},
   "outputs": [
    {
     "data": {
      "text/plain": [
       "Index(['cc_num', 'amt', 'first', 'last', 'gender', 'street', 'city', 'state',\n",
       "       'zip', 'lat', 'long', 'city_pop', 'dob', 'trans_num', 'unix_time',\n",
       "       'merch_lat', 'merch_long', 'is_fraud', 'day', 'month', 'year', 'hour',\n",
       "       'minute', 'second', 'merchant_name', 'company_name', 'trans_category',\n",
       "       'trans_type', 'job0', 'job1', 'job2', 'job3', 'job4', 'job5', 'job6',\n",
       "       'job7', 'job8', 'job9', 'job10', 'job11', 'job12', 'job13', 'job14',\n",
       "       'job15', 'job16', 'job17', 'job18', 'job19', 'job20', 'job21', 'job22',\n",
       "       'job23', 'job24'],\n",
       "      dtype='object')"
      ]
     },
     "execution_count": 76,
     "metadata": {},
     "output_type": "execute_result"
    }
   ],
   "source": [
    "df.columns"
   ]
  },
  {
   "cell_type": "markdown",
   "id": "39e4a021-4abc-4883-8c6b-4b27ac3de9fa",
   "metadata": {},
   "source": [
    "## Label Encoding necessary columns"
   ]
  },
  {
   "cell_type": "code",
   "execution_count": 77,
   "id": "40e842d4-6728-4d5b-868a-9b3926d5832e",
   "metadata": {},
   "outputs": [
    {
     "data": {
      "text/plain": [
       "Index(['cc_num', 'amt', 'gender', 'street', 'city', 'state', 'zip', 'lat',\n",
       "       'long', 'city_pop', 'merch_lat', 'merch_long', 'is_fraud', 'day',\n",
       "       'month', 'year', 'hour', 'minute', 'second', 'merchant_name',\n",
       "       'company_name', 'trans_category', 'trans_type', 'job0', 'job1', 'job2',\n",
       "       'job3', 'job4', 'job5', 'job6', 'job7', 'job8', 'job9', 'job10',\n",
       "       'job11', 'job12', 'job13', 'job14', 'job15', 'job16', 'job17', 'job18',\n",
       "       'job19', 'job20', 'job21', 'job22', 'job23', 'job24'],\n",
       "      dtype='object')"
      ]
     },
     "execution_count": 77,
     "metadata": {},
     "output_type": "execute_result"
    }
   ],
   "source": [
    "# Dropping the columns which I consider has no clue towards fraud detection\n",
    "df_new = df.drop(['first', 'last', 'dob', 'trans_num', 'unix_time'], axis=1)\n",
    "df_new.columns"
   ]
  },
  {
   "cell_type": "code",
   "execution_count": 86,
   "id": "1bafe4dd-8e86-4a61-9db7-f850167a4e98",
   "metadata": {},
   "outputs": [
    {
     "data": {
      "text/html": [
       "<div>\n",
       "<style scoped>\n",
       "    .dataframe tbody tr th:only-of-type {\n",
       "        vertical-align: middle;\n",
       "    }\n",
       "\n",
       "    .dataframe tbody tr th {\n",
       "        vertical-align: top;\n",
       "    }\n",
       "\n",
       "    .dataframe thead th {\n",
       "        text-align: right;\n",
       "    }\n",
       "</style>\n",
       "<table border=\"1\" class=\"dataframe\">\n",
       "  <thead>\n",
       "    <tr style=\"text-align: right;\">\n",
       "      <th></th>\n",
       "      <th>cc_num</th>\n",
       "      <th>amt</th>\n",
       "      <th>gender</th>\n",
       "      <th>street</th>\n",
       "      <th>city</th>\n",
       "      <th>state</th>\n",
       "      <th>zip</th>\n",
       "      <th>lat</th>\n",
       "      <th>long</th>\n",
       "      <th>city_pop</th>\n",
       "      <th>...</th>\n",
       "      <th>job15</th>\n",
       "      <th>job16</th>\n",
       "      <th>job17</th>\n",
       "      <th>job18</th>\n",
       "      <th>job19</th>\n",
       "      <th>job20</th>\n",
       "      <th>job21</th>\n",
       "      <th>job22</th>\n",
       "      <th>job23</th>\n",
       "      <th>job24</th>\n",
       "    </tr>\n",
       "  </thead>\n",
       "  <tbody>\n",
       "    <tr>\n",
       "      <th>0</th>\n",
       "      <td>444</td>\n",
       "      <td>4.97</td>\n",
       "      <td>F</td>\n",
       "      <td>561 Perry Cove</td>\n",
       "      <td>Moravian Falls</td>\n",
       "      <td>NC</td>\n",
       "      <td>28654</td>\n",
       "      <td>36.0788</td>\n",
       "      <td>-81.1781</td>\n",
       "      <td>3495</td>\n",
       "      <td>...</td>\n",
       "      <td>0.0</td>\n",
       "      <td>0.0</td>\n",
       "      <td>0.0</td>\n",
       "      <td>0.0</td>\n",
       "      <td>0.0</td>\n",
       "      <td>0.0</td>\n",
       "      <td>0.0</td>\n",
       "      <td>0.0</td>\n",
       "      <td>0.0</td>\n",
       "      <td>0.0</td>\n",
       "    </tr>\n",
       "    <tr>\n",
       "      <th>1</th>\n",
       "      <td>42</td>\n",
       "      <td>107.23</td>\n",
       "      <td>F</td>\n",
       "      <td>43039 Riley Greens Suite 393</td>\n",
       "      <td>Orient</td>\n",
       "      <td>WA</td>\n",
       "      <td>99160</td>\n",
       "      <td>48.8878</td>\n",
       "      <td>-118.2105</td>\n",
       "      <td>149</td>\n",
       "      <td>...</td>\n",
       "      <td>0.0</td>\n",
       "      <td>0.0</td>\n",
       "      <td>0.0</td>\n",
       "      <td>0.0</td>\n",
       "      <td>0.0</td>\n",
       "      <td>0.0</td>\n",
       "      <td>0.0</td>\n",
       "      <td>-1.0</td>\n",
       "      <td>0.0</td>\n",
       "      <td>0.0</td>\n",
       "    </tr>\n",
       "    <tr>\n",
       "      <th>2</th>\n",
       "      <td>237</td>\n",
       "      <td>220.11</td>\n",
       "      <td>M</td>\n",
       "      <td>594 White Dale Suite 530</td>\n",
       "      <td>Malad City</td>\n",
       "      <td>ID</td>\n",
       "      <td>83252</td>\n",
       "      <td>42.1808</td>\n",
       "      <td>-112.2620</td>\n",
       "      <td>4154</td>\n",
       "      <td>...</td>\n",
       "      <td>0.0</td>\n",
       "      <td>0.0</td>\n",
       "      <td>0.0</td>\n",
       "      <td>0.0</td>\n",
       "      <td>0.0</td>\n",
       "      <td>0.0</td>\n",
       "      <td>0.0</td>\n",
       "      <td>0.0</td>\n",
       "      <td>0.0</td>\n",
       "      <td>0.0</td>\n",
       "    </tr>\n",
       "    <tr>\n",
       "      <th>3</th>\n",
       "      <td>509</td>\n",
       "      <td>45.00</td>\n",
       "      <td>M</td>\n",
       "      <td>9443 Cynthia Court Apt. 038</td>\n",
       "      <td>Boulder</td>\n",
       "      <td>MT</td>\n",
       "      <td>59632</td>\n",
       "      <td>46.2306</td>\n",
       "      <td>-112.1138</td>\n",
       "      <td>1939</td>\n",
       "      <td>...</td>\n",
       "      <td>0.0</td>\n",
       "      <td>0.0</td>\n",
       "      <td>0.0</td>\n",
       "      <td>0.0</td>\n",
       "      <td>0.0</td>\n",
       "      <td>0.0</td>\n",
       "      <td>0.0</td>\n",
       "      <td>0.0</td>\n",
       "      <td>0.0</td>\n",
       "      <td>0.0</td>\n",
       "    </tr>\n",
       "    <tr>\n",
       "      <th>4</th>\n",
       "      <td>368</td>\n",
       "      <td>41.96</td>\n",
       "      <td>M</td>\n",
       "      <td>408 Bradley Rest</td>\n",
       "      <td>Doe Hill</td>\n",
       "      <td>VA</td>\n",
       "      <td>24433</td>\n",
       "      <td>38.4207</td>\n",
       "      <td>-79.4629</td>\n",
       "      <td>99</td>\n",
       "      <td>...</td>\n",
       "      <td>0.0</td>\n",
       "      <td>1.0</td>\n",
       "      <td>0.0</td>\n",
       "      <td>0.0</td>\n",
       "      <td>0.0</td>\n",
       "      <td>0.0</td>\n",
       "      <td>0.0</td>\n",
       "      <td>0.0</td>\n",
       "      <td>0.0</td>\n",
       "      <td>0.0</td>\n",
       "    </tr>\n",
       "  </tbody>\n",
       "</table>\n",
       "<p>5 rows × 48 columns</p>\n",
       "</div>"
      ],
      "text/plain": [
       "   cc_num     amt gender                        street            city state  \\\n",
       "0     444    4.97      F                561 Perry Cove  Moravian Falls    NC   \n",
       "1      42  107.23      F  43039 Riley Greens Suite 393          Orient    WA   \n",
       "2     237  220.11      M      594 White Dale Suite 530      Malad City    ID   \n",
       "3     509   45.00      M   9443 Cynthia Court Apt. 038         Boulder    MT   \n",
       "4     368   41.96      M              408 Bradley Rest        Doe Hill    VA   \n",
       "\n",
       "     zip      lat      long  city_pop  ...  job15  job16  job17  job18  job19  \\\n",
       "0  28654  36.0788  -81.1781      3495  ...    0.0    0.0    0.0    0.0    0.0   \n",
       "1  99160  48.8878 -118.2105       149  ...    0.0    0.0    0.0    0.0    0.0   \n",
       "2  83252  42.1808 -112.2620      4154  ...    0.0    0.0    0.0    0.0    0.0   \n",
       "3  59632  46.2306 -112.1138      1939  ...    0.0    0.0    0.0    0.0    0.0   \n",
       "4  24433  38.4207  -79.4629        99  ...    0.0    1.0    0.0    0.0    0.0   \n",
       "\n",
       "   job20  job21  job22  job23 job24  \n",
       "0    0.0    0.0    0.0    0.0   0.0  \n",
       "1    0.0    0.0   -1.0    0.0   0.0  \n",
       "2    0.0    0.0    0.0    0.0   0.0  \n",
       "3    0.0    0.0    0.0    0.0   0.0  \n",
       "4    0.0    0.0    0.0    0.0   0.0  \n",
       "\n",
       "[5 rows x 48 columns]"
      ]
     },
     "execution_count": 86,
     "metadata": {},
     "output_type": "execute_result"
    }
   ],
   "source": [
    "df_new.head()"
   ]
  },
  {
   "cell_type": "code",
   "execution_count": 87,
   "id": "78f55ea3-3517-4544-9a9b-abddc1e11412",
   "metadata": {},
   "outputs": [],
   "source": [
    "for col in ['gender', 'street', 'city', 'state', 'zip', 'merchant_name', 'company_name', 'trans_category', 'trans_type']:\n",
    "    encoder = LabelEncoder()\n",
    "    df_new[col] = encoder.fit_transform(df_new[col])"
   ]
  },
  {
   "cell_type": "code",
   "execution_count": 91,
   "id": "cc827e91-77f6-4e8b-bd22-0326ac0a4b8e",
   "metadata": {},
   "outputs": [
    {
     "data": {
      "text/plain": [
       "cc_num             444.000000\n",
       "amt                  4.970000\n",
       "gender               0.000000\n",
       "street             568.000000\n",
       "city               526.000000\n",
       "state               27.000000\n",
       "zip                265.000000\n",
       "lat                 36.078800\n",
       "long               -81.178100\n",
       "city_pop          3495.000000\n",
       "merch_lat           36.011293\n",
       "merch_long         -82.048315\n",
       "is_fraud             0.000000\n",
       "day                  1.000000\n",
       "month                1.000000\n",
       "year              2019.000000\n",
       "hour                 0.000000\n",
       "minute               0.000000\n",
       "second              18.000000\n",
       "merchant_name      205.000000\n",
       "company_name       118.000000\n",
       "trans_category       7.000000\n",
       "trans_type           3.000000\n",
       "job0                 0.000000\n",
       "job1                 0.000000\n",
       "job2                 0.000000\n",
       "job3                 0.000000\n",
       "job4                 0.000000\n",
       "job5                 1.000000\n",
       "job6                 0.000000\n",
       "job7                 0.000000\n",
       "job8                 0.000000\n",
       "job9                 0.000000\n",
       "job10                0.000000\n",
       "job11                0.000000\n",
       "job12                0.000000\n",
       "job13                0.000000\n",
       "job14               -1.000000\n",
       "job15                0.000000\n",
       "job16                0.000000\n",
       "job17                0.000000\n",
       "job18                0.000000\n",
       "job19                0.000000\n",
       "job20                0.000000\n",
       "job21                0.000000\n",
       "job22                0.000000\n",
       "job23                0.000000\n",
       "job24                0.000000\n",
       "Name: 0, dtype: float64"
      ]
     },
     "execution_count": 91,
     "metadata": {},
     "output_type": "execute_result"
    }
   ],
   "source": [
    "df_new.iloc[0] # all became numerical"
   ]
  },
  {
   "cell_type": "code",
   "execution_count": 92,
   "id": "2498a4e5-89ae-4cee-bb81-6226747925a5",
   "metadata": {},
   "outputs": [],
   "source": [
    "X = df_new.drop('is_fraud', axis=1)\n",
    "y = df_new['is_fraud']"
   ]
  },
  {
   "cell_type": "code",
   "execution_count": 100,
   "id": "4fd3a1be-b158-458d-b404-798fa100e824",
   "metadata": {},
   "outputs": [],
   "source": [
    "X_train, X_test, y_train, y_test = train_test_split(X, y, test_size=0.2, random_state=42)"
   ]
  },
  {
   "cell_type": "code",
   "execution_count": 101,
   "id": "761d0e74-a831-43d1-a693-c7a85132db97",
   "metadata": {},
   "outputs": [
    {
     "data": {
      "text/plain": [
       "(1037340, 47)"
      ]
     },
     "execution_count": 101,
     "metadata": {},
     "output_type": "execute_result"
    }
   ],
   "source": [
    "X_train.shape"
   ]
  },
  {
   "cell_type": "code",
   "execution_count": 102,
   "id": "1da5f9b5-a6e3-4fc8-b9ee-827d98b000f8",
   "metadata": {},
   "outputs": [
    {
     "data": {
      "text/plain": [
       "(1037340,)"
      ]
     },
     "execution_count": 102,
     "metadata": {},
     "output_type": "execute_result"
    }
   ],
   "source": [
    "y_train.shape"
   ]
  },
  {
   "cell_type": "code",
   "execution_count": 103,
   "id": "36e1d392-1151-43fe-af2c-61ee203cf661",
   "metadata": {},
   "outputs": [
    {
     "data": {
      "text/plain": [
       "(259335, 47)"
      ]
     },
     "execution_count": 103,
     "metadata": {},
     "output_type": "execute_result"
    }
   ],
   "source": [
    "X_test.shape"
   ]
  },
  {
   "cell_type": "code",
   "execution_count": 104,
   "id": "a38f11dc-c93d-456f-881f-df1f03275225",
   "metadata": {},
   "outputs": [
    {
     "data": {
      "text/plain": [
       "(259335,)"
      ]
     },
     "execution_count": 104,
     "metadata": {},
     "output_type": "execute_result"
    }
   ],
   "source": [
    "y_test.shape"
   ]
  },
  {
   "cell_type": "markdown",
   "id": "8be6270e-7cd9-44c7-a1d1-cc02b2413664",
   "metadata": {},
   "source": [
    "## Modeling"
   ]
  },
  {
   "cell_type": "code",
   "execution_count": 105,
   "id": "2286fa68-ac55-4c30-9eb3-2ec28d72b6c0",
   "metadata": {},
   "outputs": [
    {
     "name": "stderr",
     "output_type": "stream",
     "text": [
      "C:\\Users\\User\\AppData\\Local\\Programs\\Python\\Python311\\Lib\\site-packages\\sklearn\\linear_model\\_logistic.py:469: ConvergenceWarning: lbfgs failed to converge (status=1):\n",
      "STOP: TOTAL NO. of ITERATIONS REACHED LIMIT.\n",
      "\n",
      "Increase the number of iterations (max_iter) or scale the data as shown in:\n",
      "    https://scikit-learn.org/stable/modules/preprocessing.html\n",
      "Please also refer to the documentation for alternative solver options:\n",
      "    https://scikit-learn.org/stable/modules/linear_model.html#logistic-regression\n",
      "  n_iter_i = _check_optimize_result(\n"
     ]
    },
    {
     "data": {
      "text/plain": [
       "0.993579732778067"
      ]
     },
     "execution_count": 105,
     "metadata": {},
     "output_type": "execute_result"
    }
   ],
   "source": [
    "lr = LogisticRegression()\n",
    "lr.fit(X_train, y_train)\n",
    "y_pred = lr.predict(X_test)\n",
    "accuracy_score(y_test, y_pred)"
   ]
  },
  {
   "cell_type": "code",
   "execution_count": 108,
   "id": "04a97d0c-c21e-4646-be8c-49a6843f4bb3",
   "metadata": {},
   "outputs": [
    {
     "name": "stderr",
     "output_type": "stream",
     "text": [
      "C:\\Users\\User\\AppData\\Local\\Programs\\Python\\Python311\\Lib\\site-packages\\sklearn\\linear_model\\_logistic.py:469: ConvergenceWarning: lbfgs failed to converge (status=1):\n",
      "STOP: TOTAL NO. of ITERATIONS REACHED LIMIT.\n",
      "\n",
      "Increase the number of iterations (max_iter) or scale the data as shown in:\n",
      "    https://scikit-learn.org/stable/modules/preprocessing.html\n",
      "Please also refer to the documentation for alternative solver options:\n",
      "    https://scikit-learn.org/stable/modules/linear_model.html#logistic-regression\n",
      "  n_iter_i = _check_optimize_result(\n",
      "C:\\Users\\User\\AppData\\Local\\Programs\\Python\\Python311\\Lib\\site-packages\\sklearn\\linear_model\\_logistic.py:469: ConvergenceWarning: lbfgs failed to converge (status=1):\n",
      "STOP: TOTAL NO. of ITERATIONS REACHED LIMIT.\n",
      "\n",
      "Increase the number of iterations (max_iter) or scale the data as shown in:\n",
      "    https://scikit-learn.org/stable/modules/preprocessing.html\n",
      "Please also refer to the documentation for alternative solver options:\n",
      "    https://scikit-learn.org/stable/modules/linear_model.html#logistic-regression\n",
      "  n_iter_i = _check_optimize_result(\n",
      "C:\\Users\\User\\AppData\\Local\\Programs\\Python\\Python311\\Lib\\site-packages\\sklearn\\linear_model\\_logistic.py:469: ConvergenceWarning: lbfgs failed to converge (status=1):\n",
      "STOP: TOTAL NO. of ITERATIONS REACHED LIMIT.\n",
      "\n",
      "Increase the number of iterations (max_iter) or scale the data as shown in:\n",
      "    https://scikit-learn.org/stable/modules/preprocessing.html\n",
      "Please also refer to the documentation for alternative solver options:\n",
      "    https://scikit-learn.org/stable/modules/linear_model.html#logistic-regression\n",
      "  n_iter_i = _check_optimize_result(\n",
      "C:\\Users\\User\\AppData\\Local\\Programs\\Python\\Python311\\Lib\\site-packages\\sklearn\\linear_model\\_logistic.py:469: ConvergenceWarning: lbfgs failed to converge (status=1):\n",
      "STOP: TOTAL NO. of ITERATIONS REACHED LIMIT.\n",
      "\n",
      "Increase the number of iterations (max_iter) or scale the data as shown in:\n",
      "    https://scikit-learn.org/stable/modules/preprocessing.html\n",
      "Please also refer to the documentation for alternative solver options:\n",
      "    https://scikit-learn.org/stable/modules/linear_model.html#logistic-regression\n",
      "  n_iter_i = _check_optimize_result(\n",
      "C:\\Users\\User\\AppData\\Local\\Programs\\Python\\Python311\\Lib\\site-packages\\sklearn\\linear_model\\_logistic.py:469: ConvergenceWarning: lbfgs failed to converge (status=1):\n",
      "STOP: TOTAL NO. of ITERATIONS REACHED LIMIT.\n",
      "\n",
      "Increase the number of iterations (max_iter) or scale the data as shown in:\n",
      "    https://scikit-learn.org/stable/modules/preprocessing.html\n",
      "Please also refer to the documentation for alternative solver options:\n",
      "    https://scikit-learn.org/stable/modules/linear_model.html#logistic-regression\n",
      "  n_iter_i = _check_optimize_result(\n"
     ]
    },
    {
     "name": "stdout",
     "output_type": "stream",
     "text": [
      "[0.99357973 0.99365685 0.99356045 0.99364143 0.99383423]\n"
     ]
    }
   ],
   "source": [
    "# KFold cross validation\n",
    "lr_kfold = LogisticRegression()\n",
    "kfold = KFold(n_splits=5, shuffle=True, random_state=42)\n",
    "cv_scores = cross_val_score(lr_kfold, X, y, cv = kfold)\n",
    "print(cv_scores)"
   ]
  },
  {
   "cell_type": "code",
   "execution_count": 109,
   "id": "00ff5974-ba26-41e1-8a62-55e35c6a2ada",
   "metadata": {},
   "outputs": [
    {
     "name": "stdout",
     "output_type": "stream",
     "text": [
      "The overall accuracy from 5 KFold cross-validations: 0.9936545394952475\n"
     ]
    }
   ],
   "source": [
    "print(\"The overall accuracy from 5 KFold cross-validations:\",cv_scores.mean())"
   ]
  },
  {
   "cell_type": "markdown",
   "id": "3669645b-51c2-40f9-9778-b9139b5a8572",
   "metadata": {},
   "source": [
    "<br>The consistency in the cross-validation scores proves that the model trained is capable of predicting credit card fraud with remarkable accuracy. <br>\n",
    "The model is behaving almost the same even when the training data and testing data is changed every time. <br>\n",
    "Thus, the model to predict the credit card fraud is successfully built. <br>\n",
    "\n",
    "NOTE: While evaluating the accuracy of the model, the model may take sometime to fit and predict. <br>\n",
    "This is due to the large dataset we have. This is normal and please wait for it to fit on the training data."
   ]
  }
 ],
 "metadata": {
  "kernelspec": {
   "display_name": "Python 3 (ipykernel)",
   "language": "python",
   "name": "python3"
  },
  "language_info": {
   "codemirror_mode": {
    "name": "ipython",
    "version": 3
   },
   "file_extension": ".py",
   "mimetype": "text/x-python",
   "name": "python",
   "nbconvert_exporter": "python",
   "pygments_lexer": "ipython3",
   "version": "3.11.0"
  }
 },
 "nbformat": 4,
 "nbformat_minor": 5
}
