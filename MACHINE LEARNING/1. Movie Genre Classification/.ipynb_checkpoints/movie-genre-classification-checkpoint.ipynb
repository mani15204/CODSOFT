{
 "cells": [
  {
   "cell_type": "markdown",
   "id": "017dc6fa",
   "metadata": {
    "papermill": {
     "duration": 0.008668,
     "end_time": "2024-06-14T13:42:29.369630",
     "exception": false,
     "start_time": "2024-06-14T13:42:29.360962",
     "status": "completed"
    },
    "tags": []
   },
   "source": [
    "# Movie Genre Classification\n",
    "A Machine Learning model that can predict the genre of a movie based on its plot summary or other textual information. <br>\n",
    "Since the plot summary is in textual format - we have to use Natural Language Processing (NLP) technique."
   ]
  },
  {
   "cell_type": "code",
   "execution_count": 1,
   "id": "992c0435",
   "metadata": {
    "execution": {
     "iopub.execute_input": "2024-06-14T13:42:29.387855Z",
     "iopub.status.busy": "2024-06-14T13:42:29.387291Z",
     "iopub.status.idle": "2024-06-14T13:42:32.548185Z",
     "shell.execute_reply": "2024-06-14T13:42:32.547088Z"
    },
    "papermill": {
     "duration": 3.173403,
     "end_time": "2024-06-14T13:42:32.551082",
     "exception": false,
     "start_time": "2024-06-14T13:42:29.377679",
     "status": "completed"
    },
    "tags": []
   },
   "outputs": [],
   "source": [
    "import numpy as np\n",
    "import pandas as pd\n",
    "\n",
    "from sklearn.model_selection import train_test_split\n",
    "from sklearn.feature_extraction.text import TfidfVectorizer\n",
    "from sklearn.linear_model import LogisticRegression\n",
    "from sklearn.naive_bayes import MultinomialNB\n",
    "from sklearn.svm import SVC\n",
    "from sklearn.metrics import accuracy_score\n",
    "\n",
    "from nltk.corpus import stopwords"
   ]
  },
  {
   "cell_type": "markdown",
   "id": "99da44b0",
   "metadata": {
    "papermill": {
     "duration": 0.007585,
     "end_time": "2024-06-14T13:42:32.566632",
     "exception": false,
     "start_time": "2024-06-14T13:42:32.559047",
     "status": "completed"
    },
    "tags": []
   },
   "source": [
    "## Importing the dataset"
   ]
  },
  {
   "cell_type": "code",
   "execution_count": 2,
   "id": "77c62e61",
   "metadata": {
    "execution": {
     "iopub.execute_input": "2024-06-14T13:42:32.585949Z",
     "iopub.status.busy": "2024-06-14T13:42:32.585340Z",
     "iopub.status.idle": "2024-06-14T13:42:32.707383Z",
     "shell.execute_reply": "2024-06-14T13:42:32.705986Z"
    },
    "papermill": {
     "duration": 0.134206,
     "end_time": "2024-06-14T13:42:32.710182",
     "exception": false,
     "start_time": "2024-06-14T13:42:32.575976",
     "status": "completed"
    },
    "tags": []
   },
   "outputs": [
    {
     "data": {
      "text/plain": [
       "array(['ID', 'TITLE', 'GENRE', 'DESCRIPTION'], dtype=object)"
      ]
     },
     "execution_count": 2,
     "metadata": {},
     "output_type": "execute_result"
    }
   ],
   "source": [
    "# Column headers\n",
    "col_names = pd.read_csv(\"/kaggle/input/genre-classification-dataset-imdb/Genre Classification Dataset/description.txt\", sep=\":::\", engine='python').reset_index().iloc[0].str.strip()\n",
    "col_names = np.array(col_names)\n",
    "col_names"
   ]
  },
  {
   "cell_type": "code",
   "execution_count": 3,
   "id": "b4d7aeb3",
   "metadata": {
    "execution": {
     "iopub.execute_input": "2024-06-14T13:42:32.728529Z",
     "iopub.status.busy": "2024-06-14T13:42:32.727467Z",
     "iopub.status.idle": "2024-06-14T13:42:34.125802Z",
     "shell.execute_reply": "2024-06-14T13:42:34.124535Z"
    },
    "papermill": {
     "duration": 1.410152,
     "end_time": "2024-06-14T13:42:34.128364",
     "exception": false,
     "start_time": "2024-06-14T13:42:32.718212",
     "status": "completed"
    },
    "tags": []
   },
   "outputs": [
    {
     "data": {
      "text/html": [
       "<div>\n",
       "<style scoped>\n",
       "    .dataframe tbody tr th:only-of-type {\n",
       "        vertical-align: middle;\n",
       "    }\n",
       "\n",
       "    .dataframe tbody tr th {\n",
       "        vertical-align: top;\n",
       "    }\n",
       "\n",
       "    .dataframe thead th {\n",
       "        text-align: right;\n",
       "    }\n",
       "</style>\n",
       "<table border=\"1\" class=\"dataframe\">\n",
       "  <thead>\n",
       "    <tr style=\"text-align: right;\">\n",
       "      <th></th>\n",
       "      <th>TITLE</th>\n",
       "      <th>GENRE</th>\n",
       "      <th>DESCRIPTION</th>\n",
       "    </tr>\n",
       "  </thead>\n",
       "  <tbody>\n",
       "    <tr>\n",
       "      <th>0</th>\n",
       "      <td>Oscar et la dame rose (2009)</td>\n",
       "      <td>drama</td>\n",
       "      <td>Listening in to a conversation between his do...</td>\n",
       "    </tr>\n",
       "    <tr>\n",
       "      <th>1</th>\n",
       "      <td>Cupid (1997)</td>\n",
       "      <td>thriller</td>\n",
       "      <td>A brother and sister with a past incestuous r...</td>\n",
       "    </tr>\n",
       "    <tr>\n",
       "      <th>2</th>\n",
       "      <td>Young, Wild and Wonderful (1980)</td>\n",
       "      <td>adult</td>\n",
       "      <td>As the bus empties the students for their fie...</td>\n",
       "    </tr>\n",
       "    <tr>\n",
       "      <th>3</th>\n",
       "      <td>The Secret Sin (1915)</td>\n",
       "      <td>drama</td>\n",
       "      <td>To help their unemployed father make ends mee...</td>\n",
       "    </tr>\n",
       "    <tr>\n",
       "      <th>4</th>\n",
       "      <td>The Unrecovered (2007)</td>\n",
       "      <td>drama</td>\n",
       "      <td>The film's title refers not only to the un-re...</td>\n",
       "    </tr>\n",
       "  </tbody>\n",
       "</table>\n",
       "</div>"
      ],
      "text/plain": [
       "                                TITLE       GENRE  \\\n",
       "0       Oscar et la dame rose (2009)       drama    \n",
       "1                       Cupid (1997)    thriller    \n",
       "2   Young, Wild and Wonderful (1980)       adult    \n",
       "3              The Secret Sin (1915)       drama    \n",
       "4             The Unrecovered (2007)       drama    \n",
       "\n",
       "                                         DESCRIPTION  \n",
       "0   Listening in to a conversation between his do...  \n",
       "1   A brother and sister with a past incestuous r...  \n",
       "2   As the bus empties the students for their fie...  \n",
       "3   To help their unemployed father make ends mee...  \n",
       "4   The film's title refers not only to the un-re...  "
      ]
     },
     "execution_count": 3,
     "metadata": {},
     "output_type": "execute_result"
    }
   ],
   "source": [
    "df = pd.read_csv(\"/kaggle/input/genre-classification-dataset-imdb/Genre Classification Dataset/train_data.txt\", sep=\":::\", header=None, engine='python', names=col_names)\n",
    "df.drop(\"ID\", axis=1, inplace=True)\n",
    "df.head()"
   ]
  },
  {
   "cell_type": "code",
   "execution_count": 4,
   "id": "c7b4096c",
   "metadata": {
    "execution": {
     "iopub.execute_input": "2024-06-14T13:42:34.147139Z",
     "iopub.status.busy": "2024-06-14T13:42:34.146752Z",
     "iopub.status.idle": "2024-06-14T13:42:34.284205Z",
     "shell.execute_reply": "2024-06-14T13:42:34.282994Z"
    },
    "papermill": {
     "duration": 0.150028,
     "end_time": "2024-06-14T13:42:34.287038",
     "exception": false,
     "start_time": "2024-06-14T13:42:34.137010",
     "status": "completed"
    },
    "tags": []
   },
   "outputs": [
    {
     "data": {
      "text/plain": [
       "['oscar et la dame rose',\n",
       " 'cupid',\n",
       " 'young wild and wonderful',\n",
       " 'the secret sin',\n",
       " 'the unrecovered']"
      ]
     },
     "execution_count": 4,
     "metadata": {},
     "output_type": "execute_result"
    }
   ],
   "source": [
    "movie = [x.lower().split('/')[0].strip()[:-7].replace(\".\",\"\").replace(\"\\\"\",\"\").replace(\"'\",\"\").replace(\"$\",\"\").replace(\"?\",\"\").replace(\":\",\"\").replace(\"[\",\"\").replace(\"]\",\"\").replace(\"&\", \" and \").replace(\"-\", \" to \").replace(\",\",\"\").replace(\"!\", \"\") for x in df['TITLE']]\n",
    "movie[:5] # 5 sample output"
   ]
  },
  {
   "cell_type": "code",
   "execution_count": 5,
   "id": "9ce22767",
   "metadata": {
    "execution": {
     "iopub.execute_input": "2024-06-14T13:42:34.306515Z",
     "iopub.status.busy": "2024-06-14T13:42:34.306121Z",
     "iopub.status.idle": "2024-06-14T13:42:34.355923Z",
     "shell.execute_reply": "2024-06-14T13:42:34.354676Z"
    },
    "papermill": {
     "duration": 0.062802,
     "end_time": "2024-06-14T13:42:34.358608",
     "exception": false,
     "start_time": "2024-06-14T13:42:34.295806",
     "status": "completed"
    },
    "tags": []
   },
   "outputs": [
    {
     "data": {
      "text/plain": [
       "[2009, 1997, 1980, 1915, 2007]"
      ]
     },
     "execution_count": 5,
     "metadata": {},
     "output_type": "execute_result"
    }
   ],
   "source": [
    "year = [x.strip()[-5:-1] for x in df[\"TITLE\"]]\n",
    "year = [int(x) if x.isdigit() else None for x in year]\n",
    "year[:5] # Sample 5 outputs"
   ]
  },
  {
   "cell_type": "code",
   "execution_count": 6,
   "id": "38c92745",
   "metadata": {
    "execution": {
     "iopub.execute_input": "2024-06-14T13:42:34.378611Z",
     "iopub.status.busy": "2024-06-14T13:42:34.378090Z",
     "iopub.status.idle": "2024-06-14T13:42:34.429843Z",
     "shell.execute_reply": "2024-06-14T13:42:34.428612Z"
    },
    "papermill": {
     "duration": 0.065402,
     "end_time": "2024-06-14T13:42:34.432618",
     "exception": false,
     "start_time": "2024-06-14T13:42:34.367216",
     "status": "completed"
    },
    "tags": []
   },
   "outputs": [
    {
     "data": {
      "text/html": [
       "<div>\n",
       "<style scoped>\n",
       "    .dataframe tbody tr th:only-of-type {\n",
       "        vertical-align: middle;\n",
       "    }\n",
       "\n",
       "    .dataframe tbody tr th {\n",
       "        vertical-align: top;\n",
       "    }\n",
       "\n",
       "    .dataframe thead th {\n",
       "        text-align: right;\n",
       "    }\n",
       "</style>\n",
       "<table border=\"1\" class=\"dataframe\">\n",
       "  <thead>\n",
       "    <tr style=\"text-align: right;\">\n",
       "      <th></th>\n",
       "      <th>GENRE</th>\n",
       "      <th>DESCRIPTION</th>\n",
       "      <th>MOVIE</th>\n",
       "      <th>YEAR</th>\n",
       "    </tr>\n",
       "  </thead>\n",
       "  <tbody>\n",
       "    <tr>\n",
       "      <th>0</th>\n",
       "      <td>drama</td>\n",
       "      <td>Listening in to a conversation between his do...</td>\n",
       "      <td>oscar et la dame rose</td>\n",
       "      <td>2009</td>\n",
       "    </tr>\n",
       "    <tr>\n",
       "      <th>1</th>\n",
       "      <td>thriller</td>\n",
       "      <td>A brother and sister with a past incestuous r...</td>\n",
       "      <td>cupid</td>\n",
       "      <td>1997</td>\n",
       "    </tr>\n",
       "    <tr>\n",
       "      <th>2</th>\n",
       "      <td>adult</td>\n",
       "      <td>As the bus empties the students for their fie...</td>\n",
       "      <td>young wild and wonderful</td>\n",
       "      <td>1980</td>\n",
       "    </tr>\n",
       "    <tr>\n",
       "      <th>3</th>\n",
       "      <td>drama</td>\n",
       "      <td>To help their unemployed father make ends mee...</td>\n",
       "      <td>the secret sin</td>\n",
       "      <td>1915</td>\n",
       "    </tr>\n",
       "    <tr>\n",
       "      <th>4</th>\n",
       "      <td>drama</td>\n",
       "      <td>The film's title refers not only to the un-re...</td>\n",
       "      <td>the unrecovered</td>\n",
       "      <td>2007</td>\n",
       "    </tr>\n",
       "  </tbody>\n",
       "</table>\n",
       "</div>"
      ],
      "text/plain": [
       "        GENRE                                        DESCRIPTION  \\\n",
       "0      drama    Listening in to a conversation between his do...   \n",
       "1   thriller    A brother and sister with a past incestuous r...   \n",
       "2      adult    As the bus empties the students for their fie...   \n",
       "3      drama    To help their unemployed father make ends mee...   \n",
       "4      drama    The film's title refers not only to the un-re...   \n",
       "\n",
       "                      MOVIE  YEAR  \n",
       "0     oscar et la dame rose  2009  \n",
       "1                     cupid  1997  \n",
       "2  young wild and wonderful  1980  \n",
       "3            the secret sin  1915  \n",
       "4           the unrecovered  2007  "
      ]
     },
     "execution_count": 6,
     "metadata": {},
     "output_type": "execute_result"
    }
   ],
   "source": [
    "# Separating \"TITLE\" into \"MOVIE\" and \"YEAR\"\n",
    "df['MOVIE'] = movie\n",
    "df['YEAR'] = year\n",
    "\n",
    "# Removing the attribute \"TITLE\" \n",
    "df.drop(\"TITLE\", axis=1, inplace=True)\n",
    "\n",
    "# Filling median value\n",
    "df[\"YEAR\"] = df[\"YEAR\"].fillna(df['YEAR'][df['YEAR'].notnull()].median()).astype(np.int32)\n",
    "df.head()"
   ]
  },
  {
   "cell_type": "code",
   "execution_count": 7,
   "id": "535a6b47",
   "metadata": {
    "execution": {
     "iopub.execute_input": "2024-06-14T13:42:34.452428Z",
     "iopub.status.busy": "2024-06-14T13:42:34.452030Z",
     "iopub.status.idle": "2024-06-14T13:42:34.466104Z",
     "shell.execute_reply": "2024-06-14T13:42:34.464921Z"
    },
    "papermill": {
     "duration": 0.027251,
     "end_time": "2024-06-14T13:42:34.469032",
     "exception": false,
     "start_time": "2024-06-14T13:42:34.441781",
     "status": "completed"
    },
    "tags": []
   },
   "outputs": [
    {
     "data": {
      "text/plain": [
       "0"
      ]
     },
     "execution_count": 7,
     "metadata": {},
     "output_type": "execute_result"
    }
   ],
   "source": [
    "# No of null entries in Genre attribute\n",
    "df['GENRE'].isnull().sum()"
   ]
  },
  {
   "cell_type": "code",
   "execution_count": 8,
   "id": "a19a7664",
   "metadata": {
    "execution": {
     "iopub.execute_input": "2024-06-14T13:42:34.489091Z",
     "iopub.status.busy": "2024-06-14T13:42:34.488661Z",
     "iopub.status.idle": "2024-06-14T13:42:34.529688Z",
     "shell.execute_reply": "2024-06-14T13:42:34.528334Z"
    },
    "papermill": {
     "duration": 0.055176,
     "end_time": "2024-06-14T13:42:34.533272",
     "exception": false,
     "start_time": "2024-06-14T13:42:34.478096",
     "status": "completed"
    },
    "tags": []
   },
   "outputs": [],
   "source": [
    "df[\"GENRE\"] = df[\"GENRE\"].str.lower().str.strip()"
   ]
  },
  {
   "cell_type": "code",
   "execution_count": 9,
   "id": "3a6bb8c9",
   "metadata": {
    "execution": {
     "iopub.execute_input": "2024-06-14T13:42:34.558502Z",
     "iopub.status.busy": "2024-06-14T13:42:34.557953Z",
     "iopub.status.idle": "2024-06-14T13:42:34.578622Z",
     "shell.execute_reply": "2024-06-14T13:42:34.577472Z"
    },
    "papermill": {
     "duration": 0.038121,
     "end_time": "2024-06-14T13:42:34.582829",
     "exception": false,
     "start_time": "2024-06-14T13:42:34.544708",
     "status": "completed"
    },
    "tags": []
   },
   "outputs": [
    {
     "data": {
      "text/plain": [
       "0"
      ]
     },
     "execution_count": 9,
     "metadata": {},
     "output_type": "execute_result"
    }
   ],
   "source": [
    "# No of null entries in Movie\n",
    "df[\"MOVIE\"].isnull().sum()"
   ]
  },
  {
   "cell_type": "code",
   "execution_count": 10,
   "id": "b4255f2d",
   "metadata": {
    "execution": {
     "iopub.execute_input": "2024-06-14T13:42:34.606116Z",
     "iopub.status.busy": "2024-06-14T13:42:34.605729Z",
     "iopub.status.idle": "2024-06-14T13:42:34.632519Z",
     "shell.execute_reply": "2024-06-14T13:42:34.631357Z"
    },
    "papermill": {
     "duration": 0.04018,
     "end_time": "2024-06-14T13:42:34.635152",
     "exception": false,
     "start_time": "2024-06-14T13:42:34.594972",
     "status": "completed"
    },
    "tags": []
   },
   "outputs": [],
   "source": [
    "df[\"MOVIE\"] = df[\"MOVIE\"].str.strip()"
   ]
  },
  {
   "cell_type": "code",
   "execution_count": 11,
   "id": "e3143449",
   "metadata": {
    "execution": {
     "iopub.execute_input": "2024-06-14T13:42:34.657674Z",
     "iopub.status.busy": "2024-06-14T13:42:34.656953Z",
     "iopub.status.idle": "2024-06-14T13:42:34.677772Z",
     "shell.execute_reply": "2024-06-14T13:42:34.676454Z"
    },
    "papermill": {
     "duration": 0.036836,
     "end_time": "2024-06-14T13:42:34.681160",
     "exception": false,
     "start_time": "2024-06-14T13:42:34.644324",
     "status": "completed"
    },
    "tags": []
   },
   "outputs": [
    {
     "data": {
      "text/plain": [
       "0"
      ]
     },
     "execution_count": 11,
     "metadata": {},
     "output_type": "execute_result"
    }
   ],
   "source": [
    "# No of null entries in description\n",
    "df[\"DESCRIPTION\"].isnull().sum()"
   ]
  },
  {
   "cell_type": "code",
   "execution_count": 12,
   "id": "148a404d",
   "metadata": {
    "execution": {
     "iopub.execute_input": "2024-06-14T13:42:34.705210Z",
     "iopub.status.busy": "2024-06-14T13:42:34.704777Z",
     "iopub.status.idle": "2024-06-14T13:42:34.857503Z",
     "shell.execute_reply": "2024-06-14T13:42:34.856463Z"
    },
    "papermill": {
     "duration": 0.170992,
     "end_time": "2024-06-14T13:42:34.864069",
     "exception": false,
     "start_time": "2024-06-14T13:42:34.693077",
     "status": "completed"
    },
    "tags": []
   },
   "outputs": [],
   "source": [
    "df[\"DESCRIPTION\"] = df[\"DESCRIPTION\"].str.lower()"
   ]
  },
  {
   "cell_type": "code",
   "execution_count": 13,
   "id": "7f515f94",
   "metadata": {
    "execution": {
     "iopub.execute_input": "2024-06-14T13:42:34.887054Z",
     "iopub.status.busy": "2024-06-14T13:42:34.886503Z",
     "iopub.status.idle": "2024-06-14T13:42:34.895876Z",
     "shell.execute_reply": "2024-06-14T13:42:34.894476Z"
    },
    "papermill": {
     "duration": 0.023171,
     "end_time": "2024-06-14T13:42:34.898550",
     "exception": false,
     "start_time": "2024-06-14T13:42:34.875379",
     "status": "completed"
    },
    "tags": []
   },
   "outputs": [
    {
     "data": {
      "text/plain": [
       "' listening in to a conversation between his doctor and parents, 10-year-old oscar learns what nobody has the courage to tell him. he only has a few weeks to live. furious, he refuses to speak to anyone except straight-talking rose, the lady in pink he meets on the hospital stairs. as christmas approaches, rose uses her fantastical experiences as a professional wrestler, her imagination, wit and charm to allow oscar to live life and love to the full, in the company of his friends pop corn, einstein, bacon and childhood sweetheart peggy blue.'"
      ]
     },
     "execution_count": 13,
     "metadata": {},
     "output_type": "execute_result"
    }
   ],
   "source": [
    "df[\"DESCRIPTION\"].iloc[0]"
   ]
  },
  {
   "cell_type": "code",
   "execution_count": 14,
   "id": "762a53ce",
   "metadata": {
    "execution": {
     "iopub.execute_input": "2024-06-14T13:42:34.923366Z",
     "iopub.status.busy": "2024-06-14T13:42:34.922973Z",
     "iopub.status.idle": "2024-06-14T13:42:35.074050Z",
     "shell.execute_reply": "2024-06-14T13:42:35.072469Z"
    },
    "papermill": {
     "duration": 0.168403,
     "end_time": "2024-06-14T13:42:35.077391",
     "exception": false,
     "start_time": "2024-06-14T13:42:34.908988",
     "status": "completed"
    },
    "tags": []
   },
   "outputs": [],
   "source": [
    "df[\"DESCRIPTION\"] = [x.replace('-',\" \").replace(\".\",\" \").replace(\",\",\" \").strip() for x in df[\"DESCRIPTION\"]]"
   ]
  },
  {
   "cell_type": "markdown",
   "id": "adc96cb2",
   "metadata": {
    "papermill": {
     "duration": 0.009309,
     "end_time": "2024-06-14T13:42:35.096700",
     "exception": false,
     "start_time": "2024-06-14T13:42:35.087391",
     "status": "completed"
    },
    "tags": []
   },
   "source": [
    "## Preprocessing"
   ]
  },
  {
   "cell_type": "markdown",
   "id": "fa49465a",
   "metadata": {
    "papermill": {
     "duration": 0.009815,
     "end_time": "2024-06-14T13:42:35.115895",
     "exception": false,
     "start_time": "2024-06-14T13:42:35.106080",
     "status": "completed"
    },
    "tags": []
   },
   "source": [
    "Eventhough we have taken much effort in preprocessing the movie name, it's optional. <br>\n",
    "Usually, it is very difficult to predict the genre with movie name. Also, year of the movie has nothing to do with the genre. <br>\n",
    "So, some may choose to leave the column, which is also logical. But since this is a practice problem, we are trying to explore all possible preprocessing.\n",
    "\n",
    "Here let's consider the input as a string concatenating both movie and description."
   ]
  },
  {
   "cell_type": "code",
   "execution_count": 15,
   "id": "323588ef",
   "metadata": {
    "execution": {
     "iopub.execute_input": "2024-06-14T13:42:35.136873Z",
     "iopub.status.busy": "2024-06-14T13:42:35.136411Z",
     "iopub.status.idle": "2024-06-14T13:56:06.265904Z",
     "shell.execute_reply": "2024-06-14T13:56:06.264722Z"
    },
    "papermill": {
     "duration": 811.152794,
     "end_time": "2024-06-14T13:56:06.278220",
     "exception": false,
     "start_time": "2024-06-14T13:42:35.125426",
     "status": "completed"
    },
    "tags": []
   },
   "outputs": [
    {
     "data": {
      "text/plain": [
       "['oscar et la dame rose listening conversation doctor parents 10 year old oscar learns nobody courage tell weeks live furious refuses speak anyone except straight talking rose lady pink meets hospital stairs christmas approaches rose uses fantastical experiences professional wrestler imagination wit charm allow oscar live life love full company friends pop corn einstein bacon childhood sweetheart peggy blue',\n",
       " 'cupid brother sister past incestuous relationship current murderous relationship murders women reject murders women get close',\n",
       " 'young wild wonderful bus empties students field trip museum natural history little tour guide suspect students another tour first lecture films coeds drift dreams erotic fantasies one imagine films release emotion fantasies erotic uncommon ways one slips curator\\'s office little \"acquisition \" another finds anthropologist see bones identified even head teacher immune soon tour bus departs everyone admits quite education',\n",
       " \"secret sin help unemployed father make ends meet edith twin sister grace work seamstresses invalid grace falls prey temptations chinatown opium becomes addict condition worsened misguided physician prescribes morphine ease pain father strikes oil family enjoys new prosperity sisters meet eligible jack herron fellow oil prospector grace's shock jack falls love edith jealousy grace tells jack edith drug problem hinting sister soon need morphine grace arranges dinner chinatown couple sister jack dance grace slips away opium den edith follows ends wrong den arrested ensuing drug raid bails jail edith takes angry jack search grace stumbles across half conscious body lying street truth sisters revealed sending grace sanitarium country jack edith married\",\n",
       " \"unrecovered film's title refers un recovered bodies ground zero also state nation large set hallucinatory period time september 11 halloween 2001 unrecovered examines effect terror average mind way state heightened anxiety and/or alertness cause average person make sort imaginative connections normally made artists conspiracy theorists figure prominently film unrecovered explores way irony empathy paranoia relate one another wake 9/11\"]"
      ]
     },
     "execution_count": 15,
     "metadata": {},
     "output_type": "execute_result"
    }
   ],
   "source": [
    "#  Train test split\n",
    "vectorizer = TfidfVectorizer(stop_words = 'english')\n",
    "X = df[\"MOVIE\"] + \" \" + df[\"DESCRIPTION\"]\n",
    "X_processed = []\n",
    "for sent in X:\n",
    "    X_processed.append(' '.join([x for x in sent.split() if x not in stopwords.words(\"english\")]))\n",
    "X_processed[:5]"
   ]
  },
  {
   "cell_type": "code",
   "execution_count": 16,
   "id": "cb919a53",
   "metadata": {
    "execution": {
     "iopub.execute_input": "2024-06-14T13:56:06.300485Z",
     "iopub.status.busy": "2024-06-14T13:56:06.300059Z",
     "iopub.status.idle": "2024-06-14T13:56:12.156512Z",
     "shell.execute_reply": "2024-06-14T13:56:12.155065Z"
    },
    "papermill": {
     "duration": 5.871333,
     "end_time": "2024-06-14T13:56:12.159326",
     "exception": false,
     "start_time": "2024-06-14T13:56:06.287993",
     "status": "completed"
    },
    "tags": []
   },
   "outputs": [],
   "source": [
    "X_processed = vectorizer.fit_transform(X_processed)\n",
    "\n",
    "X_train, X_test, y_train, y_test = train_test_split(X_processed, df[\"GENRE\"], test_size=0.2, random_state=42)"
   ]
  },
  {
   "cell_type": "code",
   "execution_count": 17,
   "id": "4a5cabe6",
   "metadata": {
    "execution": {
     "iopub.execute_input": "2024-06-14T13:56:12.181340Z",
     "iopub.status.busy": "2024-06-14T13:56:12.180927Z",
     "iopub.status.idle": "2024-06-14T13:56:12.188318Z",
     "shell.execute_reply": "2024-06-14T13:56:12.187104Z"
    },
    "papermill": {
     "duration": 0.021505,
     "end_time": "2024-06-14T13:56:12.190794",
     "exception": false,
     "start_time": "2024-06-14T13:56:12.169289",
     "status": "completed"
    },
    "tags": []
   },
   "outputs": [
    {
     "data": {
      "text/plain": [
       "<43371x137058 sparse matrix of type '<class 'numpy.float64'>'\n",
       "\twith 2015978 stored elements in Compressed Sparse Row format>"
      ]
     },
     "execution_count": 17,
     "metadata": {},
     "output_type": "execute_result"
    }
   ],
   "source": [
    "X_train"
   ]
  },
  {
   "cell_type": "code",
   "execution_count": 18,
   "id": "afb6e52a",
   "metadata": {
    "execution": {
     "iopub.execute_input": "2024-06-14T13:56:12.212225Z",
     "iopub.status.busy": "2024-06-14T13:56:12.211817Z",
     "iopub.status.idle": "2024-06-14T13:56:13.042674Z",
     "shell.execute_reply": "2024-06-14T13:56:13.041509Z"
    },
    "papermill": {
     "duration": 0.844487,
     "end_time": "2024-06-14T13:56:13.045187",
     "exception": false,
     "start_time": "2024-06-14T13:56:12.200700",
     "status": "completed"
    },
    "tags": []
   },
   "outputs": [
    {
     "data": {
      "text/plain": [
       "0.4444341971779028"
      ]
     },
     "execution_count": 18,
     "metadata": {},
     "output_type": "execute_result"
    }
   ],
   "source": [
    "# Naive Bayes\n",
    "clf = MultinomialNB()\n",
    "clf.fit(X_train, y_train)\n",
    "y_pred = clf.predict(X_test)\n",
    "accuracy_score(y_test, y_pred)"
   ]
  },
  {
   "cell_type": "code",
   "execution_count": 19,
   "id": "c14edfe1",
   "metadata": {
    "execution": {
     "iopub.execute_input": "2024-06-14T13:56:13.066794Z",
     "iopub.status.busy": "2024-06-14T13:56:13.066389Z",
     "iopub.status.idle": "2024-06-14T15:18:39.206025Z",
     "shell.execute_reply": "2024-06-14T15:18:39.204769Z"
    },
    "papermill": {
     "duration": 4946.16328,
     "end_time": "2024-06-14T15:18:39.218523",
     "exception": false,
     "start_time": "2024-06-14T13:56:13.055243",
     "status": "completed"
    },
    "tags": []
   },
   "outputs": [
    {
     "data": {
      "text/plain": [
       "0.5663561744904547"
      ]
     },
     "execution_count": 19,
     "metadata": {},
     "output_type": "execute_result"
    }
   ],
   "source": [
    "# Support Vector Machine\n",
    "svm = SVC()\n",
    "svm.fit(X_train, y_train)\n",
    "y_pred = svm.predict(X_test)\n",
    "accuracy_score(y_test, y_pred)"
   ]
  },
  {
   "cell_type": "code",
   "execution_count": 20,
   "id": "f1280ec5",
   "metadata": {
    "execution": {
     "iopub.execute_input": "2024-06-14T15:18:39.241790Z",
     "iopub.status.busy": "2024-06-14T15:18:39.241341Z",
     "iopub.status.idle": "2024-06-14T15:20:27.490588Z",
     "shell.execute_reply": "2024-06-14T15:20:27.489029Z"
    },
    "papermill": {
     "duration": 108.274416,
     "end_time": "2024-06-14T15:20:27.503438",
     "exception": false,
     "start_time": "2024-06-14T15:18:39.229022",
     "status": "completed"
    },
    "tags": []
   },
   "outputs": [
    {
     "name": "stderr",
     "output_type": "stream",
     "text": [
      "/opt/conda/lib/python3.10/site-packages/sklearn/linear_model/_logistic.py:458: ConvergenceWarning: lbfgs failed to converge (status=1):\n",
      "STOP: TOTAL NO. of ITERATIONS REACHED LIMIT.\n",
      "\n",
      "Increase the number of iterations (max_iter) or scale the data as shown in:\n",
      "    https://scikit-learn.org/stable/modules/preprocessing.html\n",
      "Please also refer to the documentation for alternative solver options:\n",
      "    https://scikit-learn.org/stable/modules/linear_model.html#logistic-regression\n",
      "  n_iter_i = _check_optimize_result(\n"
     ]
    },
    {
     "data": {
      "text/plain": [
       "0.5812966891081804"
      ]
     },
     "execution_count": 20,
     "metadata": {},
     "output_type": "execute_result"
    }
   ],
   "source": [
    "# Logistic Regression\n",
    "lr = LogisticRegression()\n",
    "lr.fit(X_train, y_train)\n",
    "y_pred = lr.predict(X_test)\n",
    "accuracy_score(y_pred, y_test)"
   ]
  }
 ],
 "metadata": {
  "kaggle": {
   "accelerator": "none",
   "dataSources": [
    {
     "datasetId": 1417162,
     "sourceId": 2347441,
     "sourceType": "datasetVersion"
    }
   ],
   "dockerImageVersionId": 30732,
   "isGpuEnabled": false,
   "isInternetEnabled": true,
   "language": "python",
   "sourceType": "notebook"
  },
  "kernelspec": {
   "display_name": "Python 3 (ipykernel)",
   "language": "python",
   "name": "python3"
  },
  "language_info": {
   "codemirror_mode": {
    "name": "ipython",
    "version": 3
   },
   "file_extension": ".py",
   "mimetype": "text/x-python",
   "name": "python",
   "nbconvert_exporter": "python",
   "pygments_lexer": "ipython3",
   "version": "3.11.0"
  },
  "papermill": {
   "default_parameters": {},
   "duration": 5882.214924,
   "end_time": "2024-06-14T15:20:28.349997",
   "environment_variables": {},
   "exception": null,
   "input_path": "__notebook__.ipynb",
   "output_path": "__notebook__.ipynb",
   "parameters": {},
   "start_time": "2024-06-14T13:42:26.135073",
   "version": "2.5.0"
  }
 },
 "nbformat": 4,
 "nbformat_minor": 5
}
