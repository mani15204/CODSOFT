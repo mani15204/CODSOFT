{
 "cells": [
  {
   "cell_type": "markdown",
   "id": "dfee10d1-77a2-4765-80bd-b3a732b737da",
   "metadata": {},
   "source": [
    "# Customer Churn Prediction"
   ]
  },
  {
   "cell_type": "code",
   "execution_count": 86,
   "id": "976bb130-0934-40c7-b794-bfeefd504e73",
   "metadata": {},
   "outputs": [],
   "source": [
    "import pandas as pd\n",
    "\n",
    "from sklearn.preprocessing import LabelEncoder, StandardScaler\n",
    "from sklearn.model_selection import train_test_split, KFold, cross_val_score, GridSearchCV\n",
    "from sklearn.linear_model import LogisticRegression\n",
    "from sklearn.tree import DecisionTreeClassifier\n",
    "from sklearn.ensemble import RandomForestClassifier, GradientBoostingClassifier\n",
    "from sklearn.svm import SVC\n",
    "from sklearn.neighbors import KNeighborsClassifier\n",
    "from sklearn.metrics import accuracy_score, classification_report\n",
    "\n",
    "import tensorflow as tf\n",
    "from tensorflow.keras.models import Sequential\n",
    "from tensorflow.keras.layers import *\n",
    "from tensorflow.keras.utils import to_categorical"
   ]
  },
  {
   "cell_type": "markdown",
   "id": "3d413638-e9f5-4f11-8b13-e58755b9b911",
   "metadata": {
    "jp-MarkdownHeadingCollapsed": true
   },
   "source": [
    "## Importing the dataset"
   ]
  },
  {
   "cell_type": "code",
   "execution_count": 2,
   "id": "4c3c010f-c5ae-4f75-9e39-7085014edfe4",
   "metadata": {},
   "outputs": [
    {
     "data": {
      "text/html": [
       "<div>\n",
       "<style scoped>\n",
       "    .dataframe tbody tr th:only-of-type {\n",
       "        vertical-align: middle;\n",
       "    }\n",
       "\n",
       "    .dataframe tbody tr th {\n",
       "        vertical-align: top;\n",
       "    }\n",
       "\n",
       "    .dataframe thead th {\n",
       "        text-align: right;\n",
       "    }\n",
       "</style>\n",
       "<table border=\"1\" class=\"dataframe\">\n",
       "  <thead>\n",
       "    <tr style=\"text-align: right;\">\n",
       "      <th></th>\n",
       "      <th>RowNumber</th>\n",
       "      <th>CustomerId</th>\n",
       "      <th>Surname</th>\n",
       "      <th>CreditScore</th>\n",
       "      <th>Geography</th>\n",
       "      <th>Gender</th>\n",
       "      <th>Age</th>\n",
       "      <th>Tenure</th>\n",
       "      <th>Balance</th>\n",
       "      <th>NumOfProducts</th>\n",
       "      <th>HasCrCard</th>\n",
       "      <th>IsActiveMember</th>\n",
       "      <th>EstimatedSalary</th>\n",
       "      <th>Exited</th>\n",
       "    </tr>\n",
       "  </thead>\n",
       "  <tbody>\n",
       "    <tr>\n",
       "      <th>0</th>\n",
       "      <td>1</td>\n",
       "      <td>15634602</td>\n",
       "      <td>Hargrave</td>\n",
       "      <td>619</td>\n",
       "      <td>France</td>\n",
       "      <td>Female</td>\n",
       "      <td>42</td>\n",
       "      <td>2</td>\n",
       "      <td>0.00</td>\n",
       "      <td>1</td>\n",
       "      <td>1</td>\n",
       "      <td>1</td>\n",
       "      <td>101348.88</td>\n",
       "      <td>1</td>\n",
       "    </tr>\n",
       "    <tr>\n",
       "      <th>1</th>\n",
       "      <td>2</td>\n",
       "      <td>15647311</td>\n",
       "      <td>Hill</td>\n",
       "      <td>608</td>\n",
       "      <td>Spain</td>\n",
       "      <td>Female</td>\n",
       "      <td>41</td>\n",
       "      <td>1</td>\n",
       "      <td>83807.86</td>\n",
       "      <td>1</td>\n",
       "      <td>0</td>\n",
       "      <td>1</td>\n",
       "      <td>112542.58</td>\n",
       "      <td>0</td>\n",
       "    </tr>\n",
       "    <tr>\n",
       "      <th>2</th>\n",
       "      <td>3</td>\n",
       "      <td>15619304</td>\n",
       "      <td>Onio</td>\n",
       "      <td>502</td>\n",
       "      <td>France</td>\n",
       "      <td>Female</td>\n",
       "      <td>42</td>\n",
       "      <td>8</td>\n",
       "      <td>159660.80</td>\n",
       "      <td>3</td>\n",
       "      <td>1</td>\n",
       "      <td>0</td>\n",
       "      <td>113931.57</td>\n",
       "      <td>1</td>\n",
       "    </tr>\n",
       "    <tr>\n",
       "      <th>3</th>\n",
       "      <td>4</td>\n",
       "      <td>15701354</td>\n",
       "      <td>Boni</td>\n",
       "      <td>699</td>\n",
       "      <td>France</td>\n",
       "      <td>Female</td>\n",
       "      <td>39</td>\n",
       "      <td>1</td>\n",
       "      <td>0.00</td>\n",
       "      <td>2</td>\n",
       "      <td>0</td>\n",
       "      <td>0</td>\n",
       "      <td>93826.63</td>\n",
       "      <td>0</td>\n",
       "    </tr>\n",
       "    <tr>\n",
       "      <th>4</th>\n",
       "      <td>5</td>\n",
       "      <td>15737888</td>\n",
       "      <td>Mitchell</td>\n",
       "      <td>850</td>\n",
       "      <td>Spain</td>\n",
       "      <td>Female</td>\n",
       "      <td>43</td>\n",
       "      <td>2</td>\n",
       "      <td>125510.82</td>\n",
       "      <td>1</td>\n",
       "      <td>1</td>\n",
       "      <td>1</td>\n",
       "      <td>79084.10</td>\n",
       "      <td>0</td>\n",
       "    </tr>\n",
       "  </tbody>\n",
       "</table>\n",
       "</div>"
      ],
      "text/plain": [
       "   RowNumber  CustomerId   Surname  CreditScore Geography  Gender  Age  \\\n",
       "0          1    15634602  Hargrave          619    France  Female   42   \n",
       "1          2    15647311      Hill          608     Spain  Female   41   \n",
       "2          3    15619304      Onio          502    France  Female   42   \n",
       "3          4    15701354      Boni          699    France  Female   39   \n",
       "4          5    15737888  Mitchell          850     Spain  Female   43   \n",
       "\n",
       "   Tenure    Balance  NumOfProducts  HasCrCard  IsActiveMember  \\\n",
       "0       2       0.00              1          1               1   \n",
       "1       1   83807.86              1          0               1   \n",
       "2       8  159660.80              3          1               0   \n",
       "3       1       0.00              2          0               0   \n",
       "4       2  125510.82              1          1               1   \n",
       "\n",
       "   EstimatedSalary  Exited  \n",
       "0        101348.88       1  \n",
       "1        112542.58       0  \n",
       "2        113931.57       1  \n",
       "3         93826.63       0  \n",
       "4         79084.10       0  "
      ]
     },
     "execution_count": 2,
     "metadata": {},
     "output_type": "execute_result"
    }
   ],
   "source": [
    "df = pd.read_csv(\"Churn_Modelling.csv\")\n",
    "df.head()"
   ]
  },
  {
   "cell_type": "code",
   "execution_count": 3,
   "id": "4c1f7ea4-4c39-4117-9571-a2c1e016492f",
   "metadata": {},
   "outputs": [
    {
     "data": {
      "text/plain": [
       "Index(['RowNumber', 'CustomerId', 'Surname', 'CreditScore', 'Geography',\n",
       "       'Gender', 'Age', 'Tenure', 'Balance', 'NumOfProducts', 'HasCrCard',\n",
       "       'IsActiveMember', 'EstimatedSalary', 'Exited'],\n",
       "      dtype='object')"
      ]
     },
     "execution_count": 3,
     "metadata": {},
     "output_type": "execute_result"
    }
   ],
   "source": [
    "df.columns"
   ]
  },
  {
   "cell_type": "code",
   "execution_count": 4,
   "id": "1735c8bc-dd17-4e54-98f0-e23bd9c19134",
   "metadata": {},
   "outputs": [
    {
     "data": {
      "text/plain": [
       "(10000, 14)"
      ]
     },
     "execution_count": 4,
     "metadata": {},
     "output_type": "execute_result"
    }
   ],
   "source": [
    "df.shape"
   ]
  },
  {
   "cell_type": "code",
   "execution_count": 5,
   "id": "4cd10442-aef8-48ec-a1b7-3b926117317e",
   "metadata": {},
   "outputs": [
    {
     "data": {
      "text/plain": [
       "0"
      ]
     },
     "execution_count": 5,
     "metadata": {},
     "output_type": "execute_result"
    }
   ],
   "source": [
    "df.duplicated().sum()"
   ]
  },
  {
   "cell_type": "code",
   "execution_count": 6,
   "id": "c1c80848-540e-49cd-b0b2-55f25f8e82a2",
   "metadata": {},
   "outputs": [
    {
     "data": {
      "text/plain": [
       "RowNumber          0\n",
       "CustomerId         0\n",
       "Surname            0\n",
       "CreditScore        0\n",
       "Geography          0\n",
       "Gender             0\n",
       "Age                0\n",
       "Tenure             0\n",
       "Balance            0\n",
       "NumOfProducts      0\n",
       "HasCrCard          0\n",
       "IsActiveMember     0\n",
       "EstimatedSalary    0\n",
       "Exited             0\n",
       "dtype: int64"
      ]
     },
     "execution_count": 6,
     "metadata": {},
     "output_type": "execute_result"
    }
   ],
   "source": [
    "df.isnull().sum()"
   ]
  },
  {
   "cell_type": "markdown",
   "id": "652ead4d-2466-48cc-9532-e6df744a9655",
   "metadata": {},
   "source": [
    "<br>This basic EDA clearly shows that there is no duplicate entries or null entries in the dataset. <br>\n",
    "So good to go!"
   ]
  },
  {
   "cell_type": "markdown",
   "id": "d740ea9b-8599-4df9-b702-05861c3e50f2",
   "metadata": {
    "jp-MarkdownHeadingCollapsed": true
   },
   "source": [
    "## Attributes Analysis"
   ]
  },
  {
   "cell_type": "code",
   "execution_count": 7,
   "id": "78ec9f8d-e2d3-42d0-bb9e-d719f9fe2272",
   "metadata": {},
   "outputs": [
    {
     "data": {
      "text/plain": [
       "Index(['RowNumber', 'CustomerId', 'Surname', 'CreditScore', 'Geography',\n",
       "       'Gender', 'Age', 'Tenure', 'Balance', 'NumOfProducts', 'HasCrCard',\n",
       "       'IsActiveMember', 'EstimatedSalary', 'Exited'],\n",
       "      dtype='object')"
      ]
     },
     "execution_count": 7,
     "metadata": {},
     "output_type": "execute_result"
    }
   ],
   "source": [
    "df.columns"
   ]
  },
  {
   "cell_type": "code",
   "execution_count": 8,
   "id": "21094bc3-9512-43f9-a56a-03b27f1b74bf",
   "metadata": {},
   "outputs": [
    {
     "data": {
      "text/plain": [
       "0           1\n",
       "1           2\n",
       "2           3\n",
       "3           4\n",
       "4           5\n",
       "        ...  \n",
       "9995     9996\n",
       "9996     9997\n",
       "9997     9998\n",
       "9998     9999\n",
       "9999    10000\n",
       "Name: RowNumber, Length: 10000, dtype: int64"
      ]
     },
     "execution_count": 8,
     "metadata": {},
     "output_type": "execute_result"
    }
   ],
   "source": [
    "df[\"RowNumber\"] # to be removed"
   ]
  },
  {
   "cell_type": "code",
   "execution_count": 9,
   "id": "700a9a76-f10d-4b12-90a9-ddf32c6eccd4",
   "metadata": {},
   "outputs": [
    {
     "data": {
      "text/plain": [
       "True"
      ]
     },
     "execution_count": 9,
     "metadata": {},
     "output_type": "execute_result"
    }
   ],
   "source": [
    "len(df['CustomerId'].unique()) == len(df)  # unique for everyone - no insights can be obtained - to be removed"
   ]
  },
  {
   "cell_type": "code",
   "execution_count": 10,
   "id": "c69c00ac-8e91-4e9f-80fc-1f027d81d6f4",
   "metadata": {},
   "outputs": [
    {
     "data": {
      "text/plain": [
       "2932"
      ]
     },
     "execution_count": 10,
     "metadata": {},
     "output_type": "execute_result"
    }
   ],
   "source": [
    "len(df[\"Surname\"].unique())  # Name usually don't contribute to churn - but surname can also mean same family -> exit of one from family can lead to removal of others also"
   ]
  },
  {
   "cell_type": "code",
   "execution_count": 11,
   "id": "d891aa8c-8e75-430e-99eb-1aecb7b6abf4",
   "metadata": {},
   "outputs": [
    {
     "data": {
      "text/plain": [
       "460"
      ]
     },
     "execution_count": 11,
     "metadata": {},
     "output_type": "execute_result"
    }
   ],
   "source": [
    "len(df[\"CreditScore\"].unique()) # might contribute"
   ]
  },
  {
   "cell_type": "code",
   "execution_count": 12,
   "id": "9401825b-7a8f-41c6-bb90-6291fe461a7e",
   "metadata": {},
   "outputs": [
    {
     "data": {
      "text/plain": [
       "array(['France', 'Spain', 'Germany'], dtype=object)"
      ]
     },
     "execution_count": 12,
     "metadata": {},
     "output_type": "execute_result"
    }
   ],
   "source": [
    "df[\"Geography\"].unique()  # Contributing factor"
   ]
  },
  {
   "cell_type": "code",
   "execution_count": 13,
   "id": "8068973c-d281-4e30-ad00-141f78c33f0e",
   "metadata": {},
   "outputs": [
    {
     "data": {
      "text/plain": [
       "array(['Female', 'Male'], dtype=object)"
      ]
     },
     "execution_count": 13,
     "metadata": {},
     "output_type": "execute_result"
    }
   ],
   "source": [
    "df['Gender'].unique() # Contributing"
   ]
  },
  {
   "cell_type": "code",
   "execution_count": 14,
   "id": "9379e963-84f3-4114-8e4b-3f9db2321aa4",
   "metadata": {},
   "outputs": [
    {
     "data": {
      "text/plain": [
       "array([42, 41, 39, 43, 44, 50, 29, 27, 31, 24, 34, 25, 35, 45, 58, 32, 38,\n",
       "       46, 36, 33, 40, 51, 61, 49, 37, 19, 66, 56, 26, 21, 55, 75, 22, 30,\n",
       "       28, 65, 48, 52, 57, 73, 47, 54, 72, 20, 67, 79, 62, 53, 80, 59, 68,\n",
       "       23, 60, 70, 63, 64, 18, 82, 69, 74, 71, 76, 77, 88, 85, 84, 78, 81,\n",
       "       92, 83], dtype=int64)"
      ]
     },
     "execution_count": 14,
     "metadata": {},
     "output_type": "execute_result"
    }
   ],
   "source": [
    "df['Age'].unique() # contributing"
   ]
  },
  {
   "cell_type": "code",
   "execution_count": 15,
   "id": "8492e700-4703-42bb-9d86-1a3589e5b7e5",
   "metadata": {},
   "outputs": [
    {
     "data": {
      "text/plain": [
       "array([ 2,  1,  8,  7,  4,  6,  3, 10,  5,  9,  0], dtype=int64)"
      ]
     },
     "execution_count": 15,
     "metadata": {},
     "output_type": "execute_result"
    }
   ],
   "source": [
    "df['Tenure'].unique() # tenure is contributing factor"
   ]
  },
  {
   "cell_type": "code",
   "execution_count": 16,
   "id": "f22a4abc-f25f-4584-9a0a-0c40ee970e11",
   "metadata": {},
   "outputs": [
    {
     "data": {
      "text/plain": [
       "(0.0, 250898.09)"
      ]
     },
     "execution_count": 16,
     "metadata": {},
     "output_type": "execute_result"
    }
   ],
   "source": [
    "df['Balance'].min(), df['Balance'].max() # contributing"
   ]
  },
  {
   "cell_type": "code",
   "execution_count": 17,
   "id": "d9a6cb2e-8a7a-4019-bcf4-6b43a3fd7bf7",
   "metadata": {},
   "outputs": [
    {
     "data": {
      "text/plain": [
       "array([1, 3, 2, 4], dtype=int64)"
      ]
     },
     "execution_count": 17,
     "metadata": {},
     "output_type": "execute_result"
    }
   ],
   "source": [
    "df['NumOfProducts'].unique() # contributing"
   ]
  },
  {
   "cell_type": "code",
   "execution_count": 18,
   "id": "71c31985-ba43-4345-99f3-990f0cf5c728",
   "metadata": {},
   "outputs": [
    {
     "data": {
      "text/plain": [
       "array([1, 0], dtype=int64)"
      ]
     },
     "execution_count": 18,
     "metadata": {},
     "output_type": "execute_result"
    }
   ],
   "source": [
    "df['HasCrCard'].unique() # yes might contribute"
   ]
  },
  {
   "cell_type": "code",
   "execution_count": 19,
   "id": "e5c350ce-2ce9-40ce-b91b-a8b681dc82b4",
   "metadata": {},
   "outputs": [
    {
     "data": {
      "text/plain": [
       "array([1, 0], dtype=int64)"
      ]
     },
     "execution_count": 19,
     "metadata": {},
     "output_type": "execute_result"
    }
   ],
   "source": [
    "df['IsActiveMember'].unique() # contributing"
   ]
  },
  {
   "cell_type": "code",
   "execution_count": 20,
   "id": "5185b8e9-8e29-4986-9ba1-304326f4b18b",
   "metadata": {},
   "outputs": [
    {
     "data": {
      "text/plain": [
       "array([101348.88, 112542.58, 113931.57, ...,  42085.58,  92888.52,\n",
       "        38190.78])"
      ]
     },
     "execution_count": 20,
     "metadata": {},
     "output_type": "execute_result"
    }
   ],
   "source": [
    "df['EstimatedSalary'].unique() # might contribute"
   ]
  },
  {
   "cell_type": "code",
   "execution_count": 21,
   "id": "238c1966-53db-4401-a325-56a3a883a734",
   "metadata": {},
   "outputs": [
    {
     "data": {
      "text/plain": [
       "array([1, 0], dtype=int64)"
      ]
     },
     "execution_count": 21,
     "metadata": {},
     "output_type": "execute_result"
    }
   ],
   "source": [
    "df['Exited'].unique() # target variable -  1 means exit; 0 means retain"
   ]
  },
  {
   "cell_type": "code",
   "execution_count": 22,
   "id": "c3ba5ed7-b231-4872-9ca0-59a71fcee714",
   "metadata": {},
   "outputs": [],
   "source": [
    "# Dropping RowNumber, CustomerId\n",
    "df.drop(['RowNumber', 'CustomerId'], axis=1, inplace=True)"
   ]
  },
  {
   "cell_type": "code",
   "execution_count": 23,
   "id": "455c2de0-e7d7-4bc9-be0a-2ebcf6a218cb",
   "metadata": {},
   "outputs": [
    {
     "data": {
      "text/html": [
       "<div>\n",
       "<style scoped>\n",
       "    .dataframe tbody tr th:only-of-type {\n",
       "        vertical-align: middle;\n",
       "    }\n",
       "\n",
       "    .dataframe tbody tr th {\n",
       "        vertical-align: top;\n",
       "    }\n",
       "\n",
       "    .dataframe thead th {\n",
       "        text-align: right;\n",
       "    }\n",
       "</style>\n",
       "<table border=\"1\" class=\"dataframe\">\n",
       "  <thead>\n",
       "    <tr style=\"text-align: right;\">\n",
       "      <th></th>\n",
       "      <th>Surname</th>\n",
       "      <th>CreditScore</th>\n",
       "      <th>Geography</th>\n",
       "      <th>Gender</th>\n",
       "      <th>Age</th>\n",
       "      <th>Tenure</th>\n",
       "      <th>Balance</th>\n",
       "      <th>NumOfProducts</th>\n",
       "      <th>HasCrCard</th>\n",
       "      <th>IsActiveMember</th>\n",
       "      <th>EstimatedSalary</th>\n",
       "      <th>Exited</th>\n",
       "    </tr>\n",
       "  </thead>\n",
       "  <tbody>\n",
       "    <tr>\n",
       "      <th>0</th>\n",
       "      <td>Hargrave</td>\n",
       "      <td>619</td>\n",
       "      <td>France</td>\n",
       "      <td>Female</td>\n",
       "      <td>42</td>\n",
       "      <td>2</td>\n",
       "      <td>0.00</td>\n",
       "      <td>1</td>\n",
       "      <td>1</td>\n",
       "      <td>1</td>\n",
       "      <td>101348.88</td>\n",
       "      <td>1</td>\n",
       "    </tr>\n",
       "    <tr>\n",
       "      <th>1</th>\n",
       "      <td>Hill</td>\n",
       "      <td>608</td>\n",
       "      <td>Spain</td>\n",
       "      <td>Female</td>\n",
       "      <td>41</td>\n",
       "      <td>1</td>\n",
       "      <td>83807.86</td>\n",
       "      <td>1</td>\n",
       "      <td>0</td>\n",
       "      <td>1</td>\n",
       "      <td>112542.58</td>\n",
       "      <td>0</td>\n",
       "    </tr>\n",
       "    <tr>\n",
       "      <th>2</th>\n",
       "      <td>Onio</td>\n",
       "      <td>502</td>\n",
       "      <td>France</td>\n",
       "      <td>Female</td>\n",
       "      <td>42</td>\n",
       "      <td>8</td>\n",
       "      <td>159660.80</td>\n",
       "      <td>3</td>\n",
       "      <td>1</td>\n",
       "      <td>0</td>\n",
       "      <td>113931.57</td>\n",
       "      <td>1</td>\n",
       "    </tr>\n",
       "    <tr>\n",
       "      <th>3</th>\n",
       "      <td>Boni</td>\n",
       "      <td>699</td>\n",
       "      <td>France</td>\n",
       "      <td>Female</td>\n",
       "      <td>39</td>\n",
       "      <td>1</td>\n",
       "      <td>0.00</td>\n",
       "      <td>2</td>\n",
       "      <td>0</td>\n",
       "      <td>0</td>\n",
       "      <td>93826.63</td>\n",
       "      <td>0</td>\n",
       "    </tr>\n",
       "    <tr>\n",
       "      <th>4</th>\n",
       "      <td>Mitchell</td>\n",
       "      <td>850</td>\n",
       "      <td>Spain</td>\n",
       "      <td>Female</td>\n",
       "      <td>43</td>\n",
       "      <td>2</td>\n",
       "      <td>125510.82</td>\n",
       "      <td>1</td>\n",
       "      <td>1</td>\n",
       "      <td>1</td>\n",
       "      <td>79084.10</td>\n",
       "      <td>0</td>\n",
       "    </tr>\n",
       "  </tbody>\n",
       "</table>\n",
       "</div>"
      ],
      "text/plain": [
       "    Surname  CreditScore Geography  Gender  Age  Tenure    Balance  \\\n",
       "0  Hargrave          619    France  Female   42       2       0.00   \n",
       "1      Hill          608     Spain  Female   41       1   83807.86   \n",
       "2      Onio          502    France  Female   42       8  159660.80   \n",
       "3      Boni          699    France  Female   39       1       0.00   \n",
       "4  Mitchell          850     Spain  Female   43       2  125510.82   \n",
       "\n",
       "   NumOfProducts  HasCrCard  IsActiveMember  EstimatedSalary  Exited  \n",
       "0              1          1               1        101348.88       1  \n",
       "1              1          0               1        112542.58       0  \n",
       "2              3          1               0        113931.57       1  \n",
       "3              2          0               0         93826.63       0  \n",
       "4              1          1               1         79084.10       0  "
      ]
     },
     "execution_count": 23,
     "metadata": {},
     "output_type": "execute_result"
    }
   ],
   "source": [
    "df.head()"
   ]
  },
  {
   "cell_type": "code",
   "execution_count": 24,
   "id": "df001342-02ae-4bb2-be08-43571dfaf9b1",
   "metadata": {},
   "outputs": [
    {
     "data": {
      "text/html": [
       "<div>\n",
       "<style scoped>\n",
       "    .dataframe tbody tr th:only-of-type {\n",
       "        vertical-align: middle;\n",
       "    }\n",
       "\n",
       "    .dataframe tbody tr th {\n",
       "        vertical-align: top;\n",
       "    }\n",
       "\n",
       "    .dataframe thead th {\n",
       "        text-align: right;\n",
       "    }\n",
       "</style>\n",
       "<table border=\"1\" class=\"dataframe\">\n",
       "  <thead>\n",
       "    <tr style=\"text-align: right;\">\n",
       "      <th></th>\n",
       "      <th>Surname</th>\n",
       "      <th>CreditScore</th>\n",
       "      <th>Geography</th>\n",
       "      <th>Gender</th>\n",
       "      <th>Age</th>\n",
       "      <th>Tenure</th>\n",
       "      <th>Balance</th>\n",
       "      <th>NumOfProducts</th>\n",
       "      <th>HasCrCard</th>\n",
       "      <th>IsActiveMember</th>\n",
       "      <th>EstimatedSalary</th>\n",
       "      <th>Exited</th>\n",
       "    </tr>\n",
       "  </thead>\n",
       "  <tbody>\n",
       "    <tr>\n",
       "      <th>0</th>\n",
       "      <td>1115</td>\n",
       "      <td>619</td>\n",
       "      <td>0</td>\n",
       "      <td>0</td>\n",
       "      <td>42</td>\n",
       "      <td>2</td>\n",
       "      <td>0.00</td>\n",
       "      <td>1</td>\n",
       "      <td>1</td>\n",
       "      <td>1</td>\n",
       "      <td>101348.88</td>\n",
       "      <td>1</td>\n",
       "    </tr>\n",
       "    <tr>\n",
       "      <th>1</th>\n",
       "      <td>1177</td>\n",
       "      <td>608</td>\n",
       "      <td>2</td>\n",
       "      <td>0</td>\n",
       "      <td>41</td>\n",
       "      <td>1</td>\n",
       "      <td>83807.86</td>\n",
       "      <td>1</td>\n",
       "      <td>0</td>\n",
       "      <td>1</td>\n",
       "      <td>112542.58</td>\n",
       "      <td>0</td>\n",
       "    </tr>\n",
       "    <tr>\n",
       "      <th>2</th>\n",
       "      <td>2040</td>\n",
       "      <td>502</td>\n",
       "      <td>0</td>\n",
       "      <td>0</td>\n",
       "      <td>42</td>\n",
       "      <td>8</td>\n",
       "      <td>159660.80</td>\n",
       "      <td>3</td>\n",
       "      <td>1</td>\n",
       "      <td>0</td>\n",
       "      <td>113931.57</td>\n",
       "      <td>1</td>\n",
       "    </tr>\n",
       "    <tr>\n",
       "      <th>3</th>\n",
       "      <td>289</td>\n",
       "      <td>699</td>\n",
       "      <td>0</td>\n",
       "      <td>0</td>\n",
       "      <td>39</td>\n",
       "      <td>1</td>\n",
       "      <td>0.00</td>\n",
       "      <td>2</td>\n",
       "      <td>0</td>\n",
       "      <td>0</td>\n",
       "      <td>93826.63</td>\n",
       "      <td>0</td>\n",
       "    </tr>\n",
       "    <tr>\n",
       "      <th>4</th>\n",
       "      <td>1822</td>\n",
       "      <td>850</td>\n",
       "      <td>2</td>\n",
       "      <td>0</td>\n",
       "      <td>43</td>\n",
       "      <td>2</td>\n",
       "      <td>125510.82</td>\n",
       "      <td>1</td>\n",
       "      <td>1</td>\n",
       "      <td>1</td>\n",
       "      <td>79084.10</td>\n",
       "      <td>0</td>\n",
       "    </tr>\n",
       "  </tbody>\n",
       "</table>\n",
       "</div>"
      ],
      "text/plain": [
       "   Surname  CreditScore  Geography  Gender  Age  Tenure    Balance  \\\n",
       "0     1115          619          0       0   42       2       0.00   \n",
       "1     1177          608          2       0   41       1   83807.86   \n",
       "2     2040          502          0       0   42       8  159660.80   \n",
       "3      289          699          0       0   39       1       0.00   \n",
       "4     1822          850          2       0   43       2  125510.82   \n",
       "\n",
       "   NumOfProducts  HasCrCard  IsActiveMember  EstimatedSalary  Exited  \n",
       "0              1          1               1        101348.88       1  \n",
       "1              1          0               1        112542.58       0  \n",
       "2              3          1               0        113931.57       1  \n",
       "3              2          0               0         93826.63       0  \n",
       "4              1          1               1         79084.10       0  "
      ]
     },
     "execution_count": 24,
     "metadata": {},
     "output_type": "execute_result"
    }
   ],
   "source": [
    "# Label Encoding the categorical variables\n",
    "attr = ['Surname', 'Geography', 'Gender']\n",
    "for col in attr:\n",
    "    encoder = LabelEncoder()\n",
    "    df[col] = encoder.fit_transform(df[col])\n",
    "df.head()"
   ]
  },
  {
   "cell_type": "markdown",
   "id": "b2a7f9f6-848b-419a-8e12-652159c2e226",
   "metadata": {},
   "source": [
    "## Train Test Split"
   ]
  },
  {
   "cell_type": "code",
   "execution_count": 29,
   "id": "f90a7dd1-3ddb-4451-8eef-4abde14d7d10",
   "metadata": {},
   "outputs": [],
   "source": [
    "X = df.drop('Exited', axis=1)\n",
    "y = df['Exited']"
   ]
  },
  {
   "cell_type": "code",
   "execution_count": 32,
   "id": "280e9517-889e-413b-8611-e18dbdfdab60",
   "metadata": {},
   "outputs": [],
   "source": [
    "X_train, X_test, y_train, y_test = train_test_split(X, y, test_size=0.2, random_state=42)"
   ]
  },
  {
   "cell_type": "markdown",
   "id": "0f16e360-db3b-4964-9ae7-6af449c11bb5",
   "metadata": {},
   "source": [
    "## Logistic Regression"
   ]
  },
  {
   "cell_type": "code",
   "execution_count": 33,
   "id": "20d8c9dc-c54e-485c-8661-8c15c07ef607",
   "metadata": {},
   "outputs": [
    {
     "name": "stderr",
     "output_type": "stream",
     "text": [
      "C:\\Users\\User\\AppData\\Local\\Programs\\Python\\Python311\\Lib\\site-packages\\sklearn\\linear_model\\_logistic.py:469: ConvergenceWarning: lbfgs failed to converge (status=1):\n",
      "STOP: TOTAL NO. of ITERATIONS REACHED LIMIT.\n",
      "\n",
      "Increase the number of iterations (max_iter) or scale the data as shown in:\n",
      "    https://scikit-learn.org/stable/modules/preprocessing.html\n",
      "Please also refer to the documentation for alternative solver options:\n",
      "    https://scikit-learn.org/stable/modules/linear_model.html#logistic-regression\n",
      "  n_iter_i = _check_optimize_result(\n"
     ]
    },
    {
     "data": {
      "text/plain": [
       "0.7995"
      ]
     },
     "execution_count": 33,
     "metadata": {},
     "output_type": "execute_result"
    }
   ],
   "source": [
    "lr = LogisticRegression()\n",
    "lr.fit(X_train, y_train)\n",
    "y_pred = lr.predict(X_test)\n",
    "accuracy_score(y_test, y_pred)"
   ]
  },
  {
   "cell_type": "code",
   "execution_count": 35,
   "id": "feff7cf4-4e63-4874-9f6c-0e9cf27f9203",
   "metadata": {},
   "outputs": [
    {
     "name": "stderr",
     "output_type": "stream",
     "text": [
      "C:\\Users\\User\\AppData\\Local\\Programs\\Python\\Python311\\Lib\\site-packages\\sklearn\\linear_model\\_logistic.py:469: ConvergenceWarning: lbfgs failed to converge (status=1):\n",
      "STOP: TOTAL NO. of ITERATIONS REACHED LIMIT.\n",
      "\n",
      "Increase the number of iterations (max_iter) or scale the data as shown in:\n",
      "    https://scikit-learn.org/stable/modules/preprocessing.html\n",
      "Please also refer to the documentation for alternative solver options:\n",
      "    https://scikit-learn.org/stable/modules/linear_model.html#logistic-regression\n",
      "  n_iter_i = _check_optimize_result(\n",
      "C:\\Users\\User\\AppData\\Local\\Programs\\Python\\Python311\\Lib\\site-packages\\sklearn\\linear_model\\_logistic.py:469: ConvergenceWarning: lbfgs failed to converge (status=1):\n",
      "STOP: TOTAL NO. of ITERATIONS REACHED LIMIT.\n",
      "\n",
      "Increase the number of iterations (max_iter) or scale the data as shown in:\n",
      "    https://scikit-learn.org/stable/modules/preprocessing.html\n",
      "Please also refer to the documentation for alternative solver options:\n",
      "    https://scikit-learn.org/stable/modules/linear_model.html#logistic-regression\n",
      "  n_iter_i = _check_optimize_result(\n",
      "C:\\Users\\User\\AppData\\Local\\Programs\\Python\\Python311\\Lib\\site-packages\\sklearn\\linear_model\\_logistic.py:469: ConvergenceWarning: lbfgs failed to converge (status=1):\n",
      "STOP: TOTAL NO. of ITERATIONS REACHED LIMIT.\n",
      "\n",
      "Increase the number of iterations (max_iter) or scale the data as shown in:\n",
      "    https://scikit-learn.org/stable/modules/preprocessing.html\n",
      "Please also refer to the documentation for alternative solver options:\n",
      "    https://scikit-learn.org/stable/modules/linear_model.html#logistic-regression\n",
      "  n_iter_i = _check_optimize_result(\n",
      "C:\\Users\\User\\AppData\\Local\\Programs\\Python\\Python311\\Lib\\site-packages\\sklearn\\linear_model\\_logistic.py:469: ConvergenceWarning: lbfgs failed to converge (status=1):\n",
      "STOP: TOTAL NO. of ITERATIONS REACHED LIMIT.\n",
      "\n",
      "Increase the number of iterations (max_iter) or scale the data as shown in:\n",
      "    https://scikit-learn.org/stable/modules/preprocessing.html\n",
      "Please also refer to the documentation for alternative solver options:\n",
      "    https://scikit-learn.org/stable/modules/linear_model.html#logistic-regression\n",
      "  n_iter_i = _check_optimize_result(\n",
      "C:\\Users\\User\\AppData\\Local\\Programs\\Python\\Python311\\Lib\\site-packages\\sklearn\\linear_model\\_logistic.py:469: ConvergenceWarning: lbfgs failed to converge (status=1):\n",
      "STOP: TOTAL NO. of ITERATIONS REACHED LIMIT.\n",
      "\n",
      "Increase the number of iterations (max_iter) or scale the data as shown in:\n",
      "    https://scikit-learn.org/stable/modules/preprocessing.html\n",
      "Please also refer to the documentation for alternative solver options:\n",
      "    https://scikit-learn.org/stable/modules/linear_model.html#logistic-regression\n",
      "  n_iter_i = _check_optimize_result(\n"
     ]
    },
    {
     "data": {
      "text/plain": [
       "array([0.7995, 0.787 , 0.7805, 0.7955, 0.792 ])"
      ]
     },
     "execution_count": 35,
     "metadata": {},
     "output_type": "execute_result"
    }
   ],
   "source": [
    "kfold_lr = LogisticRegression()\n",
    "kfold = KFold(n_splits=5, shuffle=True, random_state=42)\n",
    "cv_scores = cross_val_score(kfold_lr, X, y, cv=kfold)\n",
    "cv_scores"
   ]
  },
  {
   "cell_type": "code",
   "execution_count": 36,
   "id": "2251570f-1001-4345-a543-ae35c89db181",
   "metadata": {},
   "outputs": [
    {
     "data": {
      "text/plain": [
       "0.7909"
      ]
     },
     "execution_count": 36,
     "metadata": {},
     "output_type": "execute_result"
    }
   ],
   "source": [
    "# KFold validation for Logistic Regression\n",
    "cv_scores.mean()"
   ]
  },
  {
   "cell_type": "markdown",
   "id": "f6036ad2-b20c-4776-993d-f6ef79f8c67b",
   "metadata": {},
   "source": [
    "## Decision Tree"
   ]
  },
  {
   "cell_type": "code",
   "execution_count": 38,
   "id": "a8f2c698-8249-41e8-a7d5-580275f60df3",
   "metadata": {},
   "outputs": [
    {
     "data": {
      "text/plain": [
       "0.7855"
      ]
     },
     "execution_count": 38,
     "metadata": {},
     "output_type": "execute_result"
    }
   ],
   "source": [
    "dt = DecisionTreeClassifier()\n",
    "dt.fit(X_train, y_train)\n",
    "y_pred = dt.predict(X_test)\n",
    "accuracy_score(y_test, y_pred)"
   ]
  },
  {
   "cell_type": "markdown",
   "id": "a217952b-74fd-4d13-b86c-0076f84352c9",
   "metadata": {},
   "source": [
    "## Random Forest"
   ]
  },
  {
   "cell_type": "code",
   "execution_count": 40,
   "id": "4b93295f-bf2a-4c84-9c33-7a9dbe245b54",
   "metadata": {},
   "outputs": [
    {
     "data": {
      "text/plain": [
       "0.8645"
      ]
     },
     "execution_count": 40,
     "metadata": {},
     "output_type": "execute_result"
    }
   ],
   "source": [
    "rf = RandomForestClassifier()\n",
    "rf.fit(X_train, y_train)\n",
    "y_pred = rf.predict(X_test)\n",
    "accuracy_score(y_test, y_pred)"
   ]
  },
  {
   "cell_type": "markdown",
   "id": "574113d8-e0e0-4782-8022-76f6d03dc3f1",
   "metadata": {},
   "source": [
    "## GradBoost"
   ]
  },
  {
   "cell_type": "code",
   "execution_count": 43,
   "id": "0287230f-7b14-412a-9fda-e479d1700831",
   "metadata": {},
   "outputs": [
    {
     "data": {
      "text/plain": [
       "0.8645"
      ]
     },
     "execution_count": 43,
     "metadata": {},
     "output_type": "execute_result"
    }
   ],
   "source": [
    "gb = GradientBoostingClassifier()\n",
    "gb.fit(X_train, y_train)\n",
    "y_pred = gb.predict(X_test)\n",
    "accuracy_score(y_test, y_pred)"
   ]
  },
  {
   "cell_type": "markdown",
   "id": "3c4b49d0-69ce-44eb-93a7-9d14d78e6204",
   "metadata": {},
   "source": [
    "## SVM"
   ]
  },
  {
   "cell_type": "code",
   "execution_count": 45,
   "id": "98fff111-81f5-4036-b41e-1601038e2da3",
   "metadata": {},
   "outputs": [
    {
     "data": {
      "text/plain": [
       "0.8035"
      ]
     },
     "execution_count": 45,
     "metadata": {},
     "output_type": "execute_result"
    }
   ],
   "source": [
    "svm = SVC()\n",
    "svm.fit(X_train, y_train)\n",
    "y_pred = svm.predict(X_test)\n",
    "accuracy_score(y_test, y_pred)"
   ]
  },
  {
   "cell_type": "markdown",
   "id": "10833e11-dcc4-4043-aada-3f7d0afe3f81",
   "metadata": {},
   "source": [
    "## KNN"
   ]
  },
  {
   "cell_type": "code",
   "execution_count": 47,
   "id": "8d6452fb-8202-45dd-9c92-a6c9da91b06b",
   "metadata": {},
   "outputs": [
    {
     "data": {
      "text/plain": [
       "0.7645"
      ]
     },
     "execution_count": 47,
     "metadata": {},
     "output_type": "execute_result"
    }
   ],
   "source": [
    "knn = KNeighborsClassifier()\n",
    "knn.fit(X_train, y_train)\n",
    "y_pred = knn.predict(X_test)\n",
    "accuracy_score(y_pred, y_test)"
   ]
  },
  {
   "cell_type": "markdown",
   "id": "10a61f50-0580-4fd7-9aca-8f39f40252ee",
   "metadata": {},
   "source": [
    "## Neural Network"
   ]
  },
  {
   "cell_type": "code",
   "execution_count": 82,
   "id": "26e972c0-a02c-4a63-92e8-7bdc5c23bc98",
   "metadata": {},
   "outputs": [
    {
     "name": "stdout",
     "output_type": "stream",
     "text": [
      "Epoch 1/100\n",
      "250/250 [==============================] - 4s 4ms/step - loss: 108.5715 - accuracy: 0.6675\n",
      "Epoch 2/100\n",
      "250/250 [==============================] - 1s 4ms/step - loss: 32.3481 - accuracy: 0.6869\n",
      "Epoch 3/100\n",
      "250/250 [==============================] - 1s 4ms/step - loss: 18.3378 - accuracy: 0.6762\n",
      "Epoch 4/100\n",
      "250/250 [==============================] - 1s 4ms/step - loss: 12.3200 - accuracy: 0.6779\n",
      "Epoch 5/100\n",
      "250/250 [==============================] - 1s 4ms/step - loss: 4.5110 - accuracy: 0.6860\n",
      "Epoch 6/100\n",
      "250/250 [==============================] - 1s 4ms/step - loss: 1.5957 - accuracy: 0.6988\n",
      "Epoch 7/100\n",
      "250/250 [==============================] - 1s 4ms/step - loss: 1.4275 - accuracy: 0.7034\n",
      "Epoch 8/100\n",
      "250/250 [==============================] - 1s 4ms/step - loss: 1.4652 - accuracy: 0.6949\n",
      "Epoch 9/100\n",
      "250/250 [==============================] - 1s 4ms/step - loss: 1.2924 - accuracy: 0.7057\n",
      "Epoch 10/100\n",
      "250/250 [==============================] - 1s 5ms/step - loss: 0.9378 - accuracy: 0.7228\n",
      "Epoch 11/100\n",
      "250/250 [==============================] - 2s 9ms/step - loss: 13.7488 - accuracy: 0.6805\n",
      "Epoch 12/100\n",
      "250/250 [==============================] - 2s 8ms/step - loss: 1.7434 - accuracy: 0.6948\n",
      "Epoch 13/100\n",
      "250/250 [==============================] - 2s 8ms/step - loss: 1.0166 - accuracy: 0.7069\n",
      "Epoch 14/100\n",
      "250/250 [==============================] - 2s 8ms/step - loss: 0.8259 - accuracy: 0.7109\n",
      "Epoch 15/100\n",
      "250/250 [==============================] - 2s 8ms/step - loss: 0.7897 - accuracy: 0.7303\n",
      "Epoch 16/100\n",
      "250/250 [==============================] - 2s 8ms/step - loss: 0.8745 - accuracy: 0.7251\n",
      "Epoch 17/100\n",
      "250/250 [==============================] - 2s 8ms/step - loss: 0.6130 - accuracy: 0.7561\n",
      "Epoch 18/100\n",
      "250/250 [==============================] - 2s 9ms/step - loss: 0.5857 - accuracy: 0.7688\n",
      "Epoch 19/100\n",
      "250/250 [==============================] - 2s 8ms/step - loss: 1.3007 - accuracy: 0.7290\n",
      "Epoch 20/100\n",
      "250/250 [==============================] - 2s 8ms/step - loss: 0.7117 - accuracy: 0.7439\n",
      "Epoch 21/100\n",
      "250/250 [==============================] - 2s 8ms/step - loss: 0.5795 - accuracy: 0.7745\n",
      "Epoch 22/100\n",
      "250/250 [==============================] - 2s 8ms/step - loss: 0.9513 - accuracy: 0.7279\n",
      "Epoch 23/100\n",
      "250/250 [==============================] - 2s 7ms/step - loss: 0.9119 - accuracy: 0.7621\n",
      "Epoch 24/100\n",
      "250/250 [==============================] - 1s 5ms/step - loss: 4.6622 - accuracy: 0.7057\n",
      "Epoch 25/100\n",
      "250/250 [==============================] - 1s 5ms/step - loss: 0.5864 - accuracy: 0.7696\n",
      "Epoch 26/100\n",
      "250/250 [==============================] - 1s 5ms/step - loss: 0.5630 - accuracy: 0.7803\n",
      "Epoch 27/100\n",
      "250/250 [==============================] - 1s 5ms/step - loss: 0.5376 - accuracy: 0.7904\n",
      "Epoch 28/100\n",
      "250/250 [==============================] - 1s 5ms/step - loss: 0.5565 - accuracy: 0.7807\n",
      "Epoch 29/100\n",
      "250/250 [==============================] - 1s 5ms/step - loss: 0.5559 - accuracy: 0.7797\n",
      "Epoch 30/100\n",
      "250/250 [==============================] - 1s 5ms/step - loss: 0.5683 - accuracy: 0.7703\n",
      "Epoch 31/100\n",
      "250/250 [==============================] - 1s 5ms/step - loss: 0.5370 - accuracy: 0.7901\n",
      "Epoch 32/100\n",
      "250/250 [==============================] - 1s 5ms/step - loss: 0.5237 - accuracy: 0.7946\n",
      "Epoch 33/100\n",
      "250/250 [==============================] - 1s 5ms/step - loss: 0.7380 - accuracy: 0.7567\n",
      "Epoch 34/100\n",
      "250/250 [==============================] - 1s 6ms/step - loss: 0.5381 - accuracy: 0.7841\n",
      "Epoch 35/100\n",
      "250/250 [==============================] - 2s 7ms/step - loss: 0.5085 - accuracy: 0.7945\n",
      "Epoch 36/100\n",
      "250/250 [==============================] - 2s 7ms/step - loss: 0.5076 - accuracy: 0.7945\n",
      "Epoch 37/100\n",
      "250/250 [==============================] - 2s 7ms/step - loss: 0.5080 - accuracy: 0.7945\n",
      "Epoch 38/100\n",
      "250/250 [==============================] - 2s 7ms/step - loss: 0.5087 - accuracy: 0.7945\n",
      "Epoch 39/100\n",
      "250/250 [==============================] - 2s 7ms/step - loss: 0.5103 - accuracy: 0.7945\n",
      "Epoch 40/100\n",
      "250/250 [==============================] - 2s 7ms/step - loss: 0.5086 - accuracy: 0.7945\n",
      "Epoch 41/100\n",
      "250/250 [==============================] - 2s 7ms/step - loss: 0.5075 - accuracy: 0.7945\n",
      "Epoch 42/100\n",
      "250/250 [==============================] - 2s 7ms/step - loss: 0.5071 - accuracy: 0.7945\n",
      "Epoch 43/100\n",
      "250/250 [==============================] - 2s 7ms/step - loss: 0.5142 - accuracy: 0.7944\n",
      "Epoch 44/100\n",
      "250/250 [==============================] - 2s 7ms/step - loss: 0.5076 - accuracy: 0.7945\n",
      "Epoch 45/100\n",
      "250/250 [==============================] - 2s 7ms/step - loss: 0.5075 - accuracy: 0.7945\n",
      "Epoch 46/100\n",
      "250/250 [==============================] - 2s 7ms/step - loss: 0.5074 - accuracy: 0.7945\n",
      "Epoch 47/100\n",
      "250/250 [==============================] - 2s 7ms/step - loss: 0.5074 - accuracy: 0.7945\n",
      "Epoch 48/100\n",
      "250/250 [==============================] - 2s 7ms/step - loss: 0.5076 - accuracy: 0.7945\n",
      "Epoch 49/100\n",
      "250/250 [==============================] - 2s 7ms/step - loss: 0.5076 - accuracy: 0.7945\n",
      "Epoch 50/100\n",
      "250/250 [==============================] - 2s 7ms/step - loss: 0.5076 - accuracy: 0.7945\n",
      "Epoch 51/100\n",
      "250/250 [==============================] - 1s 6ms/step - loss: 0.5073 - accuracy: 0.7945\n",
      "Epoch 52/100\n",
      "250/250 [==============================] - 2s 8ms/step - loss: 0.5077 - accuracy: 0.7945\n",
      "Epoch 53/100\n",
      "250/250 [==============================] - 2s 9ms/step - loss: 0.5078 - accuracy: 0.7945\n",
      "Epoch 54/100\n",
      "250/250 [==============================] - 2s 9ms/step - loss: 0.5077 - accuracy: 0.7945\n",
      "Epoch 55/100\n",
      "250/250 [==============================] - 2s 8ms/step - loss: 0.5075 - accuracy: 0.7945\n",
      "Epoch 56/100\n",
      "250/250 [==============================] - 2s 7ms/step - loss: 0.5078 - accuracy: 0.7945\n",
      "Epoch 57/100\n",
      "250/250 [==============================] - 2s 7ms/step - loss: 0.7487 - accuracy: 0.7919\n",
      "Epoch 58/100\n",
      "250/250 [==============================] - 2s 7ms/step - loss: 0.5082 - accuracy: 0.7945\n",
      "Epoch 59/100\n",
      "250/250 [==============================] - 2s 7ms/step - loss: 0.5081 - accuracy: 0.7945\n",
      "Epoch 60/100\n",
      "250/250 [==============================] - 2s 7ms/step - loss: 0.5082 - accuracy: 0.7945\n",
      "Epoch 61/100\n",
      "250/250 [==============================] - 2s 8ms/step - loss: 0.5080 - accuracy: 0.7945\n",
      "Epoch 62/100\n",
      "250/250 [==============================] - 1s 5ms/step - loss: 0.5081 - accuracy: 0.7945\n",
      "Epoch 63/100\n",
      "250/250 [==============================] - 2s 8ms/step - loss: 0.5081 - accuracy: 0.7945\n",
      "Epoch 64/100\n",
      "250/250 [==============================] - 2s 8ms/step - loss: 0.5081 - accuracy: 0.7945\n",
      "Epoch 65/100\n",
      "250/250 [==============================] - 2s 8ms/step - loss: 0.5081 - accuracy: 0.7945\n",
      "Epoch 66/100\n",
      "250/250 [==============================] - 2s 8ms/step - loss: 0.5081 - accuracy: 0.7945\n",
      "Epoch 67/100\n",
      "250/250 [==============================] - 2s 8ms/step - loss: 0.5080 - accuracy: 0.7945\n",
      "Epoch 68/100\n",
      "250/250 [==============================] - 2s 7ms/step - loss: 0.5081 - accuracy: 0.7945\n",
      "Epoch 69/100\n",
      "250/250 [==============================] - 2s 7ms/step - loss: 0.5080 - accuracy: 0.7945\n",
      "Epoch 70/100\n",
      "250/250 [==============================] - 1s 6ms/step - loss: 0.5080 - accuracy: 0.7945\n",
      "Epoch 71/100\n",
      "250/250 [==============================] - 2s 7ms/step - loss: 0.5081 - accuracy: 0.7945\n",
      "Epoch 72/100\n",
      "250/250 [==============================] - 1s 5ms/step - loss: 0.5079 - accuracy: 0.7945\n",
      "Epoch 73/100\n",
      "250/250 [==============================] - 2s 7ms/step - loss: 0.5281 - accuracy: 0.7926\n",
      "Epoch 74/100\n",
      "250/250 [==============================] - 2s 6ms/step - loss: 0.5080 - accuracy: 0.7945\n",
      "Epoch 75/100\n",
      "250/250 [==============================] - 2s 6ms/step - loss: 0.5081 - accuracy: 0.7945\n",
      "Epoch 76/100\n",
      "250/250 [==============================] - 2s 8ms/step - loss: 0.5080 - accuracy: 0.7945\n",
      "Epoch 77/100\n",
      "250/250 [==============================] - 2s 8ms/step - loss: 0.5080 - accuracy: 0.7945\n",
      "Epoch 78/100\n",
      "250/250 [==============================] - 2s 8ms/step - loss: 0.5080 - accuracy: 0.7945\n",
      "Epoch 79/100\n",
      "250/250 [==============================] - 2s 6ms/step - loss: 0.5081 - accuracy: 0.7945\n",
      "Epoch 80/100\n",
      "250/250 [==============================] - 2s 9ms/step - loss: 0.5081 - accuracy: 0.7945\n",
      "Epoch 81/100\n",
      "250/250 [==============================] - 2s 7ms/step - loss: 0.5081 - accuracy: 0.7945\n",
      "Epoch 82/100\n",
      "250/250 [==============================] - 2s 6ms/step - loss: 0.5081 - accuracy: 0.7945\n",
      "Epoch 83/100\n",
      "250/250 [==============================] - 2s 8ms/step - loss: 0.5081 - accuracy: 0.7945\n",
      "Epoch 84/100\n",
      "250/250 [==============================] - 1s 6ms/step - loss: 0.5081 - accuracy: 0.7945\n",
      "Epoch 85/100\n",
      "250/250 [==============================] - 1s 6ms/step - loss: 0.5081 - accuracy: 0.7945\n",
      "Epoch 86/100\n",
      "250/250 [==============================] - 2s 6ms/step - loss: 0.5081 - accuracy: 0.7945\n",
      "Epoch 87/100\n",
      "250/250 [==============================] - 2s 6ms/step - loss: 0.5082 - accuracy: 0.7945\n",
      "Epoch 88/100\n",
      "250/250 [==============================] - 1s 4ms/step - loss: 0.5082 - accuracy: 0.7945\n",
      "Epoch 89/100\n",
      "250/250 [==============================] - 2s 7ms/step - loss: 0.5080 - accuracy: 0.7945\n",
      "Epoch 90/100\n",
      "250/250 [==============================] - 2s 6ms/step - loss: 0.5081 - accuracy: 0.7945\n",
      "Epoch 91/100\n",
      "250/250 [==============================] - 2s 9ms/step - loss: 0.5081 - accuracy: 0.7945\n",
      "Epoch 92/100\n",
      "250/250 [==============================] - 2s 8ms/step - loss: 0.5081 - accuracy: 0.7945\n",
      "Epoch 93/100\n",
      "250/250 [==============================] - 2s 8ms/step - loss: 0.5080 - accuracy: 0.7945\n",
      "Epoch 94/100\n",
      "250/250 [==============================] - 2s 8ms/step - loss: 0.5083 - accuracy: 0.7945\n",
      "Epoch 95/100\n",
      "250/250 [==============================] - 2s 8ms/step - loss: 0.5080 - accuracy: 0.7945\n",
      "Epoch 96/100\n",
      "250/250 [==============================] - 2s 7ms/step - loss: 0.5082 - accuracy: 0.7945\n",
      "Epoch 97/100\n",
      "250/250 [==============================] - 2s 7ms/step - loss: 0.5082 - accuracy: 0.7945\n",
      "Epoch 98/100\n",
      "250/250 [==============================] - 2s 8ms/step - loss: 0.5082 - accuracy: 0.7945\n",
      "Epoch 99/100\n",
      "250/250 [==============================] - 2s 8ms/step - loss: 0.5082 - accuracy: 0.7945\n",
      "Epoch 100/100\n",
      "250/250 [==============================] - 2s 6ms/step - loss: 0.5083 - accuracy: 0.7945\n"
     ]
    },
    {
     "data": {
      "text/plain": [
       "<keras.src.callbacks.History at 0x27a17e6fbd0>"
      ]
     },
     "execution_count": 82,
     "metadata": {},
     "output_type": "execute_result"
    }
   ],
   "source": [
    "model = Sequential([\n",
    "    Dense(256, activation='relu', input_shape=(X_train.shape[1],)),\n",
    "    Dense(128, activation='relu'),\n",
    "    Dense(64, activation='relu'),\n",
    "    Dense(32, activation='relu'),\n",
    "    Dense(16, activation='relu'),\n",
    "    Dense(2, activation='softmax')\n",
    "])\n",
    "model.compile(optimizer='adam', loss='categorical_crossentropy', metrics=['accuracy'])\n",
    "model.fit(X_train, to_categorical(y_train, num_classes=2), epochs=100)"
   ]
  },
  {
   "cell_type": "code",
   "execution_count": 83,
   "id": "cc1715db-0cc5-4d59-bb3f-3f206a6fc684",
   "metadata": {},
   "outputs": [
    {
     "name": "stdout",
     "output_type": "stream",
     "text": [
      "63/63 [==============================] - 1s 3ms/step - loss: 0.4959 - accuracy: 0.8035\n",
      "Loss: 0.4958919286727905\n",
      "Accuracy: 0.8034999966621399\n"
     ]
    }
   ],
   "source": [
    "loss, acc = model.evaluate(X_test, to_categorical(y_test, num_classes=2))\n",
    "print(\"Loss:\", loss)\n",
    "print(\"Accuracy:\", acc)"
   ]
  },
  {
   "cell_type": "markdown",
   "id": "532a0766-e842-4364-ac88-82a99cab49ae",
   "metadata": {},
   "source": [
    "## Exploring: Parameter tuning for Random Forest"
   ]
  },
  {
   "cell_type": "code",
   "execution_count": 87,
   "id": "3b340e10-c480-4625-a68e-d0858091fab7",
   "metadata": {},
   "outputs": [],
   "source": [
    "# Example with Random Forest Classifier\n",
    "param_grid = {\n",
    "    'n_estimators': [100, 200, 300],\n",
    "    'max_depth': [None, 10, 20],\n",
    "    'min_samples_split': [2, 5, 10],\n",
    "    'min_samples_leaf': [1, 2, 4]\n",
    "}\n"
   ]
  },
  {
   "cell_type": "code",
   "execution_count": 84,
   "id": "467e6918-b5f2-49d8-ada1-82b6d5d37907",
   "metadata": {},
   "outputs": [
    {
     "name": "stdout",
     "output_type": "stream",
     "text": [
      "Fitting 5 folds for each of 81 candidates, totalling 405 fits\n",
      "Best parameters found:  {'max_depth': None, 'min_samples_leaf': 1, 'min_samples_split': 10, 'n_estimators': 300}\n",
      "              precision    recall  f1-score   support\n",
      "\n",
      "           0       0.88      0.97      0.92      1607\n",
      "           1       0.76      0.45      0.57       393\n",
      "\n",
      "    accuracy                           0.86      2000\n",
      "   macro avg       0.82      0.71      0.74      2000\n",
      "weighted avg       0.86      0.86      0.85      2000\n",
      "\n"
     ]
    }
   ],
   "source": [
    "rf = RandomForestClassifier(random_state=42)\n",
    "grid_search = GridSearchCV(estimator=rf, param_grid=param_grid, cv=5, scoring='accuracy', verbose=2, n_jobs=-1)\n",
    "grid_search.fit(X_train, y_train)\n",
    "\n",
    "print(\"Best parameters found: \", grid_search.best_params_)\n",
    "best_model = grid_search.best_estimator_\n",
    "\n",
    "# Evaluate on test set\n",
    "y_pred = best_model.predict(X_test)\n",
    "print(classification_report(y_test, y_pred))"
   ]
  },
  {
   "cell_type": "markdown",
   "id": "4bcc0341-2fd0-4d66-930a-e96f1a0e7fd2",
   "metadata": {},
   "source": [
    "<br>From this we can conclude that Random Forest and GradBoost are classifying the Customer Churn better. <br>\n",
    "Hence, a model to classify Customer Churn was successfully built with an accuracy of 86%"
   ]
  }
 ],
 "metadata": {
  "kernelspec": {
   "display_name": "Python 3 (ipykernel)",
   "language": "python",
   "name": "python3"
  },
  "language_info": {
   "codemirror_mode": {
    "name": "ipython",
    "version": 3
   },
   "file_extension": ".py",
   "mimetype": "text/x-python",
   "name": "python",
   "nbconvert_exporter": "python",
   "pygments_lexer": "ipython3",
   "version": "3.11.0"
  }
 },
 "nbformat": 4,
 "nbformat_minor": 5
}
